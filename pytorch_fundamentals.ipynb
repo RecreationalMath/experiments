{
  "nbformat": 4,
  "nbformat_minor": 0,
  "metadata": {
    "colab": {
      "provenance": [],
      "collapsed_sections": [
        "BnA1TVlU7qEH",
        "G5f_CrQx7zIg",
        "y2U-q6eD9gM3",
        "--DwXMOcAWpt",
        "Mw1SH2fNAkU6",
        "hMeAFW8DBxxx",
        "KMzYAmPVEuJH",
        "oxpMoX6xHdCn",
        "UlK47z6_Ji8x",
        "ANPULsJ4G2Yr",
        "14RIn1a7IrNo",
        "ZD9rPMc_KOmH",
        "Sg_p-vzxLJQD",
        "ovENYVVBO0cM",
        "2OYTebIZVeWm",
        "YJNfG7_QhzvJ",
        "Q3NR4w9DonKT",
        "n91q687ywxCw",
        "nVynau3KxN9D",
        "o2rbhsllzWHY",
        "7QDJOzUd6wwo",
        "u8PAYJ1W62dN",
        "ZTYy6Syy7hcR",
        "3B0bD2b08S2z",
        "2XJaT6oh8xiJ",
        "0ExLJXwl9qex",
        "rQKA0dkx-uct",
        "ZhhiZ133-4bp",
        "Idzxrat3FWJA",
        "u1Jzz7iRLmuZ",
        "GRyPXTtZUVVr",
        "u6LTL3C4Ubnm",
        "poSnCmi8Un1w",
        "AYOGNjc5UtTW",
        "ZktFBnVPrb_G",
        "05Oyda8DpGhg",
        "JoDsNvxDKvZS"
      ],
      "authorship_tag": "ABX9TyOb+u0YFLWaDHhNnSY+SQkE",
      "include_colab_link": true
    },
    "kernelspec": {
      "name": "python3",
      "display_name": "Python 3"
    },
    "language_info": {
      "name": "python"
    }
  },
  "cells": [
    {
      "cell_type": "markdown",
      "metadata": {
        "id": "view-in-github",
        "colab_type": "text"
      },
      "source": [
        "<a href=\"https://colab.research.google.com/github/RecreationalMath/experiments/blob/main/pytorch_fundamentals.ipynb\" target=\"_parent\"><img src=\"https://colab.research.google.com/assets/colab-badge.svg\" alt=\"Open In Colab\"/></a>"
      ]
    },
    {
      "cell_type": "code",
      "execution_count": null,
      "metadata": {
        "colab": {
          "base_uri": "https://localhost:8080/"
        },
        "id": "giQSrV0OurgB",
        "outputId": "e5cc6356-01e1-426f-bbbf-b1f3a48d7cdc"
      },
      "outputs": [
        {
          "output_type": "stream",
          "name": "stdout",
          "text": [
            "2.8.0+cu126\n"
          ]
        }
      ],
      "source": [
        "import torch\n",
        "print(torch.__version__)"
      ]
    },
    {
      "cell_type": "code",
      "source": [
        "if torch.cuda.is_available():\n",
        "  print(\"GPU is available!\")\n",
        "  print(f\"Using GPU: {torch.cuda.get_device_name(0)}\")\n",
        "else:\n",
        "  print(\"GPU not available. Using CPU.\")"
      ],
      "metadata": {
        "id": "Hu-H6iyI0zBa",
        "colab": {
          "base_uri": "https://localhost:8080/"
        },
        "outputId": "33604284-7490-469e-a33d-da21b204a142"
      },
      "execution_count": null,
      "outputs": [
        {
          "output_type": "stream",
          "name": "stdout",
          "text": [
            "GPU not available. Using CPU.\n"
          ]
        }
      ]
    },
    {
      "cell_type": "markdown",
      "source": [
        "# 1. Creating Tensors"
      ],
      "metadata": {
        "id": "BnA1TVlU7qEH"
      }
    },
    {
      "cell_type": "code",
      "source": [
        "# using empty\n",
        "a = torch.empty(2,3)\n",
        "print(a)"
      ],
      "metadata": {
        "colab": {
          "base_uri": "https://localhost:8080/"
        },
        "id": "SJhk4Tvo1TNa",
        "outputId": "149b96a2-f735-4a81-8d3f-b7d68240abd4"
      },
      "execution_count": null,
      "outputs": [
        {
          "output_type": "stream",
          "name": "stdout",
          "text": [
            "tensor([[-7.6061e+31,  4.4619e-41,  7.7052e+31],\n",
            "        [ 1.9447e+31,  2.1715e-18,  2.3081e-12]])\n"
          ]
        }
      ]
    },
    {
      "cell_type": "code",
      "source": [
        "# using type\n",
        "type(a)"
      ],
      "metadata": {
        "colab": {
          "base_uri": "https://localhost:8080/"
        },
        "id": "s5TQJSE62GYR",
        "outputId": "8e54d5ca-e897-42f5-d514-4659de07cb0a"
      },
      "execution_count": null,
      "outputs": [
        {
          "output_type": "execute_result",
          "data": {
            "text/plain": [
              "torch.Tensor"
            ]
          },
          "metadata": {},
          "execution_count": 4
        }
      ]
    },
    {
      "cell_type": "code",
      "source": [
        "# using zeros\n",
        "b = torch.zeros(2,3)\n",
        "print(b)\n",
        "type(b)"
      ],
      "metadata": {
        "colab": {
          "base_uri": "https://localhost:8080/"
        },
        "id": "1vrfBfDg2W5d",
        "outputId": "1d4b1aac-20fd-40e8-d399-a1aec922feab"
      },
      "execution_count": null,
      "outputs": [
        {
          "output_type": "stream",
          "name": "stdout",
          "text": [
            "tensor([[0., 0., 0.],\n",
            "        [0., 0., 0.]])\n"
          ]
        },
        {
          "output_type": "execute_result",
          "data": {
            "text/plain": [
              "torch.Tensor"
            ]
          },
          "metadata": {},
          "execution_count": 5
        }
      ]
    },
    {
      "cell_type": "code",
      "source": [
        "# using ones\n",
        "c = torch.ones(2,3)\n",
        "print(c)\n",
        "type(c)"
      ],
      "metadata": {
        "colab": {
          "base_uri": "https://localhost:8080/"
        },
        "id": "LwIuhjYF2fSN",
        "outputId": "422f893d-530b-404b-a4ae-ab94f9e5c51f"
      },
      "execution_count": null,
      "outputs": [
        {
          "output_type": "stream",
          "name": "stdout",
          "text": [
            "tensor([[1., 1., 1.],\n",
            "        [1., 1., 1.]])\n"
          ]
        },
        {
          "output_type": "execute_result",
          "data": {
            "text/plain": [
              "torch.Tensor"
            ]
          },
          "metadata": {},
          "execution_count": 6
        }
      ]
    },
    {
      "cell_type": "code",
      "source": [
        "# using rand\n",
        "torch.rand(2,3)\n",
        "# creates a tensor of given shape\n",
        "# and initializes value of each cell to a random number between 0 and 1"
      ],
      "metadata": {
        "colab": {
          "base_uri": "https://localhost:8080/"
        },
        "id": "Utv-vJnQ2r7I",
        "outputId": "4809933c-d12d-460b-ed1f-e7eaf93b60ec"
      },
      "execution_count": null,
      "outputs": [
        {
          "output_type": "execute_result",
          "data": {
            "text/plain": [
              "tensor([[0.0498, 0.6623, 0.4435],\n",
              "        [0.1781, 0.4519, 0.2444]])"
            ]
          },
          "metadata": {},
          "execution_count": 8
        }
      ]
    },
    {
      "cell_type": "code",
      "source": [
        "# use of seed\n",
        "torch.manual_seed(100)\n",
        "torch.rand(2,3)"
      ],
      "metadata": {
        "colab": {
          "base_uri": "https://localhost:8080/"
        },
        "id": "zGvXbkSf2xw8",
        "outputId": "05046e77-e4d6-45b4-b497-3000e5bec8f6"
      },
      "execution_count": null,
      "outputs": [
        {
          "output_type": "execute_result",
          "data": {
            "text/plain": [
              "tensor([[0.1117, 0.8158, 0.2626],\n",
              "        [0.4839, 0.6765, 0.7539]])"
            ]
          },
          "metadata": {},
          "execution_count": 10
        }
      ]
    },
    {
      "cell_type": "code",
      "source": [
        "# using tensor\n",
        "torch.tensor([[1,2,3],[4,5,6]])"
      ],
      "metadata": {
        "colab": {
          "base_uri": "https://localhost:8080/"
        },
        "id": "lMpb_gjl3XS8",
        "outputId": "342681a6-54be-4777-eed7-22295f09080c"
      },
      "execution_count": null,
      "outputs": [
        {
          "output_type": "execute_result",
          "data": {
            "text/plain": [
              "tensor([[1, 2, 3],\n",
              "        [4, 5, 6]])"
            ]
          },
          "metadata": {},
          "execution_count": 11
        }
      ]
    },
    {
      "cell_type": "code",
      "source": [
        "# using arange\n",
        "torch.arange(0,8,2)\n",
        "# creates a 1-D tensor with values ranging between start, end at equi-distant steps as specified by 3rd argument\n",
        "# default value of step is 1"
      ],
      "metadata": {
        "colab": {
          "base_uri": "https://localhost:8080/"
        },
        "id": "JhmpYzsq5IDC",
        "outputId": "b308c3e8-23f1-4125-e6f0-0f566c8b6f60"
      },
      "execution_count": null,
      "outputs": [
        {
          "output_type": "execute_result",
          "data": {
            "text/plain": [
              "tensor([0, 2, 4, 6])"
            ]
          },
          "metadata": {},
          "execution_count": 12
        }
      ]
    },
    {
      "cell_type": "code",
      "source": [
        "# using linspace\n",
        "torch.linspace(0,10,5)\n",
        "# creates a 1-D tensor with linearly spaced values between [start, end) as specified by the num_of_values as the 3rd argument"
      ],
      "metadata": {
        "colab": {
          "base_uri": "https://localhost:8080/"
        },
        "id": "MxmgriQ75kCg",
        "outputId": "e425b799-2cb8-4acc-95a6-01f03bb2e33d"
      },
      "execution_count": null,
      "outputs": [
        {
          "output_type": "execute_result",
          "data": {
            "text/plain": [
              "tensor([ 0.0000,  2.5000,  5.0000,  7.5000, 10.0000])"
            ]
          },
          "metadata": {},
          "execution_count": 13
        }
      ]
    },
    {
      "cell_type": "code",
      "source": [
        "# using eye\n",
        "torch.eye(5)\n",
        "# creates identity matrix with size specified by argument"
      ],
      "metadata": {
        "colab": {
          "base_uri": "https://localhost:8080/"
        },
        "id": "0ka5Fc5D6HdK",
        "outputId": "0c7e1b74-a7cc-4f4c-8892-c4213b460bfa"
      },
      "execution_count": null,
      "outputs": [
        {
          "output_type": "execute_result",
          "data": {
            "text/plain": [
              "tensor([[1., 0., 0., 0., 0.],\n",
              "        [0., 1., 0., 0., 0.],\n",
              "        [0., 0., 1., 0., 0.],\n",
              "        [0., 0., 0., 1., 0.],\n",
              "        [0., 0., 0., 0., 1.]])"
            ]
          },
          "metadata": {},
          "execution_count": 14
        }
      ]
    },
    {
      "cell_type": "code",
      "source": [
        "# using full\n",
        "torch.full([2,3,4],3)\n",
        "# creates a tensor of specified shape (shape is the first argument) and the value for each cell in that tensor"
      ],
      "metadata": {
        "colab": {
          "base_uri": "https://localhost:8080/"
        },
        "id": "tKt7ySJ368HF",
        "outputId": "1feed7ca-56b5-45bf-c878-0e583818d95c"
      },
      "execution_count": null,
      "outputs": [
        {
          "output_type": "execute_result",
          "data": {
            "text/plain": [
              "tensor([[[3, 3, 3, 3],\n",
              "         [3, 3, 3, 3],\n",
              "         [3, 3, 3, 3]],\n",
              "\n",
              "        [[3, 3, 3, 3],\n",
              "         [3, 3, 3, 3],\n",
              "         [3, 3, 3, 3]]])"
            ]
          },
          "metadata": {},
          "execution_count": 17
        }
      ]
    },
    {
      "cell_type": "markdown",
      "source": [
        "# 2. Tensor Shapes"
      ],
      "metadata": {
        "id": "G5f_CrQx7zIg"
      }
    },
    {
      "cell_type": "code",
      "source": [
        "x = torch.tensor([[1,2,3],[4,5,6]])\n",
        "# finding shape of a tensor\n",
        "x.shape"
      ],
      "metadata": {
        "colab": {
          "base_uri": "https://localhost:8080/"
        },
        "id": "ok_o50cM7Bw2",
        "outputId": "bd83396f-30aa-4fef-f658-96523dcc44f4"
      },
      "execution_count": null,
      "outputs": [
        {
          "output_type": "execute_result",
          "data": {
            "text/plain": [
              "torch.Size([2, 3])"
            ]
          },
          "metadata": {},
          "execution_count": 18
        }
      ]
    },
    {
      "cell_type": "code",
      "source": [
        "# creating a new empty tensor of shape similar to another tensor\n",
        "torch.empty_like(x)"
      ],
      "metadata": {
        "colab": {
          "base_uri": "https://localhost:8080/"
        },
        "id": "uPlCnJPJ7-m2",
        "outputId": "2a7d28a7-0f3c-4291-b249-e7ecc347e5bd"
      },
      "execution_count": null,
      "outputs": [
        {
          "output_type": "execute_result",
          "data": {
            "text/plain": [
              "tensor([[              0,       754082192,       758885536],\n",
              "        [136755757489184,               0,               0]])"
            ]
          },
          "metadata": {},
          "execution_count": 19
        }
      ]
    },
    {
      "cell_type": "code",
      "source": [
        "# creating a new zeros tensor of shape similar to another tensor\n",
        "torch.zeros_like(x)"
      ],
      "metadata": {
        "colab": {
          "base_uri": "https://localhost:8080/"
        },
        "id": "i9WnkQrK8-X1",
        "outputId": "0d62265e-f87d-4c87-d684-6bf378146956"
      },
      "execution_count": null,
      "outputs": [
        {
          "output_type": "execute_result",
          "data": {
            "text/plain": [
              "tensor([[0, 0, 0],\n",
              "        [0, 0, 0]])"
            ]
          },
          "metadata": {},
          "execution_count": 20
        }
      ]
    },
    {
      "cell_type": "code",
      "source": [
        "# creating a new ones tensor of shape similar to another tensor\n",
        "torch.ones_like(x)"
      ],
      "metadata": {
        "colab": {
          "base_uri": "https://localhost:8080/"
        },
        "id": "C1ObGnLR9AYm",
        "outputId": "b3d20a61-e978-4e3f-cd53-18345d016261"
      },
      "execution_count": null,
      "outputs": [
        {
          "output_type": "execute_result",
          "data": {
            "text/plain": [
              "tensor([[1, 1, 1],\n",
              "        [1, 1, 1]])"
            ]
          },
          "metadata": {},
          "execution_count": 21
        }
      ]
    },
    {
      "cell_type": "code",
      "source": [
        "# creating a new random tensor of shape similar to another tensor\n",
        "torch.rand_like(x, dtype=torch.float32)"
      ],
      "metadata": {
        "colab": {
          "base_uri": "https://localhost:8080/"
        },
        "id": "Xk519JAV9Ea6",
        "outputId": "024fd668-5631-4afe-ead5-7bbd3a63e86f"
      },
      "execution_count": null,
      "outputs": [
        {
          "output_type": "execute_result",
          "data": {
            "text/plain": [
              "tensor([[0.2627, 0.0428, 0.2080],\n",
              "        [0.1180, 0.1217, 0.7356]])"
            ]
          },
          "metadata": {},
          "execution_count": 22
        }
      ]
    },
    {
      "cell_type": "markdown",
      "source": [
        "# 3. Data Types"
      ],
      "metadata": {
        "id": "y2U-q6eD9gM3"
      }
    },
    {
      "cell_type": "code",
      "source": [
        "# find data type\n",
        "x = torch.tensor([[1,2,3],[4,5,6]])\n",
        "x.dtype"
      ],
      "metadata": {
        "colab": {
          "base_uri": "https://localhost:8080/"
        },
        "id": "cE-FN0pn9hvT",
        "outputId": "0c67ea75-91df-47b3-c5da-e979c752bd3e"
      },
      "execution_count": null,
      "outputs": [
        {
          "output_type": "execute_result",
          "data": {
            "text/plain": [
              "torch.int64"
            ]
          },
          "metadata": {},
          "execution_count": 23
        }
      ]
    },
    {
      "cell_type": "code",
      "source": [
        "# assign data type while creating a tensor\n",
        "xi = torch.tensor([1.0,2.0,3.0], dtype=torch.int32)\n",
        "xi.dtype"
      ],
      "metadata": {
        "colab": {
          "base_uri": "https://localhost:8080/"
        },
        "id": "WobL5uKY9nq3",
        "outputId": "70fbc372-55ee-4e4f-ad69-e655957244a6"
      },
      "execution_count": null,
      "outputs": [
        {
          "output_type": "execute_result",
          "data": {
            "text/plain": [
              "torch.int32"
            ]
          },
          "metadata": {},
          "execution_count": 24
        }
      ]
    },
    {
      "cell_type": "code",
      "source": [
        "xf = torch.tensor([1,2,3], dtype=torch.float64)\n",
        "xf.dtype"
      ],
      "metadata": {
        "colab": {
          "base_uri": "https://localhost:8080/"
        },
        "id": "l3DNr8kC96H7",
        "outputId": "47a93a57-d0d6-4c60-a254-e4c249bbe040"
      },
      "execution_count": null,
      "outputs": [
        {
          "output_type": "execute_result",
          "data": {
            "text/plain": [
              "torch.float64"
            ]
          },
          "metadata": {},
          "execution_count": 25
        }
      ]
    },
    {
      "cell_type": "code",
      "source": [
        "# change data type of an existing tensor using to()\n",
        "xnew = xi.to(torch.float32)\n",
        "xnew.dtype"
      ],
      "metadata": {
        "colab": {
          "base_uri": "https://localhost:8080/"
        },
        "id": "vfHgk0L9-T8h",
        "outputId": "3e5ea298-5142-4131-8bd8-be487a7c862e"
      },
      "execution_count": null,
      "outputs": [
        {
          "output_type": "execute_result",
          "data": {
            "text/plain": [
              "torch.float32"
            ]
          },
          "metadata": {},
          "execution_count": 26
        }
      ]
    },
    {
      "cell_type": "markdown",
      "source": [
        "**All data types available in pytorch**"
      ],
      "metadata": {
        "id": "EVx76RO2_yrK"
      }
    },
    {
      "cell_type": "markdown",
      "source": [
        "| **Data Type**             | **Dtype**         | **Description**                                                                                                                                                                |\n",
        "|---------------------------|-------------------|--------------------------------------------------------------------------------------------------------------------------------------------------------------------------------|\n",
        "| **32-bit Floating Point** | `torch.float32`   | Standard floating-point type used for most deep learning tasks. Provides a balance between precision and memory usage.                                                         |\n",
        "| **64-bit Floating Point** | `torch.float64`   | Double-precision floating point. Useful for high-precision numerical tasks but uses more memory.                                                                               |\n",
        "| **16-bit Floating Point** | `torch.float16`   | Half-precision floating point. Commonly used in mixed-precision training to reduce memory and computational overhead on modern GPUs.                                            |\n",
        "| **BFloat16**              | `torch.bfloat16`  | Brain floating-point format with reduced precision compared to `float16`. Used in mixed-precision training, especially on TPUs.                                                |\n",
        "| **8-bit Floating Point**  | `torch.float8`    | Ultra-low-precision floating point. Used for experimental applications and extreme memory-constrained environments (less common).                                               |\n",
        "| **8-bit Integer**         | `torch.int8`      | 8-bit signed integer. Used for quantized models to save memory and computation in inference.                                                                                   |\n",
        "| **16-bit Integer**        | `torch.int16`     | 16-bit signed integer. Useful for special numerical tasks requiring intermediate precision.                                                                                    |\n",
        "| **32-bit Integer**        | `torch.int32`     | Standard signed integer type. Commonly used for indexing and general-purpose numerical tasks.                                                                                  |\n",
        "| **64-bit Integer**        | `torch.int64`     | Long integer type. Often used for large indexing arrays or for tasks involving large numbers.                                                                                  |\n",
        "| **8-bit Unsigned Integer**| `torch.uint8`     | 8-bit unsigned integer. Commonly used for image data (e.g., pixel values between 0 and 255).                                                                                    |\n",
        "| **Boolean**               | `torch.bool`      | Boolean type, stores `True` or `False` values. Often used for masks in logical operations.                                                                                      |\n",
        "| **Complex 64**            | `torch.complex64` | Complex number type with 32-bit real and 32-bit imaginary parts. Used for scientific and signal processing tasks.                                                               |\n",
        "| **Complex 128**           | `torch.complex128`| Complex number type with 64-bit real and 64-bit imaginary parts. Offers higher precision but uses more memory.                                                                 |\n",
        "| **Quantized Integer**     | `torch.qint8`     | Quantized signed 8-bit integer. Used in quantized models for efficient inference.                                                                                              |\n",
        "| **Quantized Unsigned Integer** | `torch.quint8` | Quantized unsigned 8-bit integer. Often used for quantized tensors in image-related tasks.                                                                                     |\n"
      ],
      "metadata": {
        "id": "bAgtP6aP_ux7"
      }
    },
    {
      "cell_type": "markdown",
      "source": [
        "# 4. Mathematical Operations\n",
        "\n",
        "All these operations result in a new tensor, leaving the original tensors as is."
      ],
      "metadata": {
        "id": "--DwXMOcAWpt"
      }
    },
    {
      "cell_type": "markdown",
      "source": [
        "## 4.1 Scaler Operations\n",
        "Operations between a scaler and a tensor"
      ],
      "metadata": {
        "id": "Mw1SH2fNAkU6"
      }
    },
    {
      "cell_type": "code",
      "source": [
        "x = torch.rand(2,2)\n",
        "x"
      ],
      "metadata": {
        "colab": {
          "base_uri": "https://localhost:8080/"
        },
        "id": "_2GDMd8S_w-L",
        "outputId": "a2fe4c7c-e86c-4e2a-961c-ee375a6a2134"
      },
      "execution_count": null,
      "outputs": [
        {
          "output_type": "execute_result",
          "data": {
            "text/plain": [
              "tensor([[0.7118, 0.7876],\n",
              "        [0.4183, 0.9014]])"
            ]
          },
          "metadata": {},
          "execution_count": 27
        }
      ]
    },
    {
      "cell_type": "code",
      "source": [
        "# addition\n",
        "x += 2\n",
        "x"
      ],
      "metadata": {
        "colab": {
          "base_uri": "https://localhost:8080/"
        },
        "id": "p13EHP2BApcd",
        "outputId": "2fd7db5a-f8c1-438b-99b7-9e9162369915"
      },
      "execution_count": null,
      "outputs": [
        {
          "output_type": "execute_result",
          "data": {
            "text/plain": [
              "tensor([[2.7118, 2.7876],\n",
              "        [2.4183, 2.9014]])"
            ]
          },
          "metadata": {},
          "execution_count": 28
        }
      ]
    },
    {
      "cell_type": "code",
      "source": [
        "# subtraction\n",
        "x -= 2\n",
        "x"
      ],
      "metadata": {
        "colab": {
          "base_uri": "https://localhost:8080/"
        },
        "id": "OGSQ8HBrAytI",
        "outputId": "348a7329-d1e4-4bb8-e096-f7e5514e55ba"
      },
      "execution_count": null,
      "outputs": [
        {
          "output_type": "execute_result",
          "data": {
            "text/plain": [
              "tensor([[0.7118, 0.7876],\n",
              "        [0.4183, 0.9014]])"
            ]
          },
          "metadata": {},
          "execution_count": 29
        }
      ]
    },
    {
      "cell_type": "code",
      "source": [
        "# multiplication\n",
        "x *= 10\n",
        "x"
      ],
      "metadata": {
        "colab": {
          "base_uri": "https://localhost:8080/"
        },
        "id": "RoimsXMTA1-l",
        "outputId": "f43748a7-fc76-430c-b634-eb0da6d47485"
      },
      "execution_count": null,
      "outputs": [
        {
          "output_type": "execute_result",
          "data": {
            "text/plain": [
              "tensor([[7.1177, 7.8758],\n",
              "        [4.1831, 9.0141]])"
            ]
          },
          "metadata": {},
          "execution_count": 30
        }
      ]
    },
    {
      "cell_type": "code",
      "source": [
        "# division\n",
        "x /= 2\n",
        "x"
      ],
      "metadata": {
        "colab": {
          "base_uri": "https://localhost:8080/"
        },
        "id": "67je1x5TA7CX",
        "outputId": "1209b681-8f05-48c8-deec-8e981275e1d5"
      },
      "execution_count": null,
      "outputs": [
        {
          "output_type": "execute_result",
          "data": {
            "text/plain": [
              "tensor([[3.5588, 3.9379],\n",
              "        [2.0915, 4.5071]])"
            ]
          },
          "metadata": {},
          "execution_count": 31
        }
      ]
    },
    {
      "cell_type": "code",
      "source": [
        "# integer division\n",
        "x //= 2\n",
        "x"
      ],
      "metadata": {
        "colab": {
          "base_uri": "https://localhost:8080/"
        },
        "id": "XuibZeD4BBRQ",
        "outputId": "ed9c2e85-9521-43c7-deb4-31519f705fcb"
      },
      "execution_count": null,
      "outputs": [
        {
          "output_type": "execute_result",
          "data": {
            "text/plain": [
              "tensor([[1., 1.],\n",
              "        [1., 2.]])"
            ]
          },
          "metadata": {},
          "execution_count": 32
        }
      ]
    },
    {
      "cell_type": "code",
      "source": [
        "x += 10\n",
        "x"
      ],
      "metadata": {
        "colab": {
          "base_uri": "https://localhost:8080/"
        },
        "id": "X1nUnlmlCMlm",
        "outputId": "e46612a5-d26e-4e64-9aad-203cabd811aa"
      },
      "execution_count": null,
      "outputs": [
        {
          "output_type": "execute_result",
          "data": {
            "text/plain": [
              "tensor([[11., 11.],\n",
              "        [11., 12.]])"
            ]
          },
          "metadata": {},
          "execution_count": 33
        }
      ]
    },
    {
      "cell_type": "code",
      "source": [
        "# modulo\n",
        "x = x%2\n",
        "x"
      ],
      "metadata": {
        "colab": {
          "base_uri": "https://localhost:8080/"
        },
        "id": "dyYalaOHCT99",
        "outputId": "ed6ac511-343d-4679-9224-2a0dc9b905a9"
      },
      "execution_count": null,
      "outputs": [
        {
          "output_type": "execute_result",
          "data": {
            "text/plain": [
              "tensor([[1., 1.],\n",
              "        [1., 0.]])"
            ]
          },
          "metadata": {},
          "execution_count": 34
        }
      ]
    },
    {
      "cell_type": "code",
      "source": [
        "# power\n",
        "x **= 2\n",
        "x"
      ],
      "metadata": {
        "colab": {
          "base_uri": "https://localhost:8080/"
        },
        "id": "UhcpKuGZCe_H",
        "outputId": "789ba5bd-b875-43ec-fc2b-704952929985"
      },
      "execution_count": null,
      "outputs": [
        {
          "output_type": "execute_result",
          "data": {
            "text/plain": [
              "tensor([[1., 1.],\n",
              "        [1., 0.]])"
            ]
          },
          "metadata": {},
          "execution_count": 35
        }
      ]
    },
    {
      "cell_type": "markdown",
      "source": [
        "## 4.2 Element-wise operations"
      ],
      "metadata": {
        "id": "hMeAFW8DBxxx"
      }
    },
    {
      "cell_type": "code",
      "source": [
        "a = torch.rand(2,3)\n",
        "print(a)\n",
        "b = torch.rand(2,3)\n",
        "print(b)"
      ],
      "metadata": {
        "colab": {
          "base_uri": "https://localhost:8080/"
        },
        "id": "laE4L1BKBDe3",
        "outputId": "af102451-1358-42cd-c0e8-6feb110262a2"
      },
      "execution_count": null,
      "outputs": [
        {
          "output_type": "stream",
          "name": "stdout",
          "text": [
            "tensor([[0.9969, 0.7565, 0.2239],\n",
            "        [0.3023, 0.1784, 0.8238]])\n",
            "tensor([[0.5557, 0.9770, 0.4440],\n",
            "        [0.9478, 0.7445, 0.4892]])\n"
          ]
        }
      ]
    },
    {
      "cell_type": "code",
      "source": [
        "# addition\n",
        "c = a + b\n",
        "print(c)"
      ],
      "metadata": {
        "colab": {
          "base_uri": "https://localhost:8080/"
        },
        "id": "BUkSV0eFC0wP",
        "outputId": "72df0f3f-c69a-492d-8591-650e28b1550d"
      },
      "execution_count": null,
      "outputs": [
        {
          "output_type": "stream",
          "name": "stdout",
          "text": [
            "tensor([[1.5526, 1.7335, 0.6679],\n",
            "        [1.2502, 0.9229, 1.3130]])\n"
          ]
        }
      ]
    },
    {
      "cell_type": "code",
      "source": [
        "# subtraction\n",
        "c = a - b\n",
        "c"
      ],
      "metadata": {
        "colab": {
          "base_uri": "https://localhost:8080/"
        },
        "id": "rGBNn5F5C-wU",
        "outputId": "6a3fc0ef-520a-4fb3-d495-883e6abfe0e2"
      },
      "execution_count": null,
      "outputs": [
        {
          "output_type": "execute_result",
          "data": {
            "text/plain": [
              "tensor([[ 0.4411, -0.2205, -0.2201],\n",
              "        [-0.6455, -0.5661,  0.3346]])"
            ]
          },
          "metadata": {},
          "execution_count": 38
        }
      ]
    },
    {
      "cell_type": "code",
      "source": [
        "# multiplication\n",
        "c = a * b\n",
        "c"
      ],
      "metadata": {
        "colab": {
          "base_uri": "https://localhost:8080/"
        },
        "id": "s1I3JjTpDFs2",
        "outputId": "07b68afe-8e31-409e-cecc-49cee3d9ea7f"
      },
      "execution_count": null,
      "outputs": [
        {
          "output_type": "execute_result",
          "data": {
            "text/plain": [
              "tensor([[0.5540, 0.7391, 0.0994],\n",
              "        [0.2866, 0.1328, 0.4030]])"
            ]
          },
          "metadata": {},
          "execution_count": 39
        }
      ]
    },
    {
      "cell_type": "code",
      "source": [
        "# division\n",
        "c = a / b\n",
        "c"
      ],
      "metadata": {
        "colab": {
          "base_uri": "https://localhost:8080/"
        },
        "id": "oaXEEmSMDJvW",
        "outputId": "d5492355-b716-4835-cc44-61d36b304713"
      },
      "execution_count": null,
      "outputs": [
        {
          "output_type": "execute_result",
          "data": {
            "text/plain": [
              "tensor([[1.7938, 0.7743, 0.5042],\n",
              "        [0.3190, 0.2397, 1.6841]])"
            ]
          },
          "metadata": {},
          "execution_count": 40
        }
      ]
    },
    {
      "cell_type": "code",
      "source": [
        "# power\n",
        "c = a ** b\n",
        "c"
      ],
      "metadata": {
        "colab": {
          "base_uri": "https://localhost:8080/"
        },
        "id": "WaelwdtLDMIz",
        "outputId": "4b8cc7b4-c5ed-4500-ca96-02ef149d2bde"
      },
      "execution_count": null,
      "outputs": [
        {
          "output_type": "execute_result",
          "data": {
            "text/plain": [
              "tensor([[0.9983, 0.7614, 0.5145],\n",
              "        [0.3218, 0.2771, 0.9096]])"
            ]
          },
          "metadata": {},
          "execution_count": 41
        }
      ]
    },
    {
      "cell_type": "code",
      "source": [
        "# modulo\n",
        "c = a % b\n",
        "c"
      ],
      "metadata": {
        "colab": {
          "base_uri": "https://localhost:8080/"
        },
        "id": "czTNRnLUDS8h",
        "outputId": "9eebb5da-66da-4b76-afa9-ef6d6fdd6987"
      },
      "execution_count": null,
      "outputs": [
        {
          "output_type": "execute_result",
          "data": {
            "text/plain": [
              "tensor([[0.4411, 0.7565, 0.2239],\n",
              "        [0.3023, 0.1784, 0.3346]])"
            ]
          },
          "metadata": {},
          "execution_count": 42
        }
      ]
    },
    {
      "cell_type": "code",
      "source": [
        "c = torch.tensor([1, -2, 3, -4])"
      ],
      "metadata": {
        "id": "366NDpTADWKX"
      },
      "execution_count": null,
      "outputs": []
    },
    {
      "cell_type": "code",
      "source": [
        "# abs\n",
        "ca = torch.abs(c)\n",
        "ca"
      ],
      "metadata": {
        "colab": {
          "base_uri": "https://localhost:8080/"
        },
        "id": "vc1h2WhIDd2U",
        "outputId": "d516fdaa-6a6f-4385-fc4d-1b01d06c40ef"
      },
      "execution_count": null,
      "outputs": [
        {
          "output_type": "execute_result",
          "data": {
            "text/plain": [
              "tensor([1, 2, 3, 4])"
            ]
          },
          "metadata": {},
          "execution_count": 45
        }
      ]
    },
    {
      "cell_type": "code",
      "source": [
        "# negative\n",
        "cn = torch.neg(c)\n",
        "cn"
      ],
      "metadata": {
        "colab": {
          "base_uri": "https://localhost:8080/"
        },
        "id": "NebZ9rLsDnvo",
        "outputId": "785995ff-0438-4db0-b54e-162c32658131"
      },
      "execution_count": null,
      "outputs": [
        {
          "output_type": "execute_result",
          "data": {
            "text/plain": [
              "tensor([-1,  2, -3,  4])"
            ]
          },
          "metadata": {},
          "execution_count": 46
        }
      ]
    },
    {
      "cell_type": "code",
      "source": [
        "# round\n",
        "d = torch.tensor([1.9, 2.3, 3.6, 4.5])\n",
        "dr = torch.round(d)\n",
        "dr"
      ],
      "metadata": {
        "colab": {
          "base_uri": "https://localhost:8080/"
        },
        "id": "pMQpw-mcDsv1",
        "outputId": "aae1e464-4521-4719-8cbb-605fc12055fc"
      },
      "execution_count": null,
      "outputs": [
        {
          "output_type": "execute_result",
          "data": {
            "text/plain": [
              "tensor([2., 2., 4., 4.])"
            ]
          },
          "metadata": {},
          "execution_count": 47
        }
      ]
    },
    {
      "cell_type": "code",
      "source": [
        "# ceil\n",
        "dc = torch.ceil(d)\n",
        "dc"
      ],
      "metadata": {
        "colab": {
          "base_uri": "https://localhost:8080/"
        },
        "id": "eSG-1azmD3Hl",
        "outputId": "1f8a1dae-f4e9-45f1-be1b-d3f043c63f5d"
      },
      "execution_count": null,
      "outputs": [
        {
          "output_type": "execute_result",
          "data": {
            "text/plain": [
              "tensor([2., 3., 4., 5.])"
            ]
          },
          "metadata": {},
          "execution_count": 48
        }
      ]
    },
    {
      "cell_type": "code",
      "source": [
        "# floor\n",
        "df = torch.floor(d)\n",
        "df"
      ],
      "metadata": {
        "colab": {
          "base_uri": "https://localhost:8080/"
        },
        "id": "5LlvFKteEIZA",
        "outputId": "e02209e6-3831-4970-a3ca-ff622a4b3ad0"
      },
      "execution_count": null,
      "outputs": [
        {
          "output_type": "execute_result",
          "data": {
            "text/plain": [
              "tensor([1., 2., 3., 4.])"
            ]
          },
          "metadata": {},
          "execution_count": 49
        }
      ]
    },
    {
      "cell_type": "code",
      "source": [
        "# clamp\n",
        "dcl = torch.clamp(d,min = 2)\n",
        "dcl"
      ],
      "metadata": {
        "colab": {
          "base_uri": "https://localhost:8080/"
        },
        "id": "H2cjBkSsEL_i",
        "outputId": "b0868ef5-c2f3-4727-edeb-6733172c2f5f"
      },
      "execution_count": null,
      "outputs": [
        {
          "output_type": "execute_result",
          "data": {
            "text/plain": [
              "tensor([2.0000, 2.3000, 3.6000, 4.5000])"
            ]
          },
          "metadata": {},
          "execution_count": 50
        }
      ]
    },
    {
      "cell_type": "code",
      "source": [
        "dcl = torch.clamp(d, max= 4)\n",
        "dcl"
      ],
      "metadata": {
        "colab": {
          "base_uri": "https://localhost:8080/"
        },
        "id": "RkDNjgihER_C",
        "outputId": "396caa38-aa25-4d23-8225-483c7a2c5335"
      },
      "execution_count": null,
      "outputs": [
        {
          "output_type": "execute_result",
          "data": {
            "text/plain": [
              "tensor([1.9000, 2.3000, 3.6000, 4.0000])"
            ]
          },
          "metadata": {},
          "execution_count": 51
        }
      ]
    },
    {
      "cell_type": "code",
      "source": [
        "dcl = torch.clamp(d, min=2, max=4)\n",
        "dcl"
      ],
      "metadata": {
        "colab": {
          "base_uri": "https://localhost:8080/"
        },
        "id": "h-O4zyrrEe2k",
        "outputId": "e71aebf4-4e0c-46a1-dd52-b0545c0cfd6e"
      },
      "execution_count": null,
      "outputs": [
        {
          "output_type": "execute_result",
          "data": {
            "text/plain": [
              "tensor([2.0000, 2.3000, 3.6000, 4.0000])"
            ]
          },
          "metadata": {},
          "execution_count": 52
        }
      ]
    },
    {
      "cell_type": "markdown",
      "source": [
        "## 4.3 Reduction Operations"
      ],
      "metadata": {
        "id": "KMzYAmPVEuJH"
      }
    },
    {
      "cell_type": "code",
      "source": [
        "e = torch.randint(size= (2,3), low=1, high=10, dtype=torch.float64)\n",
        "e"
      ],
      "metadata": {
        "colab": {
          "base_uri": "https://localhost:8080/"
        },
        "id": "yODLS1NDEnKg",
        "outputId": "472eeefd-ebb8-48c6-f0cf-c3db340d09e5"
      },
      "execution_count": null,
      "outputs": [
        {
          "output_type": "execute_result",
          "data": {
            "text/plain": [
              "tensor([[7., 8., 8.],\n",
              "        [6., 7., 9.]], dtype=torch.float64)"
            ]
          },
          "metadata": {},
          "execution_count": 53
        }
      ]
    },
    {
      "cell_type": "code",
      "source": [
        "# sum\n",
        "torch.sum(e)"
      ],
      "metadata": {
        "colab": {
          "base_uri": "https://localhost:8080/"
        },
        "id": "Cd0lXiGJE_hr",
        "outputId": "08d1183e-044b-4cf1-b630-30590e5ef136"
      },
      "execution_count": null,
      "outputs": [
        {
          "output_type": "execute_result",
          "data": {
            "text/plain": [
              "tensor(45., dtype=torch.float64)"
            ]
          },
          "metadata": {},
          "execution_count": 54
        }
      ]
    },
    {
      "cell_type": "code",
      "source": [
        "# sum along column\n",
        "torch.sum(e, dim=0)"
      ],
      "metadata": {
        "colab": {
          "base_uri": "https://localhost:8080/"
        },
        "id": "6DOmIfChFFZg",
        "outputId": "f78081ed-dfdf-4428-a666-1b834810e3ab"
      },
      "execution_count": null,
      "outputs": [
        {
          "output_type": "execute_result",
          "data": {
            "text/plain": [
              "tensor([13., 15., 17.], dtype=torch.float64)"
            ]
          },
          "metadata": {},
          "execution_count": 55
        }
      ]
    },
    {
      "cell_type": "code",
      "source": [
        "# sum along row\n",
        "torch.sum(e, dim=1)"
      ],
      "metadata": {
        "colab": {
          "base_uri": "https://localhost:8080/"
        },
        "id": "3OR_AMAKFRqE",
        "outputId": "4845c19b-c5e5-4460-f3de-bac318329174"
      },
      "execution_count": null,
      "outputs": [
        {
          "output_type": "execute_result",
          "data": {
            "text/plain": [
              "tensor([23., 22.], dtype=torch.float64)"
            ]
          },
          "metadata": {},
          "execution_count": 56
        }
      ]
    },
    {
      "cell_type": "code",
      "source": [
        "# mean\n",
        "# only works if the dtype is of float type or complex\n",
        "torch.mean(e)"
      ],
      "metadata": {
        "colab": {
          "base_uri": "https://localhost:8080/"
        },
        "id": "6m8j-1XGFZ_t",
        "outputId": "814e5dc4-dbd5-4866-ea21-9efe10ad7dfa"
      },
      "execution_count": null,
      "outputs": [
        {
          "output_type": "execute_result",
          "data": {
            "text/plain": [
              "tensor(7.5000, dtype=torch.float64)"
            ]
          },
          "metadata": {},
          "execution_count": 57
        }
      ]
    },
    {
      "cell_type": "code",
      "source": [
        "# mean along the column\n",
        "torch.mean(e, dim=0)"
      ],
      "metadata": {
        "colab": {
          "base_uri": "https://localhost:8080/"
        },
        "id": "vI0VcvPBGPo5",
        "outputId": "dd562329-e94d-4115-9c28-1107a19bc48e"
      },
      "execution_count": null,
      "outputs": [
        {
          "output_type": "execute_result",
          "data": {
            "text/plain": [
              "tensor([6.5000, 7.5000, 8.5000], dtype=torch.float64)"
            ]
          },
          "metadata": {},
          "execution_count": 58
        }
      ]
    },
    {
      "cell_type": "code",
      "source": [
        "# mean along the row\n",
        "torch.mean(e,dim=1)"
      ],
      "metadata": {
        "colab": {
          "base_uri": "https://localhost:8080/"
        },
        "id": "PAvEGkkuGVvi",
        "outputId": "1413395c-0c9d-4c19-9a04-66f45d6cdfae"
      },
      "execution_count": null,
      "outputs": [
        {
          "output_type": "execute_result",
          "data": {
            "text/plain": [
              "tensor([7.6667, 7.3333], dtype=torch.float64)"
            ]
          },
          "metadata": {},
          "execution_count": 59
        }
      ]
    },
    {
      "cell_type": "code",
      "source": [
        "# median\n",
        "torch.median(e)"
      ],
      "metadata": {
        "colab": {
          "base_uri": "https://localhost:8080/"
        },
        "id": "cthIuxG-FlnB",
        "outputId": "dfc7f5e8-c2eb-4804-b0f2-591f87dcaa31"
      },
      "execution_count": null,
      "outputs": [
        {
          "output_type": "execute_result",
          "data": {
            "text/plain": [
              "tensor(7., dtype=torch.float64)"
            ]
          },
          "metadata": {},
          "execution_count": 60
        }
      ]
    },
    {
      "cell_type": "code",
      "source": [
        "# max, min\n",
        "torch.max(e,dim=1)"
      ],
      "metadata": {
        "colab": {
          "base_uri": "https://localhost:8080/"
        },
        "id": "5_1ABFWoFj5-",
        "outputId": "983005fb-1931-4b51-ed58-a4637f8d12fa"
      },
      "execution_count": null,
      "outputs": [
        {
          "output_type": "execute_result",
          "data": {
            "text/plain": [
              "torch.return_types.max(\n",
              "values=tensor([8., 9.], dtype=torch.float64),\n",
              "indices=tensor([1, 2]))"
            ]
          },
          "metadata": {},
          "execution_count": 61
        }
      ]
    },
    {
      "cell_type": "code",
      "source": [
        "torch.min(e)"
      ],
      "metadata": {
        "colab": {
          "base_uri": "https://localhost:8080/"
        },
        "id": "e-LCjLYoGm1q",
        "outputId": "e5e349a6-a0b7-45c6-a07f-3fb58d0d2317"
      },
      "execution_count": null,
      "outputs": [
        {
          "output_type": "execute_result",
          "data": {
            "text/plain": [
              "tensor(6., dtype=torch.float64)"
            ]
          },
          "metadata": {},
          "execution_count": 62
        }
      ]
    },
    {
      "cell_type": "code",
      "source": [
        "# product\n",
        "torch.prod(e)"
      ],
      "metadata": {
        "colab": {
          "base_uri": "https://localhost:8080/"
        },
        "id": "w2z6rQA-Golj",
        "outputId": "57444e1b-fe83-48bd-8e05-22dd460309a3"
      },
      "execution_count": null,
      "outputs": [
        {
          "output_type": "execute_result",
          "data": {
            "text/plain": [
              "tensor(169344., dtype=torch.float64)"
            ]
          },
          "metadata": {},
          "execution_count": 63
        }
      ]
    },
    {
      "cell_type": "code",
      "source": [
        "# standard deviation\n",
        "torch.std(e)"
      ],
      "metadata": {
        "colab": {
          "base_uri": "https://localhost:8080/"
        },
        "id": "VTGCHIGVHHXT",
        "outputId": "959ff3fc-8a90-4af1-b8ad-5a7694b41d50"
      },
      "execution_count": null,
      "outputs": [
        {
          "output_type": "execute_result",
          "data": {
            "text/plain": [
              "tensor(1.0488, dtype=torch.float64)"
            ]
          },
          "metadata": {},
          "execution_count": 64
        }
      ]
    },
    {
      "cell_type": "code",
      "source": [
        "# variance\n",
        "torch.var(e)"
      ],
      "metadata": {
        "colab": {
          "base_uri": "https://localhost:8080/"
        },
        "id": "JaiAGsBzHJ8b",
        "outputId": "0e4d84f3-9888-4089-e31d-33085088169c"
      },
      "execution_count": null,
      "outputs": [
        {
          "output_type": "execute_result",
          "data": {
            "text/plain": [
              "tensor(1.1000, dtype=torch.float64)"
            ]
          },
          "metadata": {},
          "execution_count": 65
        }
      ]
    },
    {
      "cell_type": "code",
      "source": [
        "# argmax\n",
        "torch.argmax(e)"
      ],
      "metadata": {
        "colab": {
          "base_uri": "https://localhost:8080/"
        },
        "id": "dIO-SE14HMJz",
        "outputId": "abaf2c4a-6c82-4ece-982d-98e0b971d292"
      },
      "execution_count": null,
      "outputs": [
        {
          "output_type": "execute_result",
          "data": {
            "text/plain": [
              "tensor(5)"
            ]
          },
          "metadata": {},
          "execution_count": 66
        }
      ]
    },
    {
      "cell_type": "code",
      "source": [
        "# argmin\n",
        "torch.argmin(e)"
      ],
      "metadata": {
        "colab": {
          "base_uri": "https://localhost:8080/"
        },
        "id": "l8GJuddiHQus",
        "outputId": "dc8c5349-f837-45ea-b9c3-d567449f235b"
      },
      "execution_count": null,
      "outputs": [
        {
          "output_type": "execute_result",
          "data": {
            "text/plain": [
              "tensor(3)"
            ]
          },
          "metadata": {},
          "execution_count": 67
        }
      ]
    },
    {
      "cell_type": "markdown",
      "source": [
        "## 4.4 Matrix Operations"
      ],
      "metadata": {
        "id": "oxpMoX6xHdCn"
      }
    },
    {
      "cell_type": "code",
      "source": [
        "f = torch.randint(size=(2,3),low=0, high=10, dtype=torch.float32)\n",
        "g = torch.randint(0, 10, (3,2), dtype=torch.float32)\n",
        "print(f)\n",
        "print(g)"
      ],
      "metadata": {
        "colab": {
          "base_uri": "https://localhost:8080/"
        },
        "id": "vhfRrvJpHYAP",
        "outputId": "986f6478-787f-4d94-e5c3-ed8229d0f4a5"
      },
      "execution_count": null,
      "outputs": [
        {
          "output_type": "stream",
          "name": "stdout",
          "text": [
            "tensor([[5., 7., 3.],\n",
            "        [9., 4., 0.]])\n",
            "tensor([[5., 7.],\n",
            "        [5., 9.],\n",
            "        [9., 7.]])\n"
          ]
        }
      ]
    },
    {
      "cell_type": "code",
      "source": [
        "# matrix multiplication\n",
        "torch.matmul(f,g)"
      ],
      "metadata": {
        "colab": {
          "base_uri": "https://localhost:8080/"
        },
        "id": "5M3zzheGH70o",
        "outputId": "31ea0956-0508-41c5-933a-db24487c2718"
      },
      "execution_count": null,
      "outputs": [
        {
          "output_type": "execute_result",
          "data": {
            "text/plain": [
              "tensor([[ 87., 119.],\n",
              "        [ 65.,  99.]])"
            ]
          },
          "metadata": {},
          "execution_count": 69
        }
      ]
    },
    {
      "cell_type": "code",
      "source": [
        "vec1 = torch.tensor([1,2])\n",
        "vec2 = torch.tensor([3,4])\n",
        "# dot product\n",
        "# pytorch implementation of dot product only works on 1-D tensors i.e. vectors\n",
        "torch.dot(vec1, vec2)"
      ],
      "metadata": {
        "colab": {
          "base_uri": "https://localhost:8080/"
        },
        "id": "8NdGvbOLIGVO",
        "outputId": "c0bdc1b4-1f47-4bb2-a4e0-2e752cf42611"
      },
      "execution_count": null,
      "outputs": [
        {
          "output_type": "execute_result",
          "data": {
            "text/plain": [
              "tensor(11)"
            ]
          },
          "metadata": {},
          "execution_count": 76
        }
      ]
    },
    {
      "cell_type": "code",
      "source": [
        "print(f)\n",
        "# transpose\n",
        "torch.transpose(f, 0, 1)"
      ],
      "metadata": {
        "colab": {
          "base_uri": "https://localhost:8080/"
        },
        "id": "9zYsyQ22IX4r",
        "outputId": "defbb72d-a4ea-41c9-c389-5c42f1d3fa48"
      },
      "execution_count": null,
      "outputs": [
        {
          "output_type": "stream",
          "name": "stdout",
          "text": [
            "tensor([[5., 7., 3.],\n",
            "        [9., 4., 0.]])\n"
          ]
        },
        {
          "output_type": "execute_result",
          "data": {
            "text/plain": [
              "tensor([[5., 9.],\n",
              "        [7., 4.],\n",
              "        [3., 0.]])"
            ]
          },
          "metadata": {},
          "execution_count": 77
        }
      ]
    },
    {
      "cell_type": "code",
      "source": [
        "# determinant\n",
        "# works only on square matrix and float type values\n",
        "sq = torch.matmul(f,g)\n",
        "print(sq)\n",
        "torch.det(sq)"
      ],
      "metadata": {
        "colab": {
          "base_uri": "https://localhost:8080/"
        },
        "id": "k9r4nVb0Innb",
        "outputId": "30500b81-6e32-4a7c-ad28-472d39928fbb"
      },
      "execution_count": null,
      "outputs": [
        {
          "output_type": "stream",
          "name": "stdout",
          "text": [
            "tensor([[ 87., 119.],\n",
            "        [ 65.,  99.]])\n"
          ]
        },
        {
          "output_type": "execute_result",
          "data": {
            "text/plain": [
              "tensor(878.0002)"
            ]
          },
          "metadata": {},
          "execution_count": 78
        }
      ]
    },
    {
      "cell_type": "code",
      "source": [
        "# inverse\n",
        "sq_i = torch.inverse(sq)\n",
        "print(sq_i)\n",
        "torch.matmul(sq, sq_i)"
      ],
      "metadata": {
        "colab": {
          "base_uri": "https://localhost:8080/"
        },
        "id": "x9ZZZ258I5b0",
        "outputId": "755a63de-1fb7-45e5-e229-5d7690f04fb4"
      },
      "execution_count": null,
      "outputs": [
        {
          "output_type": "stream",
          "name": "stdout",
          "text": [
            "tensor([[ 0.1128, -0.1355],\n",
            "        [-0.0740,  0.0991]])\n"
          ]
        },
        {
          "output_type": "execute_result",
          "data": {
            "text/plain": [
              "tensor([[1.0000e+00, 9.5367e-07],\n",
              "        [0.0000e+00, 1.0000e+00]])"
            ]
          },
          "metadata": {},
          "execution_count": 80
        }
      ]
    },
    {
      "cell_type": "markdown",
      "source": [
        "## 4.5 Comparison Operations"
      ],
      "metadata": {
        "id": "UlK47z6_Ji8x"
      }
    },
    {
      "cell_type": "code",
      "source": [
        "i = torch.randint(size=(2,3), low=1, high=10)\n",
        "j = torch.randint(size=(2,3), low=1, high=10)\n",
        "print(i)\n",
        "print(j)"
      ],
      "metadata": {
        "id": "uRXugFMLJWn_",
        "colab": {
          "base_uri": "https://localhost:8080/"
        },
        "outputId": "dcc4f4e7-c150-4ec2-81e9-89fe50696aed"
      },
      "execution_count": null,
      "outputs": [
        {
          "output_type": "stream",
          "name": "stdout",
          "text": [
            "tensor([[5, 4, 7],\n",
            "        [2, 1, 1]])\n",
            "tensor([[4, 6, 6],\n",
            "        [6, 1, 4]])\n"
          ]
        }
      ]
    },
    {
      "cell_type": "code",
      "source": [
        "# element-wise greater than comparison\n",
        "i > j"
      ],
      "metadata": {
        "colab": {
          "base_uri": "https://localhost:8080/"
        },
        "id": "n9d5jSV5GRB-",
        "outputId": "4e75a8be-925d-4f21-ce6e-2071e6244f23"
      },
      "execution_count": null,
      "outputs": [
        {
          "output_type": "execute_result",
          "data": {
            "text/plain": [
              "tensor([[ True, False,  True],\n",
              "        [False, False, False]])"
            ]
          },
          "metadata": {},
          "execution_count": 82
        }
      ]
    },
    {
      "cell_type": "code",
      "source": [
        "# element-wise lesser than comparison\n",
        "i<j"
      ],
      "metadata": {
        "colab": {
          "base_uri": "https://localhost:8080/"
        },
        "id": "jiVeFZ2EGX8w",
        "outputId": "7158d145-15bf-4c85-e729-77b64cfa175d"
      },
      "execution_count": null,
      "outputs": [
        {
          "output_type": "execute_result",
          "data": {
            "text/plain": [
              "tensor([[False,  True, False],\n",
              "        [ True, False,  True]])"
            ]
          },
          "metadata": {},
          "execution_count": 83
        }
      ]
    },
    {
      "cell_type": "code",
      "source": [
        "# element-wise equal to comparison\n",
        "i == j"
      ],
      "metadata": {
        "colab": {
          "base_uri": "https://localhost:8080/"
        },
        "id": "MfM3IsXQGfSI",
        "outputId": "0288ff1a-0b02-43ee-c0d5-1aa0461cba16"
      },
      "execution_count": null,
      "outputs": [
        {
          "output_type": "execute_result",
          "data": {
            "text/plain": [
              "tensor([[False, False, False],\n",
              "        [False,  True, False]])"
            ]
          },
          "metadata": {},
          "execution_count": 84
        }
      ]
    },
    {
      "cell_type": "code",
      "source": [
        "# element-wise greater than equal to comparison\n",
        "i >= j"
      ],
      "metadata": {
        "colab": {
          "base_uri": "https://localhost:8080/"
        },
        "id": "Nxfe5l9OGmiK",
        "outputId": "c0a46bd0-84a9-46d3-b37d-af9fadb3b5a2"
      },
      "execution_count": null,
      "outputs": [
        {
          "output_type": "execute_result",
          "data": {
            "text/plain": [
              "tensor([[ True, False,  True],\n",
              "        [False,  True, False]])"
            ]
          },
          "metadata": {},
          "execution_count": 86
        }
      ]
    },
    {
      "cell_type": "code",
      "source": [
        "# element-wise less than equal to comparison\n",
        "i <= j"
      ],
      "metadata": {
        "colab": {
          "base_uri": "https://localhost:8080/"
        },
        "id": "BLBMS61oGt9-",
        "outputId": "66f85e97-b585-492d-c766-f9936dabeada"
      },
      "execution_count": null,
      "outputs": [
        {
          "output_type": "execute_result",
          "data": {
            "text/plain": [
              "tensor([[False,  True, False],\n",
              "        [ True,  True,  True]])"
            ]
          },
          "metadata": {},
          "execution_count": 87
        }
      ]
    },
    {
      "cell_type": "code",
      "source": [
        "# element-wise not equal to comparison\n",
        "i != j"
      ],
      "metadata": {
        "colab": {
          "base_uri": "https://localhost:8080/"
        },
        "id": "Va4iNPOUG_l6",
        "outputId": "1943d35c-32f7-49ed-a16e-6058d4f5aa4a"
      },
      "execution_count": null,
      "outputs": [
        {
          "output_type": "execute_result",
          "data": {
            "text/plain": [
              "tensor([[ True,  True,  True],\n",
              "        [ True, False,  True]])"
            ]
          },
          "metadata": {},
          "execution_count": 88
        }
      ]
    },
    {
      "cell_type": "markdown",
      "source": [
        "## 4.6 Special Functions"
      ],
      "metadata": {
        "id": "ANPULsJ4G2Yr"
      }
    },
    {
      "cell_type": "code",
      "source": [
        "k = torch.randint(size=(2,3), low=1, high=10)\n",
        "k"
      ],
      "metadata": {
        "colab": {
          "base_uri": "https://localhost:8080/"
        },
        "id": "0NQn6ezkG0CK",
        "outputId": "4e88467f-f7fc-4a21-fb5e-1bea6a601d9b"
      },
      "execution_count": null,
      "outputs": [
        {
          "output_type": "execute_result",
          "data": {
            "text/plain": [
              "tensor([[4, 1, 1],\n",
              "        [6, 5, 1]])"
            ]
          },
          "metadata": {},
          "execution_count": 90
        }
      ]
    },
    {
      "cell_type": "code",
      "source": [
        "# log\n",
        "# this takes natural log\n",
        "torch.log(k)"
      ],
      "metadata": {
        "colab": {
          "base_uri": "https://localhost:8080/"
        },
        "id": "AEAkR25qHM2P",
        "outputId": "235fffa2-2b1b-4c80-a34f-5e9b52ff4765"
      },
      "execution_count": null,
      "outputs": [
        {
          "output_type": "execute_result",
          "data": {
            "text/plain": [
              "tensor([[1.3863, 0.0000, 0.0000],\n",
              "        [1.7918, 1.6094, 0.0000]])"
            ]
          },
          "metadata": {},
          "execution_count": 92
        }
      ]
    },
    {
      "cell_type": "code",
      "source": [
        "# exponent\n",
        "torch.exp(k)"
      ],
      "metadata": {
        "colab": {
          "base_uri": "https://localhost:8080/"
        },
        "id": "T8sHPV1kHPlm",
        "outputId": "08bfe130-91df-40fe-eae2-9445feb45730"
      },
      "execution_count": null,
      "outputs": [
        {
          "output_type": "execute_result",
          "data": {
            "text/plain": [
              "tensor([[ 54.5981,   2.7183,   2.7183],\n",
              "        [403.4288, 148.4132,   2.7183]])"
            ]
          },
          "metadata": {},
          "execution_count": 93
        }
      ]
    },
    {
      "cell_type": "code",
      "source": [
        "# sqrt -> square-root\n",
        "torch.sqrt(k)"
      ],
      "metadata": {
        "colab": {
          "base_uri": "https://localhost:8080/"
        },
        "id": "X7Wtd7w4HZuq",
        "outputId": "5b5d63ca-70a2-42ca-f93f-afdb98d03697"
      },
      "execution_count": null,
      "outputs": [
        {
          "output_type": "execute_result",
          "data": {
            "text/plain": [
              "tensor([[2.0000, 1.0000, 1.0000],\n",
              "        [2.4495, 2.2361, 1.0000]])"
            ]
          },
          "metadata": {},
          "execution_count": 94
        }
      ]
    },
    {
      "cell_type": "code",
      "source": [
        "# sigmoid\n",
        "torch.sigmoid(k)"
      ],
      "metadata": {
        "colab": {
          "base_uri": "https://localhost:8080/"
        },
        "id": "do68f_PxHgCo",
        "outputId": "360a6989-c186-461e-8941-d1b8351f5f1b"
      },
      "execution_count": null,
      "outputs": [
        {
          "output_type": "execute_result",
          "data": {
            "text/plain": [
              "tensor([[0.9820, 0.7311, 0.7311],\n",
              "        [0.9975, 0.9933, 0.7311]])"
            ]
          },
          "metadata": {},
          "execution_count": 95
        }
      ]
    },
    {
      "cell_type": "code",
      "source": [
        "# softmax\n",
        "# softmax() received an invalid combination of arguments - got (Tensor), but expected one of:\n",
        "#  * (Tensor input, int dim, torch.dtype dtype = None, *, Tensor out = None)\n",
        "#  * (Tensor input, name dim, *, torch.dtype dtype = None)\n",
        "# this function expects, dimension across which softmax to be applied and it works only on dtype = torch.float type\n",
        "torch.softmax(k.to(dtype=torch.float32), dim=0)"
      ],
      "metadata": {
        "colab": {
          "base_uri": "https://localhost:8080/"
        },
        "id": "dgCUlMeTHjND",
        "outputId": "d4ba7dcd-4849-47a9-d124-8a2e5b08fc47"
      },
      "execution_count": null,
      "outputs": [
        {
          "output_type": "execute_result",
          "data": {
            "text/plain": [
              "tensor([[0.1192, 0.0180, 0.5000],\n",
              "        [0.8808, 0.9820, 0.5000]])"
            ]
          },
          "metadata": {},
          "execution_count": 99
        }
      ]
    },
    {
      "cell_type": "code",
      "source": [
        "# ReLU\n",
        "torch.relu(k)"
      ],
      "metadata": {
        "colab": {
          "base_uri": "https://localhost:8080/"
        },
        "id": "Oczo-eSTHmxu",
        "outputId": "58262d9f-c017-4095-84cb-713338593de2"
      },
      "execution_count": null,
      "outputs": [
        {
          "output_type": "execute_result",
          "data": {
            "text/plain": [
              "tensor([[4, 1, 1],\n",
              "        [6, 5, 1]])"
            ]
          },
          "metadata": {},
          "execution_count": 100
        }
      ]
    },
    {
      "cell_type": "markdown",
      "source": [
        "# 5. In-place Operations"
      ],
      "metadata": {
        "id": "14RIn1a7IrNo"
      }
    },
    {
      "cell_type": "code",
      "source": [
        "m = torch.rand(2,3)\n",
        "n = torch.rand(2,3)\n",
        "print(m)\n",
        "print(n)"
      ],
      "metadata": {
        "colab": {
          "base_uri": "https://localhost:8080/"
        },
        "id": "GHqZF_sVIZLi",
        "outputId": "c2606583-9280-49c6-8845-c979b02f9a71"
      },
      "execution_count": null,
      "outputs": [
        {
          "output_type": "stream",
          "name": "stdout",
          "text": [
            "tensor([[0.3079, 0.6269, 0.8277],\n",
            "        [0.6594, 0.0887, 0.4890]])\n",
            "tensor([[0.5887, 0.7340, 0.8497],\n",
            "        [0.9112, 0.4847, 0.9436]])\n"
          ]
        }
      ]
    },
    {
      "cell_type": "code",
      "source": [
        "# this operations creates a new tensor to represent the result\n",
        "m + n"
      ],
      "metadata": {
        "colab": {
          "base_uri": "https://localhost:8080/"
        },
        "id": "BSbHRLlUI3En",
        "outputId": "d5b2f233-6d43-4ef0-ea1f-9c2a06d0c8f1"
      },
      "execution_count": null,
      "outputs": [
        {
          "output_type": "execute_result",
          "data": {
            "text/plain": [
              "tensor([[0.8966, 1.3610, 1.6774],\n",
              "        [1.5705, 0.5734, 1.4325]])"
            ]
          },
          "metadata": {},
          "execution_count": 114
        }
      ]
    },
    {
      "cell_type": "code",
      "source": [
        "# this operation stores the result in the original tensor itself\n",
        "m.add_(n)"
      ],
      "metadata": {
        "colab": {
          "base_uri": "https://localhost:8080/"
        },
        "id": "cF2pVYZdJOoL",
        "outputId": "fefe7f81-2f03-4909-f987-51e876605d39"
      },
      "execution_count": null,
      "outputs": [
        {
          "output_type": "execute_result",
          "data": {
            "text/plain": [
              "tensor([[0.8966, 1.3610, 1.6774],\n",
              "        [1.5705, 0.5734, 1.4325]])"
            ]
          },
          "metadata": {},
          "execution_count": 115
        }
      ]
    },
    {
      "cell_type": "code",
      "source": [
        "print(m)"
      ],
      "metadata": {
        "colab": {
          "base_uri": "https://localhost:8080/"
        },
        "id": "HkEDe2DfJhI_",
        "outputId": "259f72c9-2751-4f65-8dc6-2442b1d5a971"
      },
      "execution_count": null,
      "outputs": [
        {
          "output_type": "stream",
          "name": "stdout",
          "text": [
            "tensor([[0.8966, 1.3610, 1.6774],\n",
            "        [1.5705, 0.5734, 1.4325]])\n"
          ]
        }
      ]
    },
    {
      "cell_type": "code",
      "source": [
        "# this operation also creates a new tensor to represent the result\n",
        "torch.relu(m)"
      ],
      "metadata": {
        "colab": {
          "base_uri": "https://localhost:8080/"
        },
        "id": "3eVEJ4WwJh_X",
        "outputId": "3be62a77-aa83-41f5-8600-e8f429c3ddb1"
      },
      "execution_count": null,
      "outputs": [
        {
          "output_type": "execute_result",
          "data": {
            "text/plain": [
              "tensor([[0.8966, 1.3610, 1.6774],\n",
              "        [1.5705, 0.5734, 1.4325]])"
            ]
          },
          "metadata": {},
          "execution_count": 117
        }
      ]
    },
    {
      "cell_type": "code",
      "source": [
        "# this operation stores the result in the original tensor itself\n",
        "m.relu_()"
      ],
      "metadata": {
        "colab": {
          "base_uri": "https://localhost:8080/"
        },
        "id": "GAwe9rhRJ_Yg",
        "outputId": "8f31de22-9c5f-4573-ff4f-f97f6cd96def"
      },
      "execution_count": null,
      "outputs": [
        {
          "output_type": "execute_result",
          "data": {
            "text/plain": [
              "tensor([[0.7796, 0.7245, 0.7117],\n",
              "        [1.3361, 0.2472, 1.3114]])"
            ]
          },
          "metadata": {},
          "execution_count": 112
        }
      ]
    },
    {
      "cell_type": "markdown",
      "source": [
        "# 6. Copying Tensors"
      ],
      "metadata": {
        "id": "ZD9rPMc_KOmH"
      }
    },
    {
      "cell_type": "code",
      "source": [
        "a = torch.rand(2,3)\n",
        "a"
      ],
      "metadata": {
        "colab": {
          "base_uri": "https://localhost:8080/"
        },
        "id": "eTuf3jzEKH7B",
        "outputId": "974b05dd-e77e-4584-cc0e-0cbbaf2f4e22"
      },
      "execution_count": null,
      "outputs": [
        {
          "output_type": "execute_result",
          "data": {
            "text/plain": [
              "tensor([[0.2732, 0.3397, 0.1879],\n",
              "        [0.5534, 0.2682, 0.9556]])"
            ]
          },
          "metadata": {},
          "execution_count": 123
        }
      ]
    },
    {
      "cell_type": "code",
      "source": [
        "# shallow copy\n",
        "b = a\n",
        "print(b)"
      ],
      "metadata": {
        "colab": {
          "base_uri": "https://localhost:8080/"
        },
        "id": "sOkRhG3YKT89",
        "outputId": "d8869bf9-5f1a-40bb-aeee-3753ab775490"
      },
      "execution_count": null,
      "outputs": [
        {
          "output_type": "stream",
          "name": "stdout",
          "text": [
            "tensor([[0.2732, 0.3397, 0.1879],\n",
            "        [0.5534, 0.2682, 0.9556]])\n"
          ]
        }
      ]
    },
    {
      "cell_type": "code",
      "source": [
        "a[0][0] = 0\n",
        "print(a)\n",
        "print(b)"
      ],
      "metadata": {
        "colab": {
          "base_uri": "https://localhost:8080/"
        },
        "id": "29YB6aYWKYPM",
        "outputId": "3af25565-47e3-4f2c-d361-0ecf6c336bb6"
      },
      "execution_count": null,
      "outputs": [
        {
          "output_type": "stream",
          "name": "stdout",
          "text": [
            "tensor([[0.0000, 0.3397, 0.1879],\n",
            "        [0.5534, 0.2682, 0.9556]])\n",
            "tensor([[0.0000, 0.3397, 0.1879],\n",
            "        [0.5534, 0.2682, 0.9556]])\n"
          ]
        }
      ]
    },
    {
      "cell_type": "code",
      "source": [
        "print(id(a))\n",
        "print(id(b))"
      ],
      "metadata": {
        "colab": {
          "base_uri": "https://localhost:8080/"
        },
        "id": "nl7DkgpXKw3z",
        "outputId": "9dfe8328-a10a-46c0-f7c0-05479da24895"
      },
      "execution_count": null,
      "outputs": [
        {
          "output_type": "stream",
          "name": "stdout",
          "text": [
            "136754964874336\n",
            "136754964874336\n"
          ]
        }
      ]
    },
    {
      "cell_type": "code",
      "source": [
        "# deep copy\n",
        "b = a.clone()\n",
        "print(a)\n",
        "print(b)"
      ],
      "metadata": {
        "colab": {
          "base_uri": "https://localhost:8080/"
        },
        "id": "Ysc0HJXWKdkv",
        "outputId": "343080e6-a5d4-452b-bb3f-3d9b8e570ff5"
      },
      "execution_count": null,
      "outputs": [
        {
          "output_type": "stream",
          "name": "stdout",
          "text": [
            "tensor([[0.0000, 0.3397, 0.1879],\n",
            "        [0.5534, 0.2682, 0.9556]])\n",
            "tensor([[0.0000, 0.3397, 0.1879],\n",
            "        [0.5534, 0.2682, 0.9556]])\n"
          ]
        }
      ]
    },
    {
      "cell_type": "code",
      "source": [
        "a[0][0] = 1\n",
        "print(a)\n",
        "print(b)\n",
        "print(id(a))\n",
        "print(id(b))"
      ],
      "metadata": {
        "colab": {
          "base_uri": "https://localhost:8080/"
        },
        "id": "FAC3fJ7iK6x8",
        "outputId": "0cc86206-353a-4b18-8c1a-7f930e833760"
      },
      "execution_count": null,
      "outputs": [
        {
          "output_type": "stream",
          "name": "stdout",
          "text": [
            "tensor([[1.0000, 0.3397, 0.1879],\n",
            "        [0.5534, 0.2682, 0.9556]])\n",
            "tensor([[0.0000, 0.3397, 0.1879],\n",
            "        [0.5534, 0.2682, 0.9556]])\n",
            "136754964874336\n",
            "136755206638640\n"
          ]
        }
      ]
    },
    {
      "cell_type": "markdown",
      "source": [
        "# 7. Tensor Operations on GPU"
      ],
      "metadata": {
        "id": "Sg_p-vzxLJQD"
      }
    },
    {
      "cell_type": "code",
      "source": [
        "torch.cuda.is_available()"
      ],
      "metadata": {
        "colab": {
          "base_uri": "https://localhost:8080/"
        },
        "id": "kwSEyphSLC7z",
        "outputId": "0c9044c6-fb79-4c26-a147-050422db6b92"
      },
      "execution_count": null,
      "outputs": [
        {
          "output_type": "execute_result",
          "data": {
            "text/plain": [
              "True"
            ]
          },
          "metadata": {},
          "execution_count": 132
        }
      ]
    },
    {
      "cell_type": "code",
      "source": [
        "device = torch.device('cuda')\n",
        "device"
      ],
      "metadata": {
        "colab": {
          "base_uri": "https://localhost:8080/"
        },
        "id": "sGXZievsLXH9",
        "outputId": "93a59b4e-3eb5-4633-eb06-4e407680210f"
      },
      "execution_count": null,
      "outputs": [
        {
          "output_type": "execute_result",
          "data": {
            "text/plain": [
              "device(type='cuda')"
            ]
          },
          "metadata": {},
          "execution_count": 134
        }
      ]
    },
    {
      "cell_type": "code",
      "source": [
        "# creating a new tensor on GPU\n",
        "torch.rand((2,3), device=device)"
      ],
      "metadata": {
        "colab": {
          "base_uri": "https://localhost:8080/"
        },
        "id": "5sBVNgAGLa3E",
        "outputId": "9437e721-cdd5-42de-8a8c-90813d73eaee"
      },
      "execution_count": null,
      "outputs": [
        {
          "output_type": "execute_result",
          "data": {
            "text/plain": [
              "tensor([[0.3563, 0.0303, 0.7088],\n",
              "        [0.2009, 0.0224, 0.9896]], device='cuda:0')"
            ]
          },
          "metadata": {},
          "execution_count": 135
        }
      ]
    },
    {
      "cell_type": "code",
      "source": [
        "a = torch.rand(2,3)\n",
        "a"
      ],
      "metadata": {
        "colab": {
          "base_uri": "https://localhost:8080/"
        },
        "id": "ecLl_gPZL4ed",
        "outputId": "ad7ffad7-3c97-439a-b28d-fdcb4ca77ca1"
      },
      "execution_count": null,
      "outputs": [
        {
          "output_type": "execute_result",
          "data": {
            "text/plain": [
              "tensor([[0.1132, 0.4783, 0.4436],\n",
              "        [0.3847, 0.4521, 0.5569]])"
            ]
          },
          "metadata": {},
          "execution_count": 137
        }
      ]
    },
    {
      "cell_type": "code",
      "source": [
        "# moving an existing tensor to GPU\n",
        "b = a.to(device)\n",
        "b"
      ],
      "metadata": {
        "colab": {
          "base_uri": "https://localhost:8080/"
        },
        "id": "h03-66jlMCvV",
        "outputId": "ab55f4c3-e0e4-460d-a5b8-22aef4567c8d"
      },
      "execution_count": null,
      "outputs": [
        {
          "output_type": "execute_result",
          "data": {
            "text/plain": [
              "tensor([[0.1132, 0.4783, 0.4436],\n",
              "        [0.3847, 0.4521, 0.5569]], device='cuda:0')"
            ]
          },
          "metadata": {},
          "execution_count": 140
        }
      ]
    },
    {
      "cell_type": "code",
      "source": [
        "b + 5"
      ],
      "metadata": {
        "colab": {
          "base_uri": "https://localhost:8080/"
        },
        "id": "npdeL-OZMNzr",
        "outputId": "c502bed4-1726-46aa-d650-567a18bb8911"
      },
      "execution_count": null,
      "outputs": [
        {
          "output_type": "execute_result",
          "data": {
            "text/plain": [
              "tensor([[5.1132, 5.4783, 5.4436],\n",
              "        [5.3847, 5.4521, 5.5569]], device='cuda:0')"
            ]
          },
          "metadata": {},
          "execution_count": 141
        }
      ]
    },
    {
      "cell_type": "code",
      "source": [
        "import time\n",
        "\n",
        "# define the size of matrices\n",
        "size = 10000\n",
        "\n",
        "# create random matrices on CPU\n",
        "m_cpu1 = torch.randn(size, size)\n",
        "m_cpu2 = torch.randn(size, size)\n",
        "\n",
        "# measure time on CPU\n",
        "startTime = time.time()\n",
        "result_cpu = torch.matmul(m_cpu1, m_cpu2) # matric multiplication on CPU\n",
        "cpuTime = time.time() - startTime\n",
        "\n",
        "print(f\"Time on CPU: {cpuTime:.4f} seconds\")\n",
        "\n",
        "# move matrices to GPU\n",
        "x_gpu1 = m_cpu1.to(device)\n",
        "x_gpu2 = m_cpu1.to(device)\n",
        "\n",
        "# measure time on CPU\n",
        "startTime = time.time()\n",
        "result_gpu = torch.matmul(x_gpu1, x_gpu2) # matric multiplication on CPU\n",
        "torch.cuda.synchronize() # ensures all GPU oprations are complete\n",
        "gpuTime = time.time() - startTime\n",
        "\n",
        "print(f\"Time on GPU: {gpuTime:.4f} seconds\")\n",
        "\n",
        "# compare results\n",
        "print(\"SpeedUp (CPU_time / GPU_time): \", cpuTime/gpuTime)"
      ],
      "metadata": {
        "colab": {
          "base_uri": "https://localhost:8080/"
        },
        "id": "2MCKVvSYMWEv",
        "outputId": "8ff3c5e5-ee59-40aa-b30a-4698cb66384d"
      },
      "execution_count": null,
      "outputs": [
        {
          "output_type": "stream",
          "name": "stdout",
          "text": [
            "Time on CPU: 25.6104 seconds\n",
            "Time on GPU: 0.7243 seconds\n",
            "SpeedUp (CPU_time / GPU_time):  35.36133191780033\n"
          ]
        }
      ]
    },
    {
      "cell_type": "markdown",
      "source": [
        "# 8. Reshaping Tensors"
      ],
      "metadata": {
        "id": "ovENYVVBO0cM"
      }
    },
    {
      "cell_type": "code",
      "source": [
        "a = torch.ones(4,4)\n",
        "a"
      ],
      "metadata": {
        "colab": {
          "base_uri": "https://localhost:8080/"
        },
        "id": "WvPutNE9OjFN",
        "outputId": "3daec7c4-4523-4a44-9492-c8288494970a"
      },
      "execution_count": null,
      "outputs": [
        {
          "output_type": "execute_result",
          "data": {
            "text/plain": [
              "tensor([[1., 1., 1., 1.],\n",
              "        [1., 1., 1., 1.],\n",
              "        [1., 1., 1., 1.],\n",
              "        [1., 1., 1., 1.]])"
            ]
          },
          "metadata": {},
          "execution_count": 145
        }
      ]
    },
    {
      "cell_type": "code",
      "source": [
        "# reshape\n",
        "# the new supplied dimensions product should match with the original dimensions\n",
        "a.reshape(2,2,2,2)"
      ],
      "metadata": {
        "colab": {
          "base_uri": "https://localhost:8080/"
        },
        "id": "Iu4uSpFJO54h",
        "outputId": "5c814c16-3ba3-461b-af18-76cef767001e"
      },
      "execution_count": null,
      "outputs": [
        {
          "output_type": "execute_result",
          "data": {
            "text/plain": [
              "tensor([[[[1., 1.],\n",
              "          [1., 1.]],\n",
              "\n",
              "         [[1., 1.],\n",
              "          [1., 1.]]],\n",
              "\n",
              "\n",
              "        [[[1., 1.],\n",
              "          [1., 1.]],\n",
              "\n",
              "         [[1., 1.],\n",
              "          [1., 1.]]]])"
            ]
          },
          "metadata": {},
          "execution_count": 150
        }
      ]
    },
    {
      "cell_type": "code",
      "source": [
        "# flatten\n",
        "a.flatten()"
      ],
      "metadata": {
        "colab": {
          "base_uri": "https://localhost:8080/"
        },
        "id": "QkJxy35sPGBA",
        "outputId": "70fa671e-0ac4-45c3-f979-01fbbd4c6a9b"
      },
      "execution_count": null,
      "outputs": [
        {
          "output_type": "execute_result",
          "data": {
            "text/plain": [
              "tensor([1., 1., 1., 1., 1., 1., 1., 1., 1., 1., 1., 1., 1., 1., 1., 1.])"
            ]
          },
          "metadata": {},
          "execution_count": 151
        }
      ]
    },
    {
      "cell_type": "code",
      "source": [
        "b = torch.rand(2,3,4)\n",
        "b"
      ],
      "metadata": {
        "colab": {
          "base_uri": "https://localhost:8080/"
        },
        "id": "QdC-I5KLPWM9",
        "outputId": "cd2fb92c-89ea-4cb1-e32a-33b588e79a16"
      },
      "execution_count": null,
      "outputs": [
        {
          "output_type": "execute_result",
          "data": {
            "text/plain": [
              "tensor([[[0.8844, 0.3690, 0.2746, 0.4782],\n",
              "         [0.8778, 0.4314, 0.1135, 0.7670],\n",
              "         [0.5416, 0.4059, 0.3982, 0.4293]],\n",
              "\n",
              "        [[0.7526, 0.8673, 0.1561, 0.3627],\n",
              "         [0.4080, 0.0238, 0.9556, 0.0546],\n",
              "         [0.9876, 0.7779, 0.1610, 0.0409]]])"
            ]
          },
          "metadata": {},
          "execution_count": 153
        }
      ]
    },
    {
      "cell_type": "code",
      "source": [
        "# permute\n",
        "bb = b.permute(2,0,1)\n",
        "bb"
      ],
      "metadata": {
        "colab": {
          "base_uri": "https://localhost:8080/"
        },
        "id": "gLMHLWWjPbIl",
        "outputId": "61547a95-ffec-4d0a-ee6c-b09b58e28c39"
      },
      "execution_count": null,
      "outputs": [
        {
          "output_type": "execute_result",
          "data": {
            "text/plain": [
              "tensor([[[0.8844, 0.8778, 0.5416],\n",
              "         [0.7526, 0.4080, 0.9876]],\n",
              "\n",
              "        [[0.3690, 0.4314, 0.4059],\n",
              "         [0.8673, 0.0238, 0.7779]],\n",
              "\n",
              "        [[0.2746, 0.1135, 0.3982],\n",
              "         [0.1561, 0.9556, 0.1610]],\n",
              "\n",
              "        [[0.4782, 0.7670, 0.4293],\n",
              "         [0.3627, 0.0546, 0.0409]]])"
            ]
          },
          "metadata": {},
          "execution_count": 156
        }
      ]
    },
    {
      "cell_type": "code",
      "source": [
        "print(b.shape)\n",
        "print(bb.shape)"
      ],
      "metadata": {
        "colab": {
          "base_uri": "https://localhost:8080/"
        },
        "id": "YSlEj4qSPqwH",
        "outputId": "c254b771-775e-4d6e-da09-f7a49997828d"
      },
      "execution_count": null,
      "outputs": [
        {
          "output_type": "stream",
          "name": "stdout",
          "text": [
            "torch.Size([2, 3, 4])\n",
            "torch.Size([4, 2, 3])\n"
          ]
        }
      ]
    },
    {
      "cell_type": "code",
      "source": [
        "# unsqueeze\n",
        "# adds a single new dimension at the specified index\n",
        "c = torch.rand(226, 226, 3)\n",
        "c.unsqueeze(1).shape"
      ],
      "metadata": {
        "colab": {
          "base_uri": "https://localhost:8080/"
        },
        "id": "wIj9mcBpPz5C",
        "outputId": "fb8598e1-3dcc-4d59-eb31-260dd6adc129"
      },
      "execution_count": null,
      "outputs": [
        {
          "output_type": "execute_result",
          "data": {
            "text/plain": [
              "torch.Size([226, 1, 226, 3])"
            ]
          },
          "metadata": {},
          "execution_count": 160
        }
      ]
    },
    {
      "cell_type": "code",
      "source": [
        "# squeeze\n",
        "d = torch.rand(1,3)\n",
        "print(d.shape)\n",
        "print(d)\n",
        "dd = d.squeeze(0)\n",
        "print(dd.shape)\n",
        "print(dd)"
      ],
      "metadata": {
        "colab": {
          "base_uri": "https://localhost:8080/"
        },
        "id": "y6evCCV5Qbqy",
        "outputId": "52dfc147-51e2-4210-8df0-571c8e145059"
      },
      "execution_count": null,
      "outputs": [
        {
          "output_type": "stream",
          "name": "stdout",
          "text": [
            "torch.Size([1, 3])\n",
            "tensor([[0.7735, 0.2892, 0.8305]])\n",
            "torch.Size([3])\n",
            "tensor([0.7735, 0.2892, 0.8305])\n"
          ]
        }
      ]
    },
    {
      "cell_type": "markdown",
      "source": [
        "# 9. NumPy and PyTorch\n",
        "How to move tensors from one to other."
      ],
      "metadata": {
        "id": "2OYTebIZVeWm"
      }
    },
    {
      "cell_type": "code",
      "source": [
        "import numpy as np"
      ],
      "metadata": {
        "id": "ifu5bsOqUxAV"
      },
      "execution_count": null,
      "outputs": []
    },
    {
      "cell_type": "code",
      "source": [
        "a = torch.tensor([1,2,3])\n",
        "a"
      ],
      "metadata": {
        "colab": {
          "base_uri": "https://localhost:8080/"
        },
        "id": "-QjXqnCEVo3D",
        "outputId": "3f057594-6206-47c8-8fe0-32b0ddf3a9da"
      },
      "execution_count": null,
      "outputs": [
        {
          "output_type": "execute_result",
          "data": {
            "text/plain": [
              "tensor([1, 2, 3])"
            ]
          },
          "metadata": {},
          "execution_count": 173
        }
      ]
    },
    {
      "cell_type": "code",
      "source": [
        "# converting pytorch tensor to numpy array\n",
        "b = a.numpy()\n",
        "print(b)\n",
        "print(type(b))"
      ],
      "metadata": {
        "colab": {
          "base_uri": "https://localhost:8080/"
        },
        "id": "Pr8i03BNV4Uq",
        "outputId": "51b7d5fd-d135-41df-9e24-60db79b1d588"
      },
      "execution_count": null,
      "outputs": [
        {
          "output_type": "stream",
          "name": "stdout",
          "text": [
            "[1 2 3]\n",
            "<class 'numpy.ndarray'>\n"
          ]
        }
      ]
    },
    {
      "cell_type": "code",
      "source": [
        "c = np.array([1,2,3])\n",
        "c"
      ],
      "metadata": {
        "colab": {
          "base_uri": "https://localhost:8080/"
        },
        "id": "UTcdeb_MV_LB",
        "outputId": "16a6e897-d6dd-41e9-f62a-01e7acb16572"
      },
      "execution_count": null,
      "outputs": [
        {
          "output_type": "execute_result",
          "data": {
            "text/plain": [
              "array([1, 2, 3])"
            ]
          },
          "metadata": {},
          "execution_count": 177
        }
      ]
    },
    {
      "cell_type": "code",
      "source": [
        "cp = torch.from_numpy(c)\n",
        "cp"
      ],
      "metadata": {
        "colab": {
          "base_uri": "https://localhost:8080/"
        },
        "id": "rE4tAm5ZWKVQ",
        "outputId": "66a4a868-de1d-4b6c-c806-7399fad31d3d"
      },
      "execution_count": null,
      "outputs": [
        {
          "output_type": "execute_result",
          "data": {
            "text/plain": [
              "tensor([1, 2, 3])"
            ]
          },
          "metadata": {},
          "execution_count": 178
        }
      ]
    },
    {
      "cell_type": "markdown",
      "source": [
        "# 10. Autograd"
      ],
      "metadata": {
        "id": "YJNfG7_QhzvJ"
      }
    },
    {
      "cell_type": "code",
      "source": [
        "# make required_grad=True to tell pytorch that gradients will be needed\n",
        "x = torch.tensor(3.0, requires_grad=True)\n",
        "x"
      ],
      "metadata": {
        "colab": {
          "base_uri": "https://localhost:8080/"
        },
        "id": "oOXfxG-tWU3j",
        "outputId": "9c3b71b3-64df-4e7e-9e6b-d4c6b9918cb0"
      },
      "execution_count": null,
      "outputs": [
        {
          "output_type": "execute_result",
          "data": {
            "text/plain": [
              "tensor(3., requires_grad=True)"
            ]
          },
          "metadata": {},
          "execution_count": 180
        }
      ]
    },
    {
      "cell_type": "code",
      "source": [
        "y = x**2\n",
        "y"
      ],
      "metadata": {
        "colab": {
          "base_uri": "https://localhost:8080/"
        },
        "id": "bd0OC0ZdiIN_",
        "outputId": "bdb8a0a9-35cc-4e23-acb0-cf1b4359821f"
      },
      "execution_count": null,
      "outputs": [
        {
          "output_type": "execute_result",
          "data": {
            "text/plain": [
              "tensor(9., grad_fn=<PowBackward0>)"
            ]
          },
          "metadata": {},
          "execution_count": 182
        }
      ]
    },
    {
      "cell_type": "code",
      "source": [
        "# calculate the gradients for y by using backward\n",
        "y.backward()"
      ],
      "metadata": {
        "id": "YJmJ8lZsiKIG"
      },
      "execution_count": null,
      "outputs": []
    },
    {
      "cell_type": "code",
      "source": [
        "# show the gradients calculated\n",
        "x.grad"
      ],
      "metadata": {
        "colab": {
          "base_uri": "https://localhost:8080/"
        },
        "id": "BBZsJvW5iQdn",
        "outputId": "0483b2f0-dc29-424a-a549-8bc4f2b58126"
      },
      "execution_count": null,
      "outputs": [
        {
          "output_type": "execute_result",
          "data": {
            "text/plain": [
              "tensor(6.)"
            ]
          },
          "metadata": {},
          "execution_count": 184
        }
      ]
    },
    {
      "cell_type": "code",
      "source": [
        "x = torch.tensor(4.0, requires_grad=True)\n",
        "y = x**2\n",
        "z = torch.sin(y)"
      ],
      "metadata": {
        "id": "UJc3DMRRi1ez"
      },
      "execution_count": null,
      "outputs": []
    },
    {
      "cell_type": "code",
      "source": [
        "x"
      ],
      "metadata": {
        "colab": {
          "base_uri": "https://localhost:8080/"
        },
        "id": "1RB0ejU4i50I",
        "outputId": "b1906adf-5190-48e6-a283-c1b27bc1cfd2"
      },
      "execution_count": null,
      "outputs": [
        {
          "output_type": "execute_result",
          "data": {
            "text/plain": [
              "tensor(4., requires_grad=True)"
            ]
          },
          "metadata": {},
          "execution_count": 203
        }
      ]
    },
    {
      "cell_type": "code",
      "source": [
        "y"
      ],
      "metadata": {
        "colab": {
          "base_uri": "https://localhost:8080/"
        },
        "id": "ZZTBGt5qjBcc",
        "outputId": "0d12f067-3d4f-4373-9320-d99d86354d3f"
      },
      "execution_count": null,
      "outputs": [
        {
          "output_type": "execute_result",
          "data": {
            "text/plain": [
              "tensor(16., grad_fn=<PowBackward0>)"
            ]
          },
          "metadata": {},
          "execution_count": 204
        }
      ]
    },
    {
      "cell_type": "code",
      "source": [
        "z"
      ],
      "metadata": {
        "colab": {
          "base_uri": "https://localhost:8080/"
        },
        "id": "mgMKMAA_jB7t",
        "outputId": "15d9d3d5-019a-4c63-aa77-e3201ae332a5"
      },
      "execution_count": null,
      "outputs": [
        {
          "output_type": "execute_result",
          "data": {
            "text/plain": [
              "tensor(-0.2879, grad_fn=<SinBackward0>)"
            ]
          },
          "metadata": {},
          "execution_count": 205
        }
      ]
    },
    {
      "cell_type": "code",
      "source": [
        "z.backward()"
      ],
      "metadata": {
        "id": "7HOC9aILjCa9"
      },
      "execution_count": null,
      "outputs": []
    },
    {
      "cell_type": "code",
      "source": [
        "x.grad"
      ],
      "metadata": {
        "colab": {
          "base_uri": "https://localhost:8080/"
        },
        "id": "mgD-PQNhjPxq",
        "outputId": "9e28b290-8a2f-45ec-fdb6-2a2a77f5ff72"
      },
      "execution_count": null,
      "outputs": [
        {
          "output_type": "execute_result",
          "data": {
            "text/plain": [
              "tensor(-7.6613)"
            ]
          },
          "metadata": {},
          "execution_count": 207
        }
      ]
    },
    {
      "cell_type": "code",
      "source": [
        "y.grad"
      ],
      "metadata": {
        "colab": {
          "base_uri": "https://localhost:8080/"
        },
        "id": "eV9S8Mp8jXyv",
        "outputId": "8c221e27-cd31-4287-a67c-fc673b002181"
      },
      "execution_count": null,
      "outputs": [
        {
          "output_type": "stream",
          "name": "stderr",
          "text": [
            "/tmp/ipython-input-486760323.py:1: UserWarning: The .grad attribute of a Tensor that is not a leaf Tensor is being accessed. Its .grad attribute won't be populated during autograd.backward(). If you indeed want the .grad field to be populated for a non-leaf Tensor, use .retain_grad() on the non-leaf Tensor. If you access the non-leaf Tensor by mistake, make sure you access the leaf Tensor instead. See github.com/pytorch/pytorch/pull/30531 for more informations. (Triggered internally at /pytorch/build/aten/src/ATen/core/TensorBody.h:489.)\n",
            "  y.grad\n"
          ]
        }
      ]
    },
    {
      "cell_type": "markdown",
      "source": [
        "# 11. Autograd in action\n",
        "\n",
        "Creating a simple perceptron and manually finding it's gradient.\n",
        "Then finding the gradient via autograd."
      ],
      "metadata": {
        "id": "Q3NR4w9DonKT"
      }
    },
    {
      "cell_type": "code",
      "source": [
        "# making a perceptron\n",
        "\n",
        "x = torch.tensor(6.7) # input feature\n",
        "y = torch.tensor(0.0) # true label (binary)\n",
        "\n",
        "# starting with some random values\n",
        "w = torch.tensor(1.0) # Weights\n",
        "b = torch.tensor(0.0) # Bias"
      ],
      "metadata": {
        "id": "OpO6I8eIj3ez"
      },
      "execution_count": null,
      "outputs": []
    },
    {
      "cell_type": "code",
      "source": [
        "# Binary cross entropy loss\n",
        "def binary_cross_entropy_loss(prediction, target):\n",
        "  epsilon = 1e-8 # to prevent log(0)\n",
        "  prediction = torch.clamp(prediction, epsilon, 1-epsilon)\n",
        "  return -(target * torch.log(prediction) + (1 - target) * torch.log(1 - prediction))"
      ],
      "metadata": {
        "id": "jw_97rg9lu2W"
      },
      "execution_count": null,
      "outputs": []
    },
    {
      "cell_type": "code",
      "source": [
        "# forward pass\n",
        "z = w * x + b # weighted sum (linear part)\n",
        "y_pred = torch.sigmoid(z) # predicted probability\n",
        "\n",
        "# compute binary cross entropy loss\n",
        "binary_cross_entropy_loss(y_pred, y)"
      ],
      "metadata": {
        "colab": {
          "base_uri": "https://localhost:8080/"
        },
        "id": "jiBSYAw9mWTs",
        "outputId": "bad0887a-81e2-4bea-8c7a-0b952f3d5161"
      },
      "execution_count": null,
      "outputs": [
        {
          "output_type": "execute_result",
          "data": {
            "text/plain": [
              "tensor(6.7012)"
            ]
          },
          "metadata": {},
          "execution_count": 7
        }
      ]
    },
    {
      "cell_type": "code",
      "source": [
        "# derivatives\n",
        "\n",
        "# 1. dL/d(y_pred) : loss w.r.t. prediction (y_pred)\n",
        "dloss_dy_pred = (y_pred-y)/(y_pred*(1-y_pred))\n",
        "\n",
        "# 2. dy_pred/dz : y_pred w.r.t. z (sigmoid fxn)\n",
        "dy_pred_dz = y_pred * (1 - y_pred)\n",
        "\n",
        "# 3. dz/dw and dz/db: z w.r.t. w and b\n",
        "dz_dw = x\n",
        "dz_db = 1\n",
        "\n",
        "dL_dw = dloss_dy_pred * dy_pred_dz * dz_dw\n",
        "dL_db = dloss_dy_pred * dy_pred_dz * dz_db"
      ],
      "metadata": {
        "id": "2Hi0DgpSmqNm"
      },
      "execution_count": null,
      "outputs": []
    },
    {
      "cell_type": "code",
      "source": [
        "print(f\"Manual gradient of Loss w.r.t. weight: {dL_dw}\")\n",
        "print(f\"Manual gradient of Loss w.r.t. bias: {dL_db}\")"
      ],
      "metadata": {
        "colab": {
          "base_uri": "https://localhost:8080/"
        },
        "id": "XZpFK700oJx7",
        "outputId": "4beeecbc-e82f-4044-c827-a6db7e17c92e"
      },
      "execution_count": null,
      "outputs": [
        {
          "output_type": "stream",
          "name": "stdout",
          "text": [
            "Manual gradient of Loss w.r.t. weight: 6.691762447357178\n",
            "Manual gradient of Loss w.r.t. bias: 0.998770534992218\n"
          ]
        }
      ]
    },
    {
      "cell_type": "code",
      "source": [
        "# using the same x and y\n",
        "print(x)\n",
        "print(y)"
      ],
      "metadata": {
        "colab": {
          "base_uri": "https://localhost:8080/"
        },
        "id": "thI6pAgzoWk-",
        "outputId": "b1d02023-31ad-4bd8-ae51-9b9c49a67310"
      },
      "execution_count": null,
      "outputs": [
        {
          "output_type": "stream",
          "name": "stdout",
          "text": [
            "tensor(6.7000)\n",
            "tensor(0.)\n"
          ]
        }
      ]
    },
    {
      "cell_type": "code",
      "source": [
        "# to use autograd we redefine the weight and bias tensors with requires_grad=True\n",
        "wa = torch.tensor(1.0, requires_grad=True)\n",
        "ba = torch.tensor(0.0, requires_grad=True)\n",
        "print(wa)\n",
        "print(ba)"
      ],
      "metadata": {
        "colab": {
          "base_uri": "https://localhost:8080/"
        },
        "id": "azFumL8Lo3Eq",
        "outputId": "3065ce65-1d9b-41ba-9333-03fb447421fa"
      },
      "execution_count": null,
      "outputs": [
        {
          "output_type": "stream",
          "name": "stdout",
          "text": [
            "tensor(1., requires_grad=True)\n",
            "tensor(0., requires_grad=True)\n"
          ]
        }
      ]
    },
    {
      "cell_type": "code",
      "source": [
        "z = wa * x + ba\n",
        "z"
      ],
      "metadata": {
        "colab": {
          "base_uri": "https://localhost:8080/"
        },
        "id": "9QdQhWhepTnf",
        "outputId": "6f81d19e-6f18-41e5-f0d4-b510c8e27e3f"
      },
      "execution_count": null,
      "outputs": [
        {
          "output_type": "execute_result",
          "data": {
            "text/plain": [
              "tensor(6.7000, grad_fn=<AddBackward0>)"
            ]
          },
          "metadata": {},
          "execution_count": 12
        }
      ]
    },
    {
      "cell_type": "code",
      "source": [
        "y_pred = torch.sigmoid(z)\n",
        "y_pred"
      ],
      "metadata": {
        "colab": {
          "base_uri": "https://localhost:8080/"
        },
        "id": "sS75ckzrpdXk",
        "outputId": "42d85ddc-08fa-4697-d5d1-8ca0b59265d5"
      },
      "execution_count": null,
      "outputs": [
        {
          "output_type": "execute_result",
          "data": {
            "text/plain": [
              "tensor(0.9988, grad_fn=<SigmoidBackward0>)"
            ]
          },
          "metadata": {},
          "execution_count": 13
        }
      ]
    },
    {
      "cell_type": "code",
      "source": [
        "loss = binary_cross_entropy_loss(y_pred, y)\n",
        "loss"
      ],
      "metadata": {
        "colab": {
          "base_uri": "https://localhost:8080/"
        },
        "id": "o0vxorOPphfM",
        "outputId": "4fb58c20-2a12-4dd6-d00b-fbee702fe17d"
      },
      "execution_count": null,
      "outputs": [
        {
          "output_type": "execute_result",
          "data": {
            "text/plain": [
              "tensor(6.7012, grad_fn=<NegBackward0>)"
            ]
          },
          "metadata": {},
          "execution_count": 14
        }
      ]
    },
    {
      "cell_type": "code",
      "source": [
        "loss.backward()"
      ],
      "metadata": {
        "id": "hcX5NURrppkR"
      },
      "execution_count": null,
      "outputs": []
    },
    {
      "cell_type": "code",
      "source": [
        "print(wa.grad)\n",
        "print(ba.grad)"
      ],
      "metadata": {
        "colab": {
          "base_uri": "https://localhost:8080/"
        },
        "id": "KjevMw_6puQU",
        "outputId": "ada41ed0-f495-45c6-c110-4599f8a02f36"
      },
      "execution_count": null,
      "outputs": [
        {
          "output_type": "stream",
          "name": "stdout",
          "text": [
            "tensor(6.6918)\n",
            "tensor(0.9988)\n"
          ]
        }
      ]
    },
    {
      "cell_type": "markdown",
      "source": [
        "# 12. Gradient accumulation and clearing\n",
        "\n",
        "Gradient gets accumulated if you run forward pass and backward pass again and again. So before running next forward pass, always clear the gradient."
      ],
      "metadata": {
        "id": "n91q687ywxCw"
      }
    },
    {
      "cell_type": "code",
      "source": [
        "x = torch.tensor([1,2,3], dtype=torch.float64, requires_grad=True)"
      ],
      "metadata": {
        "id": "6NdrF_RXs3Ov"
      },
      "execution_count": null,
      "outputs": []
    },
    {
      "cell_type": "code",
      "source": [
        "# forward pass\n",
        "y = (x**2).mean()\n",
        "y"
      ],
      "metadata": {
        "colab": {
          "base_uri": "https://localhost:8080/"
        },
        "id": "WkBM73pcwP4J",
        "outputId": "eadce335-313c-4850-e243-234e8674bd78"
      },
      "execution_count": null,
      "outputs": [
        {
          "output_type": "execute_result",
          "data": {
            "text/plain": [
              "tensor(4.6667, dtype=torch.float64, grad_fn=<MeanBackward0>)"
            ]
          },
          "metadata": {},
          "execution_count": 36
        }
      ]
    },
    {
      "cell_type": "code",
      "source": [
        "# backward pass\n",
        "y.backward()"
      ],
      "metadata": {
        "id": "OV-xtkjZu6Ta"
      },
      "execution_count": null,
      "outputs": []
    },
    {
      "cell_type": "code",
      "source": [
        "x.grad"
      ],
      "metadata": {
        "colab": {
          "base_uri": "https://localhost:8080/"
        },
        "id": "x1wTq3c9vLME",
        "outputId": "6651a5d5-efe1-4335-9aab-1ed563c8747c"
      },
      "execution_count": null,
      "outputs": [
        {
          "output_type": "execute_result",
          "data": {
            "text/plain": [
              "tensor([0.6667, 1.3333, 2.0000], dtype=torch.float64)"
            ]
          },
          "metadata": {},
          "execution_count": 38
        }
      ]
    },
    {
      "cell_type": "code",
      "source": [
        "x.grad.zero_()"
      ],
      "metadata": {
        "colab": {
          "base_uri": "https://localhost:8080/"
        },
        "id": "Oe6pZJF5vMVM",
        "outputId": "a217306d-742d-45c0-91c7-0a31a1a433d1"
      },
      "execution_count": null,
      "outputs": [
        {
          "output_type": "execute_result",
          "data": {
            "text/plain": [
              "tensor([0., 0., 0.], dtype=torch.float64)"
            ]
          },
          "metadata": {},
          "execution_count": 39
        }
      ]
    },
    {
      "cell_type": "markdown",
      "source": [
        "# 13. Disable gradient tracking\n",
        "\n",
        "Once a network is trained and we only want to utilize it to make predictions, i.e. we only want to use the forward pass.\n",
        "There is no need to keep track of gradients.\n",
        "Doing so will unnecessarily occupy memory and add computation overheads.\n"
      ],
      "metadata": {
        "id": "nVynau3KxN9D"
      }
    },
    {
      "cell_type": "code",
      "source": [
        "x = torch.tensor(2.0, requires_grad=True)\n",
        "x"
      ],
      "metadata": {
        "colab": {
          "base_uri": "https://localhost:8080/"
        },
        "id": "m1QdIaZPyEYq",
        "outputId": "c99786a4-5c30-4f64-f117-31e39bdaa6ca"
      },
      "execution_count": null,
      "outputs": [
        {
          "output_type": "execute_result",
          "data": {
            "text/plain": [
              "tensor(2., requires_grad=True)"
            ]
          },
          "metadata": {},
          "execution_count": 43
        }
      ]
    },
    {
      "cell_type": "code",
      "source": [
        "# option1 .requires_grad_(False)\n",
        "x.requires_grad_(False)"
      ],
      "metadata": {
        "colab": {
          "base_uri": "https://localhost:8080/"
        },
        "id": "5kUyfm6cwpsK",
        "outputId": "fcc6dcb9-5d90-4af1-859c-57a04b354280"
      },
      "execution_count": null,
      "outputs": [
        {
          "output_type": "execute_result",
          "data": {
            "text/plain": [
              "tensor(2.)"
            ]
          },
          "metadata": {},
          "execution_count": 44
        }
      ]
    },
    {
      "cell_type": "code",
      "source": [
        "# option2 using detach\n",
        "x = torch.tensor(2.0, requires_grad=True)\n",
        "print(x)\n",
        "z = x.detach()\n",
        "print(z)"
      ],
      "metadata": {
        "colab": {
          "base_uri": "https://localhost:8080/"
        },
        "id": "2_s19VxbyBFA",
        "outputId": "ce849d57-e1fb-41f4-9ade-ef10ccb5e18f"
      },
      "execution_count": null,
      "outputs": [
        {
          "output_type": "stream",
          "name": "stdout",
          "text": [
            "tensor(2., requires_grad=True)\n",
            "tensor(2.)\n"
          ]
        }
      ]
    },
    {
      "cell_type": "code",
      "source": [
        "# option3 torch.no_grad()\n",
        "x = torch.tensor(2.0, requires_grad=True)\n",
        "print(x)\n",
        "with torch.no_grad():\n",
        "  y = x ** 2\n",
        "y"
      ],
      "metadata": {
        "colab": {
          "base_uri": "https://localhost:8080/"
        },
        "id": "x3gA3RFKyCf0",
        "outputId": "243cc9e0-eddf-4edb-b736-9fd0a13ac4ca"
      },
      "execution_count": null,
      "outputs": [
        {
          "output_type": "stream",
          "name": "stdout",
          "text": [
            "tensor(2., requires_grad=True)\n"
          ]
        },
        {
          "output_type": "execute_result",
          "data": {
            "text/plain": [
              "tensor(4.)"
            ]
          },
          "metadata": {},
          "execution_count": 46
        }
      ]
    },
    {
      "cell_type": "markdown",
      "source": [
        "# 14. Manually simulating a Pytorch Training Pipeline\n"
      ],
      "metadata": {
        "id": "o2rbhsllzWHY"
      }
    },
    {
      "cell_type": "markdown",
      "source": [
        "## 14.1 Importing libraries and data loading"
      ],
      "metadata": {
        "id": "7QDJOzUd6wwo"
      }
    },
    {
      "cell_type": "code",
      "source": [
        "import numpy as np\n",
        "import pandas as pd\n",
        "import torch\n",
        "from sklearn.model_selection import train_test_split\n",
        "from sklearn.preprocessing import StandardScaler\n",
        "from sklearn.preprocessing import LabelEncoder"
      ],
      "metadata": {
        "id": "7U8BZMApzJeM"
      },
      "execution_count": null,
      "outputs": []
    },
    {
      "cell_type": "code",
      "source": [
        "df = pd.read_csv('https://raw.githubusercontent.com/gscdit/Breast-Cancer-Detection/refs/heads/master/data.csv')\n",
        "df.head()"
      ],
      "metadata": {
        "colab": {
          "base_uri": "https://localhost:8080/",
          "height": 270
        },
        "id": "ItBBiRHU6Exm",
        "outputId": "573afd37-d03d-49e3-907f-e4abc75d6b1d"
      },
      "execution_count": null,
      "outputs": [
        {
          "output_type": "execute_result",
          "data": {
            "text/plain": [
              "         id diagnosis  radius_mean  texture_mean  perimeter_mean  area_mean  \\\n",
              "0    842302         M        17.99         10.38          122.80     1001.0   \n",
              "1    842517         M        20.57         17.77          132.90     1326.0   \n",
              "2  84300903         M        19.69         21.25          130.00     1203.0   \n",
              "3  84348301         M        11.42         20.38           77.58      386.1   \n",
              "4  84358402         M        20.29         14.34          135.10     1297.0   \n",
              "\n",
              "   smoothness_mean  compactness_mean  concavity_mean  concave points_mean  \\\n",
              "0          0.11840           0.27760          0.3001              0.14710   \n",
              "1          0.08474           0.07864          0.0869              0.07017   \n",
              "2          0.10960           0.15990          0.1974              0.12790   \n",
              "3          0.14250           0.28390          0.2414              0.10520   \n",
              "4          0.10030           0.13280          0.1980              0.10430   \n",
              "\n",
              "   ...  texture_worst  perimeter_worst  area_worst  smoothness_worst  \\\n",
              "0  ...          17.33           184.60      2019.0            0.1622   \n",
              "1  ...          23.41           158.80      1956.0            0.1238   \n",
              "2  ...          25.53           152.50      1709.0            0.1444   \n",
              "3  ...          26.50            98.87       567.7            0.2098   \n",
              "4  ...          16.67           152.20      1575.0            0.1374   \n",
              "\n",
              "   compactness_worst  concavity_worst  concave points_worst  symmetry_worst  \\\n",
              "0             0.6656           0.7119                0.2654          0.4601   \n",
              "1             0.1866           0.2416                0.1860          0.2750   \n",
              "2             0.4245           0.4504                0.2430          0.3613   \n",
              "3             0.8663           0.6869                0.2575          0.6638   \n",
              "4             0.2050           0.4000                0.1625          0.2364   \n",
              "\n",
              "   fractal_dimension_worst  Unnamed: 32  \n",
              "0                  0.11890          NaN  \n",
              "1                  0.08902          NaN  \n",
              "2                  0.08758          NaN  \n",
              "3                  0.17300          NaN  \n",
              "4                  0.07678          NaN  \n",
              "\n",
              "[5 rows x 33 columns]"
            ],
            "text/html": [
              "\n",
              "  <div id=\"df-371ab1a6-32be-42e9-91bf-e919addd650a\" class=\"colab-df-container\">\n",
              "    <div>\n",
              "<style scoped>\n",
              "    .dataframe tbody tr th:only-of-type {\n",
              "        vertical-align: middle;\n",
              "    }\n",
              "\n",
              "    .dataframe tbody tr th {\n",
              "        vertical-align: top;\n",
              "    }\n",
              "\n",
              "    .dataframe thead th {\n",
              "        text-align: right;\n",
              "    }\n",
              "</style>\n",
              "<table border=\"1\" class=\"dataframe\">\n",
              "  <thead>\n",
              "    <tr style=\"text-align: right;\">\n",
              "      <th></th>\n",
              "      <th>id</th>\n",
              "      <th>diagnosis</th>\n",
              "      <th>radius_mean</th>\n",
              "      <th>texture_mean</th>\n",
              "      <th>perimeter_mean</th>\n",
              "      <th>area_mean</th>\n",
              "      <th>smoothness_mean</th>\n",
              "      <th>compactness_mean</th>\n",
              "      <th>concavity_mean</th>\n",
              "      <th>concave points_mean</th>\n",
              "      <th>...</th>\n",
              "      <th>texture_worst</th>\n",
              "      <th>perimeter_worst</th>\n",
              "      <th>area_worst</th>\n",
              "      <th>smoothness_worst</th>\n",
              "      <th>compactness_worst</th>\n",
              "      <th>concavity_worst</th>\n",
              "      <th>concave points_worst</th>\n",
              "      <th>symmetry_worst</th>\n",
              "      <th>fractal_dimension_worst</th>\n",
              "      <th>Unnamed: 32</th>\n",
              "    </tr>\n",
              "  </thead>\n",
              "  <tbody>\n",
              "    <tr>\n",
              "      <th>0</th>\n",
              "      <td>842302</td>\n",
              "      <td>M</td>\n",
              "      <td>17.99</td>\n",
              "      <td>10.38</td>\n",
              "      <td>122.80</td>\n",
              "      <td>1001.0</td>\n",
              "      <td>0.11840</td>\n",
              "      <td>0.27760</td>\n",
              "      <td>0.3001</td>\n",
              "      <td>0.14710</td>\n",
              "      <td>...</td>\n",
              "      <td>17.33</td>\n",
              "      <td>184.60</td>\n",
              "      <td>2019.0</td>\n",
              "      <td>0.1622</td>\n",
              "      <td>0.6656</td>\n",
              "      <td>0.7119</td>\n",
              "      <td>0.2654</td>\n",
              "      <td>0.4601</td>\n",
              "      <td>0.11890</td>\n",
              "      <td>NaN</td>\n",
              "    </tr>\n",
              "    <tr>\n",
              "      <th>1</th>\n",
              "      <td>842517</td>\n",
              "      <td>M</td>\n",
              "      <td>20.57</td>\n",
              "      <td>17.77</td>\n",
              "      <td>132.90</td>\n",
              "      <td>1326.0</td>\n",
              "      <td>0.08474</td>\n",
              "      <td>0.07864</td>\n",
              "      <td>0.0869</td>\n",
              "      <td>0.07017</td>\n",
              "      <td>...</td>\n",
              "      <td>23.41</td>\n",
              "      <td>158.80</td>\n",
              "      <td>1956.0</td>\n",
              "      <td>0.1238</td>\n",
              "      <td>0.1866</td>\n",
              "      <td>0.2416</td>\n",
              "      <td>0.1860</td>\n",
              "      <td>0.2750</td>\n",
              "      <td>0.08902</td>\n",
              "      <td>NaN</td>\n",
              "    </tr>\n",
              "    <tr>\n",
              "      <th>2</th>\n",
              "      <td>84300903</td>\n",
              "      <td>M</td>\n",
              "      <td>19.69</td>\n",
              "      <td>21.25</td>\n",
              "      <td>130.00</td>\n",
              "      <td>1203.0</td>\n",
              "      <td>0.10960</td>\n",
              "      <td>0.15990</td>\n",
              "      <td>0.1974</td>\n",
              "      <td>0.12790</td>\n",
              "      <td>...</td>\n",
              "      <td>25.53</td>\n",
              "      <td>152.50</td>\n",
              "      <td>1709.0</td>\n",
              "      <td>0.1444</td>\n",
              "      <td>0.4245</td>\n",
              "      <td>0.4504</td>\n",
              "      <td>0.2430</td>\n",
              "      <td>0.3613</td>\n",
              "      <td>0.08758</td>\n",
              "      <td>NaN</td>\n",
              "    </tr>\n",
              "    <tr>\n",
              "      <th>3</th>\n",
              "      <td>84348301</td>\n",
              "      <td>M</td>\n",
              "      <td>11.42</td>\n",
              "      <td>20.38</td>\n",
              "      <td>77.58</td>\n",
              "      <td>386.1</td>\n",
              "      <td>0.14250</td>\n",
              "      <td>0.28390</td>\n",
              "      <td>0.2414</td>\n",
              "      <td>0.10520</td>\n",
              "      <td>...</td>\n",
              "      <td>26.50</td>\n",
              "      <td>98.87</td>\n",
              "      <td>567.7</td>\n",
              "      <td>0.2098</td>\n",
              "      <td>0.8663</td>\n",
              "      <td>0.6869</td>\n",
              "      <td>0.2575</td>\n",
              "      <td>0.6638</td>\n",
              "      <td>0.17300</td>\n",
              "      <td>NaN</td>\n",
              "    </tr>\n",
              "    <tr>\n",
              "      <th>4</th>\n",
              "      <td>84358402</td>\n",
              "      <td>M</td>\n",
              "      <td>20.29</td>\n",
              "      <td>14.34</td>\n",
              "      <td>135.10</td>\n",
              "      <td>1297.0</td>\n",
              "      <td>0.10030</td>\n",
              "      <td>0.13280</td>\n",
              "      <td>0.1980</td>\n",
              "      <td>0.10430</td>\n",
              "      <td>...</td>\n",
              "      <td>16.67</td>\n",
              "      <td>152.20</td>\n",
              "      <td>1575.0</td>\n",
              "      <td>0.1374</td>\n",
              "      <td>0.2050</td>\n",
              "      <td>0.4000</td>\n",
              "      <td>0.1625</td>\n",
              "      <td>0.2364</td>\n",
              "      <td>0.07678</td>\n",
              "      <td>NaN</td>\n",
              "    </tr>\n",
              "  </tbody>\n",
              "</table>\n",
              "<p>5 rows × 33 columns</p>\n",
              "</div>\n",
              "    <div class=\"colab-df-buttons\">\n",
              "\n",
              "  <div class=\"colab-df-container\">\n",
              "    <button class=\"colab-df-convert\" onclick=\"convertToInteractive('df-371ab1a6-32be-42e9-91bf-e919addd650a')\"\n",
              "            title=\"Convert this dataframe to an interactive table.\"\n",
              "            style=\"display:none;\">\n",
              "\n",
              "  <svg xmlns=\"http://www.w3.org/2000/svg\" height=\"24px\" viewBox=\"0 -960 960 960\">\n",
              "    <path d=\"M120-120v-720h720v720H120Zm60-500h600v-160H180v160Zm220 220h160v-160H400v160Zm0 220h160v-160H400v160ZM180-400h160v-160H180v160Zm440 0h160v-160H620v160ZM180-180h160v-160H180v160Zm440 0h160v-160H620v160Z\"/>\n",
              "  </svg>\n",
              "    </button>\n",
              "\n",
              "  <style>\n",
              "    .colab-df-container {\n",
              "      display:flex;\n",
              "      gap: 12px;\n",
              "    }\n",
              "\n",
              "    .colab-df-convert {\n",
              "      background-color: #E8F0FE;\n",
              "      border: none;\n",
              "      border-radius: 50%;\n",
              "      cursor: pointer;\n",
              "      display: none;\n",
              "      fill: #1967D2;\n",
              "      height: 32px;\n",
              "      padding: 0 0 0 0;\n",
              "      width: 32px;\n",
              "    }\n",
              "\n",
              "    .colab-df-convert:hover {\n",
              "      background-color: #E2EBFA;\n",
              "      box-shadow: 0px 1px 2px rgba(60, 64, 67, 0.3), 0px 1px 3px 1px rgba(60, 64, 67, 0.15);\n",
              "      fill: #174EA6;\n",
              "    }\n",
              "\n",
              "    .colab-df-buttons div {\n",
              "      margin-bottom: 4px;\n",
              "    }\n",
              "\n",
              "    [theme=dark] .colab-df-convert {\n",
              "      background-color: #3B4455;\n",
              "      fill: #D2E3FC;\n",
              "    }\n",
              "\n",
              "    [theme=dark] .colab-df-convert:hover {\n",
              "      background-color: #434B5C;\n",
              "      box-shadow: 0px 1px 3px 1px rgba(0, 0, 0, 0.15);\n",
              "      filter: drop-shadow(0px 1px 2px rgba(0, 0, 0, 0.3));\n",
              "      fill: #FFFFFF;\n",
              "    }\n",
              "  </style>\n",
              "\n",
              "    <script>\n",
              "      const buttonEl =\n",
              "        document.querySelector('#df-371ab1a6-32be-42e9-91bf-e919addd650a button.colab-df-convert');\n",
              "      buttonEl.style.display =\n",
              "        google.colab.kernel.accessAllowed ? 'block' : 'none';\n",
              "\n",
              "      async function convertToInteractive(key) {\n",
              "        const element = document.querySelector('#df-371ab1a6-32be-42e9-91bf-e919addd650a');\n",
              "        const dataTable =\n",
              "          await google.colab.kernel.invokeFunction('convertToInteractive',\n",
              "                                                    [key], {});\n",
              "        if (!dataTable) return;\n",
              "\n",
              "        const docLinkHtml = 'Like what you see? Visit the ' +\n",
              "          '<a target=\"_blank\" href=https://colab.research.google.com/notebooks/data_table.ipynb>data table notebook</a>'\n",
              "          + ' to learn more about interactive tables.';\n",
              "        element.innerHTML = '';\n",
              "        dataTable['output_type'] = 'display_data';\n",
              "        await google.colab.output.renderOutput(dataTable, element);\n",
              "        const docLink = document.createElement('div');\n",
              "        docLink.innerHTML = docLinkHtml;\n",
              "        element.appendChild(docLink);\n",
              "      }\n",
              "    </script>\n",
              "  </div>\n",
              "\n",
              "\n",
              "    <div id=\"df-1aeefa30-842b-4274-8936-c2f4ee149bb3\">\n",
              "      <button class=\"colab-df-quickchart\" onclick=\"quickchart('df-1aeefa30-842b-4274-8936-c2f4ee149bb3')\"\n",
              "                title=\"Suggest charts\"\n",
              "                style=\"display:none;\">\n",
              "\n",
              "<svg xmlns=\"http://www.w3.org/2000/svg\" height=\"24px\"viewBox=\"0 0 24 24\"\n",
              "     width=\"24px\">\n",
              "    <g>\n",
              "        <path d=\"M19 3H5c-1.1 0-2 .9-2 2v14c0 1.1.9 2 2 2h14c1.1 0 2-.9 2-2V5c0-1.1-.9-2-2-2zM9 17H7v-7h2v7zm4 0h-2V7h2v10zm4 0h-2v-4h2v4z\"/>\n",
              "    </g>\n",
              "</svg>\n",
              "      </button>\n",
              "\n",
              "<style>\n",
              "  .colab-df-quickchart {\n",
              "      --bg-color: #E8F0FE;\n",
              "      --fill-color: #1967D2;\n",
              "      --hover-bg-color: #E2EBFA;\n",
              "      --hover-fill-color: #174EA6;\n",
              "      --disabled-fill-color: #AAA;\n",
              "      --disabled-bg-color: #DDD;\n",
              "  }\n",
              "\n",
              "  [theme=dark] .colab-df-quickchart {\n",
              "      --bg-color: #3B4455;\n",
              "      --fill-color: #D2E3FC;\n",
              "      --hover-bg-color: #434B5C;\n",
              "      --hover-fill-color: #FFFFFF;\n",
              "      --disabled-bg-color: #3B4455;\n",
              "      --disabled-fill-color: #666;\n",
              "  }\n",
              "\n",
              "  .colab-df-quickchart {\n",
              "    background-color: var(--bg-color);\n",
              "    border: none;\n",
              "    border-radius: 50%;\n",
              "    cursor: pointer;\n",
              "    display: none;\n",
              "    fill: var(--fill-color);\n",
              "    height: 32px;\n",
              "    padding: 0;\n",
              "    width: 32px;\n",
              "  }\n",
              "\n",
              "  .colab-df-quickchart:hover {\n",
              "    background-color: var(--hover-bg-color);\n",
              "    box-shadow: 0 1px 2px rgba(60, 64, 67, 0.3), 0 1px 3px 1px rgba(60, 64, 67, 0.15);\n",
              "    fill: var(--button-hover-fill-color);\n",
              "  }\n",
              "\n",
              "  .colab-df-quickchart-complete:disabled,\n",
              "  .colab-df-quickchart-complete:disabled:hover {\n",
              "    background-color: var(--disabled-bg-color);\n",
              "    fill: var(--disabled-fill-color);\n",
              "    box-shadow: none;\n",
              "  }\n",
              "\n",
              "  .colab-df-spinner {\n",
              "    border: 2px solid var(--fill-color);\n",
              "    border-color: transparent;\n",
              "    border-bottom-color: var(--fill-color);\n",
              "    animation:\n",
              "      spin 1s steps(1) infinite;\n",
              "  }\n",
              "\n",
              "  @keyframes spin {\n",
              "    0% {\n",
              "      border-color: transparent;\n",
              "      border-bottom-color: var(--fill-color);\n",
              "      border-left-color: var(--fill-color);\n",
              "    }\n",
              "    20% {\n",
              "      border-color: transparent;\n",
              "      border-left-color: var(--fill-color);\n",
              "      border-top-color: var(--fill-color);\n",
              "    }\n",
              "    30% {\n",
              "      border-color: transparent;\n",
              "      border-left-color: var(--fill-color);\n",
              "      border-top-color: var(--fill-color);\n",
              "      border-right-color: var(--fill-color);\n",
              "    }\n",
              "    40% {\n",
              "      border-color: transparent;\n",
              "      border-right-color: var(--fill-color);\n",
              "      border-top-color: var(--fill-color);\n",
              "    }\n",
              "    60% {\n",
              "      border-color: transparent;\n",
              "      border-right-color: var(--fill-color);\n",
              "    }\n",
              "    80% {\n",
              "      border-color: transparent;\n",
              "      border-right-color: var(--fill-color);\n",
              "      border-bottom-color: var(--fill-color);\n",
              "    }\n",
              "    90% {\n",
              "      border-color: transparent;\n",
              "      border-bottom-color: var(--fill-color);\n",
              "    }\n",
              "  }\n",
              "</style>\n",
              "\n",
              "      <script>\n",
              "        async function quickchart(key) {\n",
              "          const quickchartButtonEl =\n",
              "            document.querySelector('#' + key + ' button');\n",
              "          quickchartButtonEl.disabled = true;  // To prevent multiple clicks.\n",
              "          quickchartButtonEl.classList.add('colab-df-spinner');\n",
              "          try {\n",
              "            const charts = await google.colab.kernel.invokeFunction(\n",
              "                'suggestCharts', [key], {});\n",
              "          } catch (error) {\n",
              "            console.error('Error during call to suggestCharts:', error);\n",
              "          }\n",
              "          quickchartButtonEl.classList.remove('colab-df-spinner');\n",
              "          quickchartButtonEl.classList.add('colab-df-quickchart-complete');\n",
              "        }\n",
              "        (() => {\n",
              "          let quickchartButtonEl =\n",
              "            document.querySelector('#df-1aeefa30-842b-4274-8936-c2f4ee149bb3 button');\n",
              "          quickchartButtonEl.style.display =\n",
              "            google.colab.kernel.accessAllowed ? 'block' : 'none';\n",
              "        })();\n",
              "      </script>\n",
              "    </div>\n",
              "\n",
              "    </div>\n",
              "  </div>\n"
            ],
            "application/vnd.google.colaboratory.intrinsic+json": {
              "type": "dataframe",
              "variable_name": "df"
            }
          },
          "metadata": {},
          "execution_count": 48
        }
      ]
    },
    {
      "cell_type": "code",
      "source": [
        "df.shape"
      ],
      "metadata": {
        "colab": {
          "base_uri": "https://localhost:8080/"
        },
        "id": "VFx1i6196LtS",
        "outputId": "b8800ed1-f3fe-4b83-b4be-a29aa09ff199"
      },
      "execution_count": null,
      "outputs": [
        {
          "output_type": "execute_result",
          "data": {
            "text/plain": [
              "(569, 33)"
            ]
          },
          "metadata": {},
          "execution_count": 49
        }
      ]
    },
    {
      "cell_type": "code",
      "source": [
        "df.drop(columns=['id', 'Unnamed: 32'], inplace=True)"
      ],
      "metadata": {
        "id": "zatlJZxP6bYd"
      },
      "execution_count": null,
      "outputs": []
    },
    {
      "cell_type": "code",
      "source": [
        "df.head()"
      ],
      "metadata": {
        "colab": {
          "base_uri": "https://localhost:8080/",
          "height": 270
        },
        "id": "TvO1i0Ut6jSQ",
        "outputId": "ebccdb8e-2a51-475a-a327-0fda685545a5"
      },
      "execution_count": null,
      "outputs": [
        {
          "output_type": "execute_result",
          "data": {
            "text/plain": [
              "  diagnosis  radius_mean  texture_mean  perimeter_mean  area_mean  \\\n",
              "0         M        17.99         10.38          122.80     1001.0   \n",
              "1         M        20.57         17.77          132.90     1326.0   \n",
              "2         M        19.69         21.25          130.00     1203.0   \n",
              "3         M        11.42         20.38           77.58      386.1   \n",
              "4         M        20.29         14.34          135.10     1297.0   \n",
              "\n",
              "   smoothness_mean  compactness_mean  concavity_mean  concave points_mean  \\\n",
              "0          0.11840           0.27760          0.3001              0.14710   \n",
              "1          0.08474           0.07864          0.0869              0.07017   \n",
              "2          0.10960           0.15990          0.1974              0.12790   \n",
              "3          0.14250           0.28390          0.2414              0.10520   \n",
              "4          0.10030           0.13280          0.1980              0.10430   \n",
              "\n",
              "   symmetry_mean  ...  radius_worst  texture_worst  perimeter_worst  \\\n",
              "0         0.2419  ...         25.38          17.33           184.60   \n",
              "1         0.1812  ...         24.99          23.41           158.80   \n",
              "2         0.2069  ...         23.57          25.53           152.50   \n",
              "3         0.2597  ...         14.91          26.50            98.87   \n",
              "4         0.1809  ...         22.54          16.67           152.20   \n",
              "\n",
              "   area_worst  smoothness_worst  compactness_worst  concavity_worst  \\\n",
              "0      2019.0            0.1622             0.6656           0.7119   \n",
              "1      1956.0            0.1238             0.1866           0.2416   \n",
              "2      1709.0            0.1444             0.4245           0.4504   \n",
              "3       567.7            0.2098             0.8663           0.6869   \n",
              "4      1575.0            0.1374             0.2050           0.4000   \n",
              "\n",
              "   concave points_worst  symmetry_worst  fractal_dimension_worst  \n",
              "0                0.2654          0.4601                  0.11890  \n",
              "1                0.1860          0.2750                  0.08902  \n",
              "2                0.2430          0.3613                  0.08758  \n",
              "3                0.2575          0.6638                  0.17300  \n",
              "4                0.1625          0.2364                  0.07678  \n",
              "\n",
              "[5 rows x 31 columns]"
            ],
            "text/html": [
              "\n",
              "  <div id=\"df-032959d7-cf56-4af5-a6a1-356b1a962825\" class=\"colab-df-container\">\n",
              "    <div>\n",
              "<style scoped>\n",
              "    .dataframe tbody tr th:only-of-type {\n",
              "        vertical-align: middle;\n",
              "    }\n",
              "\n",
              "    .dataframe tbody tr th {\n",
              "        vertical-align: top;\n",
              "    }\n",
              "\n",
              "    .dataframe thead th {\n",
              "        text-align: right;\n",
              "    }\n",
              "</style>\n",
              "<table border=\"1\" class=\"dataframe\">\n",
              "  <thead>\n",
              "    <tr style=\"text-align: right;\">\n",
              "      <th></th>\n",
              "      <th>diagnosis</th>\n",
              "      <th>radius_mean</th>\n",
              "      <th>texture_mean</th>\n",
              "      <th>perimeter_mean</th>\n",
              "      <th>area_mean</th>\n",
              "      <th>smoothness_mean</th>\n",
              "      <th>compactness_mean</th>\n",
              "      <th>concavity_mean</th>\n",
              "      <th>concave points_mean</th>\n",
              "      <th>symmetry_mean</th>\n",
              "      <th>...</th>\n",
              "      <th>radius_worst</th>\n",
              "      <th>texture_worst</th>\n",
              "      <th>perimeter_worst</th>\n",
              "      <th>area_worst</th>\n",
              "      <th>smoothness_worst</th>\n",
              "      <th>compactness_worst</th>\n",
              "      <th>concavity_worst</th>\n",
              "      <th>concave points_worst</th>\n",
              "      <th>symmetry_worst</th>\n",
              "      <th>fractal_dimension_worst</th>\n",
              "    </tr>\n",
              "  </thead>\n",
              "  <tbody>\n",
              "    <tr>\n",
              "      <th>0</th>\n",
              "      <td>M</td>\n",
              "      <td>17.99</td>\n",
              "      <td>10.38</td>\n",
              "      <td>122.80</td>\n",
              "      <td>1001.0</td>\n",
              "      <td>0.11840</td>\n",
              "      <td>0.27760</td>\n",
              "      <td>0.3001</td>\n",
              "      <td>0.14710</td>\n",
              "      <td>0.2419</td>\n",
              "      <td>...</td>\n",
              "      <td>25.38</td>\n",
              "      <td>17.33</td>\n",
              "      <td>184.60</td>\n",
              "      <td>2019.0</td>\n",
              "      <td>0.1622</td>\n",
              "      <td>0.6656</td>\n",
              "      <td>0.7119</td>\n",
              "      <td>0.2654</td>\n",
              "      <td>0.4601</td>\n",
              "      <td>0.11890</td>\n",
              "    </tr>\n",
              "    <tr>\n",
              "      <th>1</th>\n",
              "      <td>M</td>\n",
              "      <td>20.57</td>\n",
              "      <td>17.77</td>\n",
              "      <td>132.90</td>\n",
              "      <td>1326.0</td>\n",
              "      <td>0.08474</td>\n",
              "      <td>0.07864</td>\n",
              "      <td>0.0869</td>\n",
              "      <td>0.07017</td>\n",
              "      <td>0.1812</td>\n",
              "      <td>...</td>\n",
              "      <td>24.99</td>\n",
              "      <td>23.41</td>\n",
              "      <td>158.80</td>\n",
              "      <td>1956.0</td>\n",
              "      <td>0.1238</td>\n",
              "      <td>0.1866</td>\n",
              "      <td>0.2416</td>\n",
              "      <td>0.1860</td>\n",
              "      <td>0.2750</td>\n",
              "      <td>0.08902</td>\n",
              "    </tr>\n",
              "    <tr>\n",
              "      <th>2</th>\n",
              "      <td>M</td>\n",
              "      <td>19.69</td>\n",
              "      <td>21.25</td>\n",
              "      <td>130.00</td>\n",
              "      <td>1203.0</td>\n",
              "      <td>0.10960</td>\n",
              "      <td>0.15990</td>\n",
              "      <td>0.1974</td>\n",
              "      <td>0.12790</td>\n",
              "      <td>0.2069</td>\n",
              "      <td>...</td>\n",
              "      <td>23.57</td>\n",
              "      <td>25.53</td>\n",
              "      <td>152.50</td>\n",
              "      <td>1709.0</td>\n",
              "      <td>0.1444</td>\n",
              "      <td>0.4245</td>\n",
              "      <td>0.4504</td>\n",
              "      <td>0.2430</td>\n",
              "      <td>0.3613</td>\n",
              "      <td>0.08758</td>\n",
              "    </tr>\n",
              "    <tr>\n",
              "      <th>3</th>\n",
              "      <td>M</td>\n",
              "      <td>11.42</td>\n",
              "      <td>20.38</td>\n",
              "      <td>77.58</td>\n",
              "      <td>386.1</td>\n",
              "      <td>0.14250</td>\n",
              "      <td>0.28390</td>\n",
              "      <td>0.2414</td>\n",
              "      <td>0.10520</td>\n",
              "      <td>0.2597</td>\n",
              "      <td>...</td>\n",
              "      <td>14.91</td>\n",
              "      <td>26.50</td>\n",
              "      <td>98.87</td>\n",
              "      <td>567.7</td>\n",
              "      <td>0.2098</td>\n",
              "      <td>0.8663</td>\n",
              "      <td>0.6869</td>\n",
              "      <td>0.2575</td>\n",
              "      <td>0.6638</td>\n",
              "      <td>0.17300</td>\n",
              "    </tr>\n",
              "    <tr>\n",
              "      <th>4</th>\n",
              "      <td>M</td>\n",
              "      <td>20.29</td>\n",
              "      <td>14.34</td>\n",
              "      <td>135.10</td>\n",
              "      <td>1297.0</td>\n",
              "      <td>0.10030</td>\n",
              "      <td>0.13280</td>\n",
              "      <td>0.1980</td>\n",
              "      <td>0.10430</td>\n",
              "      <td>0.1809</td>\n",
              "      <td>...</td>\n",
              "      <td>22.54</td>\n",
              "      <td>16.67</td>\n",
              "      <td>152.20</td>\n",
              "      <td>1575.0</td>\n",
              "      <td>0.1374</td>\n",
              "      <td>0.2050</td>\n",
              "      <td>0.4000</td>\n",
              "      <td>0.1625</td>\n",
              "      <td>0.2364</td>\n",
              "      <td>0.07678</td>\n",
              "    </tr>\n",
              "  </tbody>\n",
              "</table>\n",
              "<p>5 rows × 31 columns</p>\n",
              "</div>\n",
              "    <div class=\"colab-df-buttons\">\n",
              "\n",
              "  <div class=\"colab-df-container\">\n",
              "    <button class=\"colab-df-convert\" onclick=\"convertToInteractive('df-032959d7-cf56-4af5-a6a1-356b1a962825')\"\n",
              "            title=\"Convert this dataframe to an interactive table.\"\n",
              "            style=\"display:none;\">\n",
              "\n",
              "  <svg xmlns=\"http://www.w3.org/2000/svg\" height=\"24px\" viewBox=\"0 -960 960 960\">\n",
              "    <path d=\"M120-120v-720h720v720H120Zm60-500h600v-160H180v160Zm220 220h160v-160H400v160Zm0 220h160v-160H400v160ZM180-400h160v-160H180v160Zm440 0h160v-160H620v160ZM180-180h160v-160H180v160Zm440 0h160v-160H620v160Z\"/>\n",
              "  </svg>\n",
              "    </button>\n",
              "\n",
              "  <style>\n",
              "    .colab-df-container {\n",
              "      display:flex;\n",
              "      gap: 12px;\n",
              "    }\n",
              "\n",
              "    .colab-df-convert {\n",
              "      background-color: #E8F0FE;\n",
              "      border: none;\n",
              "      border-radius: 50%;\n",
              "      cursor: pointer;\n",
              "      display: none;\n",
              "      fill: #1967D2;\n",
              "      height: 32px;\n",
              "      padding: 0 0 0 0;\n",
              "      width: 32px;\n",
              "    }\n",
              "\n",
              "    .colab-df-convert:hover {\n",
              "      background-color: #E2EBFA;\n",
              "      box-shadow: 0px 1px 2px rgba(60, 64, 67, 0.3), 0px 1px 3px 1px rgba(60, 64, 67, 0.15);\n",
              "      fill: #174EA6;\n",
              "    }\n",
              "\n",
              "    .colab-df-buttons div {\n",
              "      margin-bottom: 4px;\n",
              "    }\n",
              "\n",
              "    [theme=dark] .colab-df-convert {\n",
              "      background-color: #3B4455;\n",
              "      fill: #D2E3FC;\n",
              "    }\n",
              "\n",
              "    [theme=dark] .colab-df-convert:hover {\n",
              "      background-color: #434B5C;\n",
              "      box-shadow: 0px 1px 3px 1px rgba(0, 0, 0, 0.15);\n",
              "      filter: drop-shadow(0px 1px 2px rgba(0, 0, 0, 0.3));\n",
              "      fill: #FFFFFF;\n",
              "    }\n",
              "  </style>\n",
              "\n",
              "    <script>\n",
              "      const buttonEl =\n",
              "        document.querySelector('#df-032959d7-cf56-4af5-a6a1-356b1a962825 button.colab-df-convert');\n",
              "      buttonEl.style.display =\n",
              "        google.colab.kernel.accessAllowed ? 'block' : 'none';\n",
              "\n",
              "      async function convertToInteractive(key) {\n",
              "        const element = document.querySelector('#df-032959d7-cf56-4af5-a6a1-356b1a962825');\n",
              "        const dataTable =\n",
              "          await google.colab.kernel.invokeFunction('convertToInteractive',\n",
              "                                                    [key], {});\n",
              "        if (!dataTable) return;\n",
              "\n",
              "        const docLinkHtml = 'Like what you see? Visit the ' +\n",
              "          '<a target=\"_blank\" href=https://colab.research.google.com/notebooks/data_table.ipynb>data table notebook</a>'\n",
              "          + ' to learn more about interactive tables.';\n",
              "        element.innerHTML = '';\n",
              "        dataTable['output_type'] = 'display_data';\n",
              "        await google.colab.output.renderOutput(dataTable, element);\n",
              "        const docLink = document.createElement('div');\n",
              "        docLink.innerHTML = docLinkHtml;\n",
              "        element.appendChild(docLink);\n",
              "      }\n",
              "    </script>\n",
              "  </div>\n",
              "\n",
              "\n",
              "    <div id=\"df-e445cf6f-0f26-4f76-b50b-bf17ba527762\">\n",
              "      <button class=\"colab-df-quickchart\" onclick=\"quickchart('df-e445cf6f-0f26-4f76-b50b-bf17ba527762')\"\n",
              "                title=\"Suggest charts\"\n",
              "                style=\"display:none;\">\n",
              "\n",
              "<svg xmlns=\"http://www.w3.org/2000/svg\" height=\"24px\"viewBox=\"0 0 24 24\"\n",
              "     width=\"24px\">\n",
              "    <g>\n",
              "        <path d=\"M19 3H5c-1.1 0-2 .9-2 2v14c0 1.1.9 2 2 2h14c1.1 0 2-.9 2-2V5c0-1.1-.9-2-2-2zM9 17H7v-7h2v7zm4 0h-2V7h2v10zm4 0h-2v-4h2v4z\"/>\n",
              "    </g>\n",
              "</svg>\n",
              "      </button>\n",
              "\n",
              "<style>\n",
              "  .colab-df-quickchart {\n",
              "      --bg-color: #E8F0FE;\n",
              "      --fill-color: #1967D2;\n",
              "      --hover-bg-color: #E2EBFA;\n",
              "      --hover-fill-color: #174EA6;\n",
              "      --disabled-fill-color: #AAA;\n",
              "      --disabled-bg-color: #DDD;\n",
              "  }\n",
              "\n",
              "  [theme=dark] .colab-df-quickchart {\n",
              "      --bg-color: #3B4455;\n",
              "      --fill-color: #D2E3FC;\n",
              "      --hover-bg-color: #434B5C;\n",
              "      --hover-fill-color: #FFFFFF;\n",
              "      --disabled-bg-color: #3B4455;\n",
              "      --disabled-fill-color: #666;\n",
              "  }\n",
              "\n",
              "  .colab-df-quickchart {\n",
              "    background-color: var(--bg-color);\n",
              "    border: none;\n",
              "    border-radius: 50%;\n",
              "    cursor: pointer;\n",
              "    display: none;\n",
              "    fill: var(--fill-color);\n",
              "    height: 32px;\n",
              "    padding: 0;\n",
              "    width: 32px;\n",
              "  }\n",
              "\n",
              "  .colab-df-quickchart:hover {\n",
              "    background-color: var(--hover-bg-color);\n",
              "    box-shadow: 0 1px 2px rgba(60, 64, 67, 0.3), 0 1px 3px 1px rgba(60, 64, 67, 0.15);\n",
              "    fill: var(--button-hover-fill-color);\n",
              "  }\n",
              "\n",
              "  .colab-df-quickchart-complete:disabled,\n",
              "  .colab-df-quickchart-complete:disabled:hover {\n",
              "    background-color: var(--disabled-bg-color);\n",
              "    fill: var(--disabled-fill-color);\n",
              "    box-shadow: none;\n",
              "  }\n",
              "\n",
              "  .colab-df-spinner {\n",
              "    border: 2px solid var(--fill-color);\n",
              "    border-color: transparent;\n",
              "    border-bottom-color: var(--fill-color);\n",
              "    animation:\n",
              "      spin 1s steps(1) infinite;\n",
              "  }\n",
              "\n",
              "  @keyframes spin {\n",
              "    0% {\n",
              "      border-color: transparent;\n",
              "      border-bottom-color: var(--fill-color);\n",
              "      border-left-color: var(--fill-color);\n",
              "    }\n",
              "    20% {\n",
              "      border-color: transparent;\n",
              "      border-left-color: var(--fill-color);\n",
              "      border-top-color: var(--fill-color);\n",
              "    }\n",
              "    30% {\n",
              "      border-color: transparent;\n",
              "      border-left-color: var(--fill-color);\n",
              "      border-top-color: var(--fill-color);\n",
              "      border-right-color: var(--fill-color);\n",
              "    }\n",
              "    40% {\n",
              "      border-color: transparent;\n",
              "      border-right-color: var(--fill-color);\n",
              "      border-top-color: var(--fill-color);\n",
              "    }\n",
              "    60% {\n",
              "      border-color: transparent;\n",
              "      border-right-color: var(--fill-color);\n",
              "    }\n",
              "    80% {\n",
              "      border-color: transparent;\n",
              "      border-right-color: var(--fill-color);\n",
              "      border-bottom-color: var(--fill-color);\n",
              "    }\n",
              "    90% {\n",
              "      border-color: transparent;\n",
              "      border-bottom-color: var(--fill-color);\n",
              "    }\n",
              "  }\n",
              "</style>\n",
              "\n",
              "      <script>\n",
              "        async function quickchart(key) {\n",
              "          const quickchartButtonEl =\n",
              "            document.querySelector('#' + key + ' button');\n",
              "          quickchartButtonEl.disabled = true;  // To prevent multiple clicks.\n",
              "          quickchartButtonEl.classList.add('colab-df-spinner');\n",
              "          try {\n",
              "            const charts = await google.colab.kernel.invokeFunction(\n",
              "                'suggestCharts', [key], {});\n",
              "          } catch (error) {\n",
              "            console.error('Error during call to suggestCharts:', error);\n",
              "          }\n",
              "          quickchartButtonEl.classList.remove('colab-df-spinner');\n",
              "          quickchartButtonEl.classList.add('colab-df-quickchart-complete');\n",
              "        }\n",
              "        (() => {\n",
              "          let quickchartButtonEl =\n",
              "            document.querySelector('#df-e445cf6f-0f26-4f76-b50b-bf17ba527762 button');\n",
              "          quickchartButtonEl.style.display =\n",
              "            google.colab.kernel.accessAllowed ? 'block' : 'none';\n",
              "        })();\n",
              "      </script>\n",
              "    </div>\n",
              "\n",
              "    </div>\n",
              "  </div>\n"
            ],
            "application/vnd.google.colaboratory.intrinsic+json": {
              "type": "dataframe",
              "variable_name": "df"
            }
          },
          "metadata": {},
          "execution_count": 51
        }
      ]
    },
    {
      "cell_type": "markdown",
      "source": [],
      "metadata": {
        "id": "IU3omSAd6u3u"
      }
    },
    {
      "cell_type": "markdown",
      "source": [
        "## 14.2 Train test spit"
      ],
      "metadata": {
        "id": "u8PAYJ1W62dN"
      }
    },
    {
      "cell_type": "code",
      "source": [
        "X_train, X_test, y_train, y_test = train_test_split(df.iloc[:,1:], df.iloc[:,0], test_size=0.2)"
      ],
      "metadata": {
        "id": "HqozG7pm6kiO"
      },
      "execution_count": null,
      "outputs": []
    },
    {
      "cell_type": "code",
      "source": [
        "X_train.shape"
      ],
      "metadata": {
        "colab": {
          "base_uri": "https://localhost:8080/"
        },
        "id": "b4m0kcPN7Lnd",
        "outputId": "89248e46-e50b-41e9-abce-ac74818a81c6"
      },
      "execution_count": null,
      "outputs": [
        {
          "output_type": "execute_result",
          "data": {
            "text/plain": [
              "(455, 30)"
            ]
          },
          "metadata": {},
          "execution_count": 87
        }
      ]
    },
    {
      "cell_type": "code",
      "source": [
        "X_test.shape"
      ],
      "metadata": {
        "colab": {
          "base_uri": "https://localhost:8080/"
        },
        "id": "oMedn4IO7Ogx",
        "outputId": "b714d536-1178-44e4-ae3d-48152fa6b51f"
      },
      "execution_count": null,
      "outputs": [
        {
          "output_type": "execute_result",
          "data": {
            "text/plain": [
              "(114, 30)"
            ]
          },
          "metadata": {},
          "execution_count": 88
        }
      ]
    },
    {
      "cell_type": "code",
      "source": [
        "y_test.shape"
      ],
      "metadata": {
        "colab": {
          "base_uri": "https://localhost:8080/"
        },
        "id": "OsOi2nQo7Rxc",
        "outputId": "136c3059-52e6-47fa-a1e3-064abb2ce4a2"
      },
      "execution_count": null,
      "outputs": [
        {
          "output_type": "execute_result",
          "data": {
            "text/plain": [
              "(114,)"
            ]
          },
          "metadata": {},
          "execution_count": 89
        }
      ]
    },
    {
      "cell_type": "code",
      "source": [
        "y_train.shape"
      ],
      "metadata": {
        "colab": {
          "base_uri": "https://localhost:8080/"
        },
        "id": "aNl_DiqG7VUr",
        "outputId": "9c224fb5-f7ee-4944-f940-d5061be93a6b"
      },
      "execution_count": null,
      "outputs": [
        {
          "output_type": "execute_result",
          "data": {
            "text/plain": [
              "(455,)"
            ]
          },
          "metadata": {},
          "execution_count": 90
        }
      ]
    },
    {
      "cell_type": "code",
      "source": [
        "y_train.head()"
      ],
      "metadata": {
        "colab": {
          "base_uri": "https://localhost:8080/",
          "height": 238
        },
        "id": "Be7y_Bak7Z_Y",
        "outputId": "a8ac7a5a-ce0b-44a1-b5b5-234891348e4a"
      },
      "execution_count": null,
      "outputs": [
        {
          "output_type": "execute_result",
          "data": {
            "text/plain": [
              "336    B\n",
              "389    M\n",
              "381    B\n",
              "203    M\n",
              "205    M\n",
              "Name: diagnosis, dtype: object"
            ],
            "text/html": [
              "<div>\n",
              "<style scoped>\n",
              "    .dataframe tbody tr th:only-of-type {\n",
              "        vertical-align: middle;\n",
              "    }\n",
              "\n",
              "    .dataframe tbody tr th {\n",
              "        vertical-align: top;\n",
              "    }\n",
              "\n",
              "    .dataframe thead th {\n",
              "        text-align: right;\n",
              "    }\n",
              "</style>\n",
              "<table border=\"1\" class=\"dataframe\">\n",
              "  <thead>\n",
              "    <tr style=\"text-align: right;\">\n",
              "      <th></th>\n",
              "      <th>diagnosis</th>\n",
              "    </tr>\n",
              "  </thead>\n",
              "  <tbody>\n",
              "    <tr>\n",
              "      <th>336</th>\n",
              "      <td>B</td>\n",
              "    </tr>\n",
              "    <tr>\n",
              "      <th>389</th>\n",
              "      <td>M</td>\n",
              "    </tr>\n",
              "    <tr>\n",
              "      <th>381</th>\n",
              "      <td>B</td>\n",
              "    </tr>\n",
              "    <tr>\n",
              "      <th>203</th>\n",
              "      <td>M</td>\n",
              "    </tr>\n",
              "    <tr>\n",
              "      <th>205</th>\n",
              "      <td>M</td>\n",
              "    </tr>\n",
              "  </tbody>\n",
              "</table>\n",
              "</div><br><label><b>dtype:</b> object</label>"
            ]
          },
          "metadata": {},
          "execution_count": 91
        }
      ]
    },
    {
      "cell_type": "markdown",
      "source": [
        "## 14.3 Scaling"
      ],
      "metadata": {
        "id": "ZTYy6Syy7hcR"
      }
    },
    {
      "cell_type": "code",
      "source": [
        "scaler = StandardScaler()\n",
        "X_train = scaler.fit_transform(X_train)\n",
        "X_test = scaler.transform(X_test)"
      ],
      "metadata": {
        "id": "GpMlXEvK7eIl"
      },
      "execution_count": null,
      "outputs": []
    },
    {
      "cell_type": "code",
      "source": [
        "X_train"
      ],
      "metadata": {
        "colab": {
          "base_uri": "https://localhost:8080/"
        },
        "id": "QEZYMH2I8DJa",
        "outputId": "169f3f38-b013-4f2a-9d85-7d39d4bdd6c4"
      },
      "execution_count": null,
      "outputs": [
        {
          "output_type": "execute_result",
          "data": {
            "text/plain": [
              "array([[-0.34834931, -1.16149797, -0.35030367, ..., -0.86723996,\n",
              "        -0.76892928,  0.90403051],\n",
              "       [ 1.48820616,  0.88796829,  1.46649457, ...,  0.99930614,\n",
              "        -0.53844784, -0.45030744],\n",
              "       [-0.89427663, -1.00174002, -0.89388387, ..., -0.73116273,\n",
              "         0.46350619, -0.62177708],\n",
              "       ...,\n",
              "       [ 1.12425462,  0.15079947,  1.08951501, ...,  1.160371  ,\n",
              "         0.24102758, -0.03333683],\n",
              "       [-0.51632695, -0.41976464, -0.48974557, ..., -0.2720526 ,\n",
              "        -0.14951041,  1.49736989],\n",
              "       [ 0.96467587,  0.32425095,  1.00033705, ...,  0.53266961,\n",
              "        -0.71931174, -0.37627611]])"
            ]
          },
          "metadata": {},
          "execution_count": 93
        }
      ]
    },
    {
      "cell_type": "code",
      "source": [
        "y_train"
      ],
      "metadata": {
        "colab": {
          "base_uri": "https://localhost:8080/",
          "height": 453
        },
        "id": "wyWLAJEN8Mwt",
        "outputId": "8c8f9ba3-c44e-4612-c9be-6606371e37da"
      },
      "execution_count": null,
      "outputs": [
        {
          "output_type": "execute_result",
          "data": {
            "text/plain": [
              "336    B\n",
              "389    M\n",
              "381    B\n",
              "203    M\n",
              "205    M\n",
              "      ..\n",
              "13     M\n",
              "360    B\n",
              "6      M\n",
              "383    B\n",
              "156    M\n",
              "Name: diagnosis, Length: 455, dtype: object"
            ],
            "text/html": [
              "<div>\n",
              "<style scoped>\n",
              "    .dataframe tbody tr th:only-of-type {\n",
              "        vertical-align: middle;\n",
              "    }\n",
              "\n",
              "    .dataframe tbody tr th {\n",
              "        vertical-align: top;\n",
              "    }\n",
              "\n",
              "    .dataframe thead th {\n",
              "        text-align: right;\n",
              "    }\n",
              "</style>\n",
              "<table border=\"1\" class=\"dataframe\">\n",
              "  <thead>\n",
              "    <tr style=\"text-align: right;\">\n",
              "      <th></th>\n",
              "      <th>diagnosis</th>\n",
              "    </tr>\n",
              "  </thead>\n",
              "  <tbody>\n",
              "    <tr>\n",
              "      <th>336</th>\n",
              "      <td>B</td>\n",
              "    </tr>\n",
              "    <tr>\n",
              "      <th>389</th>\n",
              "      <td>M</td>\n",
              "    </tr>\n",
              "    <tr>\n",
              "      <th>381</th>\n",
              "      <td>B</td>\n",
              "    </tr>\n",
              "    <tr>\n",
              "      <th>203</th>\n",
              "      <td>M</td>\n",
              "    </tr>\n",
              "    <tr>\n",
              "      <th>205</th>\n",
              "      <td>M</td>\n",
              "    </tr>\n",
              "    <tr>\n",
              "      <th>...</th>\n",
              "      <td>...</td>\n",
              "    </tr>\n",
              "    <tr>\n",
              "      <th>13</th>\n",
              "      <td>M</td>\n",
              "    </tr>\n",
              "    <tr>\n",
              "      <th>360</th>\n",
              "      <td>B</td>\n",
              "    </tr>\n",
              "    <tr>\n",
              "      <th>6</th>\n",
              "      <td>M</td>\n",
              "    </tr>\n",
              "    <tr>\n",
              "      <th>383</th>\n",
              "      <td>B</td>\n",
              "    </tr>\n",
              "    <tr>\n",
              "      <th>156</th>\n",
              "      <td>M</td>\n",
              "    </tr>\n",
              "  </tbody>\n",
              "</table>\n",
              "<p>455 rows × 1 columns</p>\n",
              "</div><br><label><b>dtype:</b> object</label>"
            ]
          },
          "metadata": {},
          "execution_count": 94
        }
      ]
    },
    {
      "cell_type": "markdown",
      "source": [
        "## 14.3 Label encoding"
      ],
      "metadata": {
        "id": "3B0bD2b08S2z"
      }
    },
    {
      "cell_type": "code",
      "source": [
        "encoder = LabelEncoder()\n",
        "y_train = encoder.fit_transform(y_train)\n",
        "y_test = encoder.transform(y_test)"
      ],
      "metadata": {
        "id": "1oOouz2B8QkZ"
      },
      "execution_count": null,
      "outputs": []
    },
    {
      "cell_type": "code",
      "source": [
        "y_train"
      ],
      "metadata": {
        "colab": {
          "base_uri": "https://localhost:8080/"
        },
        "id": "YO6qWqtz8cjp",
        "outputId": "af5436ec-d5f1-4bc1-b0db-4b6d98d9e965"
      },
      "execution_count": null,
      "outputs": [
        {
          "output_type": "execute_result",
          "data": {
            "text/plain": [
              "array([0, 1, 0, 1, 1, 0, 1, 0, 0, 0, 0, 0, 0, 0, 0, 0, 1, 1, 0, 0, 1, 1,\n",
              "       1, 1, 1, 0, 0, 1, 0, 0, 0, 0, 0, 1, 0, 0, 1, 1, 0, 1, 1, 0, 0, 0,\n",
              "       0, 0, 0, 0, 0, 1, 0, 1, 0, 0, 0, 1, 0, 1, 1, 1, 0, 0, 0, 0, 0, 1,\n",
              "       1, 0, 1, 0, 1, 0, 1, 0, 0, 1, 1, 0, 0, 1, 0, 0, 0, 0, 1, 1, 0, 1,\n",
              "       0, 1, 0, 0, 0, 1, 1, 1, 0, 0, 1, 1, 0, 0, 0, 0, 1, 1, 1, 1, 0, 0,\n",
              "       1, 1, 1, 1, 0, 1, 0, 1, 1, 0, 0, 0, 0, 0, 1, 0, 0, 0, 0, 0, 1, 1,\n",
              "       0, 0, 1, 1, 0, 1, 1, 1, 0, 1, 1, 0, 1, 0, 1, 0, 0, 1, 0, 1, 0, 0,\n",
              "       1, 1, 0, 1, 1, 0, 0, 1, 0, 1, 1, 0, 0, 0, 0, 0, 0, 1, 0, 0, 0, 0,\n",
              "       0, 0, 1, 0, 1, 0, 0, 0, 0, 1, 1, 1, 1, 0, 0, 0, 0, 0, 0, 0, 1, 0,\n",
              "       1, 1, 0, 0, 0, 0, 1, 1, 1, 0, 1, 0, 0, 0, 0, 0, 0, 0, 0, 0, 1, 0,\n",
              "       0, 0, 0, 1, 1, 1, 0, 1, 0, 0, 0, 0, 0, 1, 0, 1, 0, 0, 0, 0, 1, 0,\n",
              "       1, 0, 0, 0, 0, 1, 1, 0, 0, 0, 0, 0, 1, 0, 0, 1, 0, 0, 0, 1, 0, 0,\n",
              "       0, 0, 0, 1, 0, 0, 0, 0, 0, 0, 0, 1, 0, 0, 1, 0, 1, 1, 0, 0, 0, 0,\n",
              "       0, 0, 0, 1, 0, 1, 0, 1, 1, 0, 1, 1, 0, 1, 0, 1, 1, 0, 1, 0, 0, 1,\n",
              "       1, 1, 1, 0, 0, 0, 0, 0, 1, 0, 0, 0, 0, 0, 1, 1, 1, 0, 0, 0, 0, 0,\n",
              "       0, 0, 0, 1, 0, 0, 0, 0, 0, 0, 0, 1, 0, 1, 1, 0, 1, 0, 1, 0, 1, 0,\n",
              "       1, 0, 1, 1, 0, 1, 1, 0, 0, 1, 0, 0, 0, 0, 0, 0, 1, 0, 0, 0, 0, 1,\n",
              "       1, 0, 0, 1, 0, 0, 0, 0, 0, 0, 1, 1, 0, 1, 0, 1, 1, 0, 0, 1, 1, 1,\n",
              "       0, 1, 0, 1, 0, 1, 0, 1, 0, 0, 0, 0, 1, 1, 1, 0, 0, 0, 1, 1, 1, 1,\n",
              "       1, 0, 1, 0, 0, 0, 0, 0, 1, 1, 1, 0, 0, 0, 0, 1, 0, 0, 0, 0, 1, 0,\n",
              "       1, 0, 0, 0, 0, 0, 0, 0, 0, 1, 1, 0, 1, 0, 1])"
            ]
          },
          "metadata": {},
          "execution_count": 96
        }
      ]
    },
    {
      "cell_type": "code",
      "source": [
        "y_test"
      ],
      "metadata": {
        "colab": {
          "base_uri": "https://localhost:8080/"
        },
        "id": "LTOgobb98dvA",
        "outputId": "af3fce74-f05b-4b4e-9c80-fa4194246fc9"
      },
      "execution_count": null,
      "outputs": [
        {
          "output_type": "execute_result",
          "data": {
            "text/plain": [
              "array([1, 1, 0, 0, 0, 1, 0, 0, 0, 0, 1, 0, 0, 0, 0, 1, 0, 0, 1, 1, 1, 1,\n",
              "       1, 1, 0, 1, 1, 1, 1, 0, 0, 0, 1, 0, 0, 1, 1, 1, 1, 0, 0, 0, 1, 0,\n",
              "       0, 0, 0, 1, 0, 0, 0, 0, 1, 0, 0, 0, 0, 0, 1, 1, 1, 1, 0, 0, 1, 0,\n",
              "       0, 0, 0, 0, 0, 0, 0, 0, 0, 0, 1, 0, 1, 1, 0, 0, 1, 0, 1, 0, 1, 1,\n",
              "       0, 0, 1, 0, 0, 0, 1, 0, 0, 0, 0, 0, 0, 1, 0, 0, 0, 0, 0, 0, 1, 1,\n",
              "       1, 0, 0, 0])"
            ]
          },
          "metadata": {},
          "execution_count": 97
        }
      ]
    },
    {
      "cell_type": "markdown",
      "source": [
        "## 14.4 NumPy Arrays to PyTorch tensors"
      ],
      "metadata": {
        "id": "2XJaT6oh8xiJ"
      }
    },
    {
      "cell_type": "code",
      "source": [
        "X_train_tensor = torch.from_numpy(X_train)\n",
        "X_test_tensor = torch.from_numpy(X_test)\n",
        "y_train_tensor = torch.from_numpy(y_train)\n",
        "y_test_tensor = torch.from_numpy(y_test)"
      ],
      "metadata": {
        "id": "uzXBMPQU8egG"
      },
      "execution_count": null,
      "outputs": []
    },
    {
      "cell_type": "code",
      "source": [
        "X_train_tensor.shape"
      ],
      "metadata": {
        "colab": {
          "base_uri": "https://localhost:8080/"
        },
        "id": "ghYeOsHT9HBd",
        "outputId": "ff8cfc8d-f615-40aa-af88-1d6473812b2f"
      },
      "execution_count": null,
      "outputs": [
        {
          "output_type": "execute_result",
          "data": {
            "text/plain": [
              "torch.Size([455, 30])"
            ]
          },
          "metadata": {},
          "execution_count": 99
        }
      ]
    },
    {
      "cell_type": "code",
      "source": [
        "y_train_tensor.shape"
      ],
      "metadata": {
        "colab": {
          "base_uri": "https://localhost:8080/"
        },
        "id": "8PrQhs1t9akH",
        "outputId": "cb7d350f-723e-470a-88f3-56ec908353ea"
      },
      "execution_count": null,
      "outputs": [
        {
          "output_type": "execute_result",
          "data": {
            "text/plain": [
              "torch.Size([455])"
            ]
          },
          "metadata": {},
          "execution_count": 100
        }
      ]
    },
    {
      "cell_type": "markdown",
      "source": [
        "## 14.5 Defining the model\n",
        "\n",
        "Defining a model means deciding it's structure\n"
      ],
      "metadata": {
        "id": "0ExLJXwl9qex"
      }
    },
    {
      "cell_type": "code",
      "source": [
        "class MySimpleNN():\n",
        "  def __init__(self, X):\n",
        "    \"\"\"\n",
        "    this is a simple perceptron model\n",
        "    with weights and bias\n",
        "    \"\"\"\n",
        "    self.weights = torch.zeros(X.shape[1], 1, dtype=torch.float64, requires_grad=True)\n",
        "    self.bias = torch.zeros(1, dtype=torch.float64, requires_grad=True)\n",
        "\n",
        "  def forward(self, X):\n",
        "    \"\"\"\n",
        "    forward pass:\n",
        "       1. w * X + b\n",
        "       2. sigmoid activation\n",
        "    \"\"\"\n",
        "    z = torch.matmul(X, self.weights) + self.bias\n",
        "    y_pred = torch.sigmoid(z)\n",
        "    return y_pred\n",
        "\n",
        "  def loss_function(self, y_pred, y):\n",
        "    \"\"\"\n",
        "    Binary cross entropy loss function\n",
        "    \"\"\"\n",
        "    # clamp predictions to avoid log(0) error\n",
        "    epsilon = 1e-7\n",
        "    y_pred = torch.clamp(y_pred, epsilon, 1 - epsilon)\n",
        "    # calculate loss\n",
        "    loss = -(y * torch.log(y_pred) + (1 - y) * torch.log(1 - y_pred)).mean()\n",
        "    return loss"
      ],
      "metadata": {
        "id": "3MTtT89A9dAu"
      },
      "execution_count": null,
      "outputs": []
    },
    {
      "cell_type": "code",
      "source": [
        "# create model\n",
        "model = MySimpleNN(X_train_tensor)\n",
        "model.weights"
      ],
      "metadata": {
        "colab": {
          "base_uri": "https://localhost:8080/"
        },
        "id": "NYKIZujM_uva",
        "outputId": "d40c0740-05bc-4723-a454-0157da2f332d"
      },
      "execution_count": null,
      "outputs": [
        {
          "output_type": "execute_result",
          "data": {
            "text/plain": [
              "tensor([[0.],\n",
              "        [0.],\n",
              "        [0.],\n",
              "        [0.],\n",
              "        [0.],\n",
              "        [0.],\n",
              "        [0.],\n",
              "        [0.],\n",
              "        [0.],\n",
              "        [0.],\n",
              "        [0.],\n",
              "        [0.],\n",
              "        [0.],\n",
              "        [0.],\n",
              "        [0.],\n",
              "        [0.],\n",
              "        [0.],\n",
              "        [0.],\n",
              "        [0.],\n",
              "        [0.],\n",
              "        [0.],\n",
              "        [0.],\n",
              "        [0.],\n",
              "        [0.],\n",
              "        [0.],\n",
              "        [0.],\n",
              "        [0.],\n",
              "        [0.],\n",
              "        [0.],\n",
              "        [0.]], dtype=torch.float64, requires_grad=True)"
            ]
          },
          "metadata": {},
          "execution_count": 139
        }
      ]
    },
    {
      "cell_type": "code",
      "source": [
        "model.bias"
      ],
      "metadata": {
        "colab": {
          "base_uri": "https://localhost:8080/"
        },
        "id": "0On11we6_1ON",
        "outputId": "644ab93b-ff1a-4cae-9782-c74c1bd51af9"
      },
      "execution_count": null,
      "outputs": [
        {
          "output_type": "execute_result",
          "data": {
            "text/plain": [
              "tensor([0.], dtype=torch.float64, requires_grad=True)"
            ]
          },
          "metadata": {},
          "execution_count": 140
        }
      ]
    },
    {
      "cell_type": "code",
      "source": [
        "model.weights.shape"
      ],
      "metadata": {
        "colab": {
          "base_uri": "https://localhost:8080/"
        },
        "id": "2cHqdezJ_3MQ",
        "outputId": "fa47cbd4-5f9a-44c0-ecb0-65816d994efa"
      },
      "execution_count": null,
      "outputs": [
        {
          "output_type": "execute_result",
          "data": {
            "text/plain": [
              "torch.Size([30, 1])"
            ]
          },
          "metadata": {},
          "execution_count": 141
        }
      ]
    },
    {
      "cell_type": "markdown",
      "source": [
        "## 14.6 Important parameters"
      ],
      "metadata": {
        "id": "rQKA0dkx-uct"
      }
    },
    {
      "cell_type": "code",
      "source": [
        "learning_rate = 0.1\n",
        "epochs = 50"
      ],
      "metadata": {
        "id": "4K_nKMaD-trf"
      },
      "execution_count": null,
      "outputs": []
    },
    {
      "cell_type": "markdown",
      "source": [
        "## 14.7 Training pipeline\n",
        "\n",
        "Training is a four step process done multiple times, defined by epochs\n",
        "1. forward pass\n",
        "2. loss calculation\n",
        "3. backward pass\n",
        "4. weight/parameters updation"
      ],
      "metadata": {
        "id": "ZhhiZ133-4bp"
      }
    },
    {
      "cell_type": "code",
      "source": [
        "# define loop\n",
        "for epoch in range(epochs):\n",
        "\n",
        "  # forward pass\n",
        "  y_pred = model.forward(X_train_tensor)\n",
        "  #print(y_pred)\n",
        "\n",
        "  # loss calculation\n",
        "  loss = model.loss_function(y_pred, y_train_tensor)\n",
        "\n",
        "  # backward pass\n",
        "  loss.backward()\n",
        "\n",
        "  # parameter updation\n",
        "  with torch.no_grad():\n",
        "    model.weights -= learning_rate * model.weights.grad\n",
        "    model.bias -= learning_rate * model.bias.grad\n",
        "\n",
        "  # flush the gradients before starting the new epoch\n",
        "  model.weights.grad.zero_()\n",
        "  model.bias.grad.zero_()\n",
        "\n",
        "  # print loss in each epoch\n",
        "  print(f\"Epoch: {epoch + 1}, Loss: {loss.item()}\")"
      ],
      "metadata": {
        "colab": {
          "base_uri": "https://localhost:8080/"
        },
        "id": "zVcRnGPt_F1O",
        "outputId": "4cc3a175-8fc6-4194-83ae-43b6e773a462"
      },
      "execution_count": null,
      "outputs": [
        {
          "output_type": "stream",
          "name": "stdout",
          "text": [
            "Epoch: 1, Loss: 0.6931471805599452\n",
            "Epoch: 2, Loss: 0.6916244914492735\n",
            "Epoch: 3, Loss: 0.6901769830000413\n",
            "Epoch: 4, Loss: 0.6888009367004656\n",
            "Epoch: 5, Loss: 0.6874928136459593\n",
            "Epoch: 6, Loss: 0.6862492466477897\n",
            "Epoch: 7, Loss: 0.6850670325817364\n",
            "Epoch: 8, Loss: 0.6839431249836639\n",
            "Epoch: 9, Loss: 0.6828746268965514\n",
            "Epoch: 10, Loss: 0.681858783971398\n",
            "Epoch: 11, Loss: 0.680892977822672\n",
            "Epoch: 12, Loss: 0.67997471963738\n",
            "Epoch: 13, Loss: 0.6791016440355527\n",
            "Epoch: 14, Loss: 0.6782715031788018\n",
            "Epoch: 15, Loss: 0.6774821611226993\n",
            "Epoch: 16, Loss: 0.6767315884079426\n",
            "Epoch: 17, Loss: 0.6760178568846629\n",
            "Epoch: 18, Loss: 0.675339134763725\n",
            "Epoch: 19, Loss: 0.6746936818884862\n",
            "Epoch: 20, Loss: 0.6740798452202008\n",
            "Epoch: 21, Loss: 0.6734960545300355\n",
            "Epoch: 22, Loss: 0.6729408182905492\n",
            "Epoch: 23, Loss: 0.6724127197594096\n",
            "Epoch: 24, Loss: 0.6719104132481081\n",
            "Epoch: 25, Loss: 0.6714326205684722\n",
            "Epoch: 26, Loss: 0.6709781276498344\n",
            "Epoch: 27, Loss: 0.6705457813198271\n",
            "Epoch: 28, Loss: 0.670134486241896\n",
            "Epoch: 29, Loss: 0.6697432020027831\n",
            "Epoch: 30, Loss: 0.6693709403433881\n",
            "Epoch: 31, Loss: 0.6690167625266092\n",
            "Epoch: 32, Loss: 0.6686797768359466\n",
            "Epoch: 33, Loss: 0.6683591361988611\n",
            "Epoch: 34, Loss: 0.6680540359290773\n",
            "Epoch: 35, Loss: 0.6677637115822357\n",
            "Epoch: 36, Loss: 0.6674874369195001\n",
            "Epoch: 37, Loss: 0.6672245219739434\n",
            "Epoch: 38, Loss: 0.666974311214735\n",
            "Epoch: 39, Loss: 0.6667361818043639\n",
            "Epoch: 40, Loss: 0.6665095419443304\n",
            "Epoch: 41, Loss: 0.6662938293049363\n",
            "Epoch: 42, Loss: 0.6660885095349981\n",
            "Epoch: 43, Loss: 0.6658930748474939\n",
            "Epoch: 44, Loss: 0.6657070426773346\n",
            "Epoch: 45, Loss: 0.6655299544076324\n",
            "Epoch: 46, Loss: 0.6653613741610038\n",
            "Epoch: 47, Loss: 0.6652008876526088\n",
            "Epoch: 48, Loss: 0.66504810110179\n",
            "Epoch: 49, Loss: 0.6649026401993275\n",
            "Epoch: 50, Loss: 0.664764149127461\n"
          ]
        }
      ]
    },
    {
      "cell_type": "markdown",
      "source": [
        "## 14.8 Model Evaluation"
      ],
      "metadata": {
        "id": "Idzxrat3FWJA"
      }
    },
    {
      "cell_type": "code",
      "source": [
        "# model evaluation\n",
        "with torch.no_grad():\n",
        "  y_pred = model.forward(X_test_tensor)\n",
        "  y_pred = (y_pred > 0.5).float()\n",
        "  accuracy = (y_pred == y_test_tensor).float().mean()\n",
        "  print(f\"Accuracy: {accuracy.item()}\")"
      ],
      "metadata": {
        "colab": {
          "base_uri": "https://localhost:8080/"
        },
        "id": "UnIf9ddg_Lsv",
        "outputId": "3121fe08-4704-4fd1-e593-cecf938c770a"
      },
      "execution_count": null,
      "outputs": [
        {
          "output_type": "stream",
          "name": "stdout",
          "text": [
            "Accuracy: 0.640350878238678\n"
          ]
        }
      ]
    },
    {
      "cell_type": "markdown",
      "source": [
        "# 15. Building a neural network using PyTorch modules"
      ],
      "metadata": {
        "id": "u1Jzz7iRLmuZ"
      }
    },
    {
      "cell_type": "markdown",
      "source": [
        "## 15.1 Perceptron model containing a single neuron"
      ],
      "metadata": {
        "id": "GRyPXTtZUVVr"
      }
    },
    {
      "cell_type": "code",
      "source": [
        "import torch.nn as nn\n",
        "\n",
        "# create model class\n",
        "# it should always inherit the nn.Module as its base class\n",
        "class SNNModel(nn.Module):\n",
        "  \"\"\"\n",
        "  single neuron network\n",
        "  \"\"\"\n",
        "  # constructor\n",
        "  def __init__(self, num_features):\n",
        "\n",
        "    # invoking the constructor of parent class\n",
        "    super().__init__()\n",
        "\n",
        "    # constructing the layers\n",
        "    self.linear = nn.Linear(num_features, 1) # incoming features, outgoing labels\n",
        "\n",
        "    # activation function\n",
        "    self.sigmoid = nn.Sigmoid()\n",
        "\n",
        "  # forward pass\n",
        "  def forward(self, features):\n",
        "\n",
        "    # step akin to z = w * X + b\n",
        "    out = self.linear(features)\n",
        "\n",
        "    # step akin to y_pred = sigmoid(z)\n",
        "    out = self.sigmoid(out)\n",
        "\n",
        "    return out # returning y_pred"
      ],
      "metadata": {
        "id": "YNk_1Ij4_N8w"
      },
      "execution_count": null,
      "outputs": []
    },
    {
      "cell_type": "code",
      "source": [
        "# create dataset\n",
        "features = torch.rand(10, 5)\n",
        "\n",
        "# create model\n",
        "model = SNNModel(features.shape[1])\n",
        "\n",
        "# running the forward pass\n",
        "# pytorch recommends using model(features) instead of model.forward(features)\n",
        "model(features)\n",
        "\n"
      ],
      "metadata": {
        "colab": {
          "base_uri": "https://localhost:8080/"
        },
        "id": "pfuZCbHDNoZa",
        "outputId": "75de0cd4-ae4b-49f9-ccbb-2512d18dad87"
      },
      "execution_count": null,
      "outputs": [
        {
          "output_type": "execute_result",
          "data": {
            "text/plain": [
              "tensor([[0.5334],\n",
              "        [0.5726],\n",
              "        [0.5004],\n",
              "        [0.5848],\n",
              "        [0.6061],\n",
              "        [0.5792],\n",
              "        [0.5538],\n",
              "        [0.5337],\n",
              "        [0.5907],\n",
              "        [0.5565]], grad_fn=<SigmoidBackward0>)"
            ]
          },
          "metadata": {},
          "execution_count": 161
        }
      ]
    },
    {
      "cell_type": "code",
      "source": [
        "# model weights\n",
        "model.linear.weight"
      ],
      "metadata": {
        "colab": {
          "base_uri": "https://localhost:8080/"
        },
        "id": "_2hV2Q7DOKfg",
        "outputId": "4fb85011-7ace-4580-fd63-646639eab30a"
      },
      "execution_count": null,
      "outputs": [
        {
          "output_type": "execute_result",
          "data": {
            "text/plain": [
              "Parameter containing:\n",
              "tensor([[0.1562, 0.3584, 0.1014, 0.1659, 0.2808]], requires_grad=True)"
            ]
          },
          "metadata": {},
          "execution_count": 162
        }
      ]
    },
    {
      "cell_type": "code",
      "source": [
        "# model bias\n",
        "model.linear.bias"
      ],
      "metadata": {
        "colab": {
          "base_uri": "https://localhost:8080/"
        },
        "id": "Ow7_jJIOOdoK",
        "outputId": "0efbc057-8d71-46a2-a2f7-4b80d95f906c"
      },
      "execution_count": null,
      "outputs": [
        {
          "output_type": "execute_result",
          "data": {
            "text/plain": [
              "Parameter containing:\n",
              "tensor([-0.2728], requires_grad=True)"
            ]
          },
          "metadata": {},
          "execution_count": 163
        }
      ]
    },
    {
      "cell_type": "code",
      "source": [
        "# to visualize the network\n",
        "!pip install torchinfo"
      ],
      "metadata": {
        "colab": {
          "base_uri": "https://localhost:8080/"
        },
        "id": "Kk0sBngxOg3R",
        "outputId": "bdd4b8f0-3007-4e19-a6dd-f64398c8f5ec"
      },
      "execution_count": null,
      "outputs": [
        {
          "output_type": "stream",
          "name": "stdout",
          "text": [
            "Requirement already satisfied: torchinfo in /usr/local/lib/python3.12/dist-packages (1.8.0)\n"
          ]
        }
      ]
    },
    {
      "cell_type": "code",
      "source": [
        "from torchinfo import summary\n",
        "\n",
        "summary(model, input_size=(10,5)) # input_size=(rows, columns)"
      ],
      "metadata": {
        "colab": {
          "base_uri": "https://localhost:8080/"
        },
        "id": "yIpF9ksKOsi8",
        "outputId": "e86207c0-6cd8-4417-f441-2d2a6da51cee"
      },
      "execution_count": null,
      "outputs": [
        {
          "output_type": "execute_result",
          "data": {
            "text/plain": [
              "==========================================================================================\n",
              "Layer (type:depth-idx)                   Output Shape              Param #\n",
              "==========================================================================================\n",
              "SNNModel                                 [10, 1]                   --\n",
              "├─Linear: 1-1                            [10, 1]                   6\n",
              "├─Sigmoid: 1-2                           [10, 1]                   --\n",
              "==========================================================================================\n",
              "Total params: 6\n",
              "Trainable params: 6\n",
              "Non-trainable params: 0\n",
              "Total mult-adds (Units.MEGABYTES): 0.00\n",
              "==========================================================================================\n",
              "Input size (MB): 0.00\n",
              "Forward/backward pass size (MB): 0.00\n",
              "Params size (MB): 0.00\n",
              "Estimated Total Size (MB): 0.00\n",
              "=========================================================================================="
            ]
          },
          "metadata": {},
          "execution_count": 165
        }
      ]
    },
    {
      "cell_type": "markdown",
      "source": [
        "## 15.2 Two layer network"
      ],
      "metadata": {
        "id": "u6LTL3C4Ubnm"
      }
    },
    {
      "cell_type": "code",
      "source": [
        "# creating a model class\n",
        "class Model(nn.Module):\n",
        "\n",
        "  \"\"\"\n",
        "  input layer has 5 inputs\n",
        "  hidden layer has 3 neurons and ReLU activation\n",
        "  output layer has 1 neuron and sigmoid activation\n",
        "  \"\"\"\n",
        "  # constructor\n",
        "  # this contains the structure of the neural network\n",
        "  def __init__(self, num_features):\n",
        "\n",
        "    # invoking the base class constructor\n",
        "    super().__init__()\n",
        "\n",
        "    # constructing the layers\n",
        "\n",
        "    # hidden linear layer\n",
        "    self.hidden_layer_1 = nn.Linear(in_features=num_features, out_features=3)\n",
        "\n",
        "    # hidden layer activation function\n",
        "    self.hidden_layer_1_activation = nn.ReLU()\n",
        "\n",
        "    # output layer\n",
        "    self.output_layer = nn.Linear(in_features=3, out_features=1)\n",
        "\n",
        "    # output layer activation function\n",
        "    self.output_layer_activation = nn.Sigmoid()\n",
        "\n",
        "  # forward pass\n",
        "  def forward(self, features):\n",
        "    out = self.hidden_layer_1(features)\n",
        "    out = self.hidden_layer_1_activation(out)\n",
        "    out = self.output_layer(out)\n",
        "    out = self.output_layer_activation(out)\n",
        "    return out"
      ],
      "metadata": {
        "id": "DPccyXt6O2gR"
      },
      "execution_count": null,
      "outputs": []
    },
    {
      "cell_type": "code",
      "source": [
        "# create dataset\n",
        "features = torch.rand(10, 5)\n",
        "\n",
        "# create model\n",
        "model = Model(features.shape[1])\n",
        "\n",
        "# running the forward pass\n",
        "# pytorch recommends using model(features) instead of model.forward(features)\n",
        "model(features)"
      ],
      "metadata": {
        "colab": {
          "base_uri": "https://localhost:8080/"
        },
        "id": "4E8erUdzSVKw",
        "outputId": "9e290cbd-3f53-4adc-aae4-0877bb1a33a1"
      },
      "execution_count": null,
      "outputs": [
        {
          "output_type": "execute_result",
          "data": {
            "text/plain": [
              "tensor([[0.5474],\n",
              "        [0.5505],\n",
              "        [0.5460],\n",
              "        [0.5481],\n",
              "        [0.5476],\n",
              "        [0.5492],\n",
              "        [0.5460],\n",
              "        [0.5477],\n",
              "        [0.5513],\n",
              "        [0.5460]], grad_fn=<SigmoidBackward0>)"
            ]
          },
          "metadata": {},
          "execution_count": 167
        }
      ]
    },
    {
      "cell_type": "code",
      "source": [
        "summary(model, input_size=(10,5)) # input_size=(rows, columns)"
      ],
      "metadata": {
        "colab": {
          "base_uri": "https://localhost:8080/"
        },
        "id": "UUxr-SuWSdHZ",
        "outputId": "e9506c40-e307-45b3-ff83-9630baa441fe"
      },
      "execution_count": null,
      "outputs": [
        {
          "output_type": "execute_result",
          "data": {
            "text/plain": [
              "==========================================================================================\n",
              "Layer (type:depth-idx)                   Output Shape              Param #\n",
              "==========================================================================================\n",
              "Model                                    [10, 1]                   --\n",
              "├─Linear: 1-1                            [10, 3]                   18\n",
              "├─ReLU: 1-2                              [10, 3]                   --\n",
              "├─Linear: 1-3                            [10, 1]                   4\n",
              "├─Sigmoid: 1-4                           [10, 1]                   --\n",
              "==========================================================================================\n",
              "Total params: 22\n",
              "Trainable params: 22\n",
              "Non-trainable params: 0\n",
              "Total mult-adds (Units.MEGABYTES): 0.00\n",
              "==========================================================================================\n",
              "Input size (MB): 0.00\n",
              "Forward/backward pass size (MB): 0.00\n",
              "Params size (MB): 0.00\n",
              "Estimated Total Size (MB): 0.00\n",
              "=========================================================================================="
            ]
          },
          "metadata": {},
          "execution_count": 168
        }
      ]
    },
    {
      "cell_type": "markdown",
      "source": [
        "## 15.3 Two layer network using sequential container"
      ],
      "metadata": {
        "id": "poSnCmi8Un1w"
      }
    },
    {
      "cell_type": "code",
      "source": [
        "# creating a model class\n",
        "class SeqModel(nn.Module):\n",
        "\n",
        "  \"\"\"\n",
        "  network constructed using a sequential container\n",
        "  input layer has 5 inputs\n",
        "  hidden layer has 3 neurons and ReLU activation\n",
        "  output layer has 1 neuron and sigmoid activation\n",
        "  \"\"\"\n",
        "  # constructor\n",
        "  # this contains the structure of the neural network\n",
        "  def __init__(self, num_features):\n",
        "\n",
        "    # invoking the base class constructor\n",
        "    super().__init__()\n",
        "\n",
        "    # constructing the network container and passing the layers as args\n",
        "    self.network = nn.Sequential(\n",
        "      nn.Linear(in_features=num_features, out_features=3), # layer1\n",
        "      nn.ReLU(),                                           # layer1 activation\n",
        "      nn.Linear(in_features=3, out_features=1),            # layer2\n",
        "      nn.Sigmoid()                                         # layer2 activation\n",
        "    )\n",
        "\n",
        "  # forward pass\n",
        "  def forward(self, features):\n",
        "    out = self.network(features)\n",
        "    return out"
      ],
      "metadata": {
        "id": "cHrzBdqwSidX"
      },
      "execution_count": null,
      "outputs": []
    },
    {
      "cell_type": "code",
      "source": [
        "# create dataset\n",
        "features = torch.rand(10, 5)\n",
        "\n",
        "# create model\n",
        "model = Model(features.shape[1])\n",
        "\n",
        "# running the forward pass\n",
        "# pytorch recommends using model(features) instead of model.forward(features)\n",
        "model(features)"
      ],
      "metadata": {
        "colab": {
          "base_uri": "https://localhost:8080/"
        },
        "id": "e5dwihxiT575",
        "outputId": "ddada3bf-b50d-467d-9bea-aa723d37f69c"
      },
      "execution_count": null,
      "outputs": [
        {
          "output_type": "execute_result",
          "data": {
            "text/plain": [
              "tensor([[0.6205],\n",
              "        [0.6214],\n",
              "        [0.6203],\n",
              "        [0.6188],\n",
              "        [0.6183],\n",
              "        [0.6212],\n",
              "        [0.6295],\n",
              "        [0.6166],\n",
              "        [0.6207],\n",
              "        [0.6212]], grad_fn=<SigmoidBackward0>)"
            ]
          },
          "metadata": {},
          "execution_count": 170
        }
      ]
    },
    {
      "cell_type": "code",
      "source": [
        "summary(model, input_size=(10,5))"
      ],
      "metadata": {
        "colab": {
          "base_uri": "https://localhost:8080/"
        },
        "id": "JWEzkEWST9Zw",
        "outputId": "9ae20f62-858b-4c91-9354-03cf8e4e7ed6"
      },
      "execution_count": null,
      "outputs": [
        {
          "output_type": "execute_result",
          "data": {
            "text/plain": [
              "==========================================================================================\n",
              "Layer (type:depth-idx)                   Output Shape              Param #\n",
              "==========================================================================================\n",
              "Model                                    [10, 1]                   --\n",
              "├─Linear: 1-1                            [10, 3]                   18\n",
              "├─ReLU: 1-2                              [10, 3]                   --\n",
              "├─Linear: 1-3                            [10, 1]                   4\n",
              "├─Sigmoid: 1-4                           [10, 1]                   --\n",
              "==========================================================================================\n",
              "Total params: 22\n",
              "Trainable params: 22\n",
              "Non-trainable params: 0\n",
              "Total mult-adds (Units.MEGABYTES): 0.00\n",
              "==========================================================================================\n",
              "Input size (MB): 0.00\n",
              "Forward/backward pass size (MB): 0.00\n",
              "Params size (MB): 0.00\n",
              "Estimated Total Size (MB): 0.00\n",
              "=========================================================================================="
            ]
          },
          "metadata": {},
          "execution_count": 171
        }
      ]
    },
    {
      "cell_type": "markdown",
      "source": [
        "## 15.4 Running the same pipeline (made manually before), now with pytorch module. Batch Gradient Descent (uses entire dataset in each epoch).\n",
        "\n",
        "1. using the nn.Module to create the neural network\n",
        "2. using the built-in activation function\n",
        "3. using the built-in loss function\n",
        "4. using the built-in optimizer"
      ],
      "metadata": {
        "id": "AYOGNjc5UtTW"
      }
    },
    {
      "cell_type": "code",
      "source": [
        "# import libraries\n",
        "import numpy as np\n",
        "import pandas as pd\n",
        "import torch\n",
        "import torch.nn as nn\n",
        "from sklearn.model_selection import train_test_split\n",
        "from sklearn.preprocessing import StandardScaler\n",
        "from sklearn.preprocessing import LabelEncoder\n",
        "\n",
        "# fetch the dataset\n",
        "df = pd.read_csv('https://raw.githubusercontent.com/gscdit/Breast-Cancer-Detection/refs/heads/master/data.csv')\n",
        "\n",
        "# drop the unnecessary columns\n",
        "df.drop(columns=['id', 'Unnamed: 32'], inplace=True)\n",
        "\n",
        "# split the dataset into train and test\n",
        "X_train, X_test, y_train, y_test = train_test_split(df.iloc[:,1:], df.iloc[:,0], test_size=0.2)\n",
        "\n",
        "# scaling the values to make it ready for neural network feeding\n",
        "scaler = StandardScaler()\n",
        "X_train = scaler.fit_transform(X_train)\n",
        "X_test = scaler.transform(X_test)\n",
        "\n",
        "# label encoding from string names to numbers\n",
        "encoder = LabelEncoder()\n",
        "y_train = encoder.fit_transform(y_train)\n",
        "y_test = encoder.transform(y_test)\n",
        "\n",
        "# converting numPy arrays to PyTorch tensors\n",
        "X_train_tensor = torch.from_numpy(X_train).float()\n",
        "X_test_tensor = torch.from_numpy(X_test).float()\n",
        "y_train_tensor = torch.from_numpy(y_train).float()\n",
        "y_test_tensor = torch.from_numpy(y_test).float()\n",
        "# creating the model class\n",
        "class SNNModel(nn.Module):\n",
        "\n",
        "  def __init__(self, num_features):\n",
        "\n",
        "    # invoking the parent class constructor\n",
        "    super().__init__()\n",
        "\n",
        "    # single neuron layer, perceptron\n",
        "    self.layer = nn.Linear(in_features=num_features, out_features=1)\n",
        "\n",
        "    # activaiton function\n",
        "    self.activation = nn.Sigmoid()\n",
        "\n",
        "  def forward(self, features):\n",
        "\n",
        "    # running through the layer\n",
        "    out = self.layer(features)\n",
        "\n",
        "    # passing through the activation function\n",
        "    out = self.activation(out)\n",
        "\n",
        "    return out\n",
        "\n",
        "# setup for training pipeline\n",
        "# here we are doing batch gradient descent - entire dataset in each epoch\n",
        "\n",
        "# defining the parameters\n",
        "learning_rate = 0.1\n",
        "epochs = 25\n",
        "\n",
        "# create the model\n",
        "model = SNNModel(X_train_tensor.shape[1]) # arg = number of features\n",
        "\n",
        "# defining optimizer\n",
        "optimizer = torch.optim.SGD(model.parameters(), lr=learning_rate)\n",
        "\n",
        "# defining the loss function\n",
        "loss_function = nn.BCELoss()\n",
        "\n",
        "# training pipeline\n",
        "for epoch in range(epochs):\n",
        "\n",
        "  # forward pass\n",
        "  y_pred = model(X_train_tensor)\n",
        "\n",
        "  # loss calculation\n",
        "  # reshape y_train_tensor to match y_pred's shape\n",
        "  loss = loss_function(y_pred, y_train_tensor.unsqueeze(1))\n",
        "\n",
        "\n",
        "  # clear gradients\n",
        "  optimizer.zero_grad()\n",
        "  \"\"\"\n",
        "  model.layer.weight.grad.zero_()\n",
        "  model.layer.bias.grad.zero_()\n",
        "  \"\"\"\n",
        "\n",
        "  # backward pass\n",
        "  loss.backward()\n",
        "\n",
        "  # parameters updation\n",
        "  optimizer.step()\n",
        "  \"\"\"\n",
        "  with torch.no_grad():\n",
        "    model.layer.weight -= learning_rate * model.layer.weight.grad\n",
        "    model.layer.bias -= learning_rate * model.layer.bias.grad\n",
        "  \"\"\"\n",
        "\n",
        "  # print loss in each epoch\n",
        "  print(f\"Epoch: {epoch + 1}, Loss: {loss.item()}\")\n",
        "\n",
        "# model evaluation\n",
        "with torch.no_grad():\n",
        "  y_pred = model.forward(X_test_tensor)\n",
        "  y_pred = (y_pred > 0.5).float()\n",
        "  accuracy = (y_pred == y_test_tensor).float().mean()\n",
        "  print(f\"Accuracy: {accuracy.item()}\")"
      ],
      "metadata": {
        "colab": {
          "base_uri": "https://localhost:8080/"
        },
        "id": "qK43RZWnUExr",
        "outputId": "dbef6321-39c2-4f14-e64f-9ccc548c2f51"
      },
      "execution_count": null,
      "outputs": [
        {
          "output_type": "stream",
          "name": "stdout",
          "text": [
            "torch.float32\n",
            "Epoch: 1, Loss: 1.0630443096160889\n",
            "Epoch: 2, Loss: 0.7301928997039795\n",
            "Epoch: 3, Loss: 0.5563108921051025\n",
            "Epoch: 4, Loss: 0.46112191677093506\n",
            "Epoch: 5, Loss: 0.4012064039707184\n",
            "Epoch: 6, Loss: 0.35959675908088684\n",
            "Epoch: 7, Loss: 0.32872501015663147\n",
            "Epoch: 8, Loss: 0.30472102761268616\n",
            "Epoch: 9, Loss: 0.2853969633579254\n",
            "Epoch: 10, Loss: 0.26941993832588196\n",
            "Epoch: 11, Loss: 0.25592970848083496\n",
            "Epoch: 12, Loss: 0.2443450391292572\n",
            "Epoch: 13, Loss: 0.2342580407857895\n",
            "Epoch: 14, Loss: 0.22537334263324738\n",
            "Epoch: 15, Loss: 0.2174713909626007\n",
            "Epoch: 16, Loss: 0.21038515865802765\n",
            "Epoch: 17, Loss: 0.20398515462875366\n",
            "Epoch: 18, Loss: 0.19816912710666656\n",
            "Epoch: 19, Loss: 0.1928550899028778\n",
            "Epoch: 20, Loss: 0.18797653913497925\n",
            "Epoch: 21, Loss: 0.1834786981344223\n",
            "Epoch: 22, Loss: 0.17931605875492096\n",
            "Epoch: 23, Loss: 0.17545035481452942\n",
            "Epoch: 24, Loss: 0.17184917628765106\n",
            "Epoch: 25, Loss: 0.16848483681678772\n",
            "Accuracy: 0.5470914244651794\n"
          ]
        }
      ]
    },
    {
      "cell_type": "markdown",
      "source": [
        "## 15.5 Same pipeline using manual mini-batch gradient descent"
      ],
      "metadata": {
        "id": "ZktFBnVPrb_G"
      }
    },
    {
      "cell_type": "code",
      "source": [
        "# import libraries\n",
        "import numpy as np\n",
        "import pandas as pd\n",
        "import torch\n",
        "import torch.nn as nn\n",
        "from sklearn.model_selection import train_test_split\n",
        "from sklearn.preprocessing import StandardScaler\n",
        "from sklearn.preprocessing import LabelEncoder\n",
        "\n",
        "# fetch the dataset\n",
        "df = pd.read_csv('https://raw.githubusercontent.com/gscdit/Breast-Cancer-Detection/refs/heads/master/data.csv')\n",
        "\n",
        "# drop the unnecessary columns\n",
        "df.drop(columns=['id', 'Unnamed: 32'], inplace=True)\n",
        "\n",
        "# split the dataset into train and test\n",
        "X_train, X_test, y_train, y_test = train_test_split(df.iloc[:,1:], df.iloc[:,0], test_size=0.2)\n",
        "\n",
        "# scaling the values to make it ready for neural network feeding\n",
        "scaler = StandardScaler()\n",
        "X_train = scaler.fit_transform(X_train)\n",
        "X_test = scaler.transform(X_test)\n",
        "\n",
        "# label encoding from string names to numbers\n",
        "encoder = LabelEncoder()\n",
        "y_train = encoder.fit_transform(y_train)\n",
        "y_test = encoder.transform(y_test)\n",
        "\n",
        "# converting numPy arrays to PyTorch tensors\n",
        "X_train_tensor = torch.from_numpy(X_train).float()\n",
        "X_test_tensor = torch.from_numpy(X_test).float()\n",
        "y_train_tensor = torch.from_numpy(y_train).float()\n",
        "y_test_tensor = torch.from_numpy(y_test).float()\n",
        "print(X_train_tensor.dtype)\n",
        "# creating the model class\n",
        "class SNNModel(nn.Module):\n",
        "\n",
        "  def __init__(self, num_features):\n",
        "\n",
        "    # invoking the parent class constructor\n",
        "    super().__init__()\n",
        "\n",
        "    # single neuron layer, perceptron\n",
        "    self.layer = nn.Linear(in_features=num_features, out_features=1)\n",
        "\n",
        "    # activaiton function\n",
        "    self.activation = nn.Sigmoid()\n",
        "\n",
        "  def forward(self, features):\n",
        "\n",
        "    # running through the layer\n",
        "    out = self.layer(features)\n",
        "\n",
        "    # passing through the activation function\n",
        "    out = self.activation(out)\n",
        "\n",
        "    return out\n",
        "\n",
        "# setup for training pipeline\n",
        "# here we are doing mini-batch gradient descent\n",
        "\n",
        "# defining the parameters\n",
        "learning_rate = 0.1\n",
        "epochs = 25\n",
        "batch_size = 32\n",
        "n_samples = len(X_train_tensor)\n",
        "\n",
        "# create the model\n",
        "model = SNNModel(X_train_tensor.shape[1]) # arg = number of features\n",
        "\n",
        "# defining optimizer\n",
        "optimizer = torch.optim.SGD(model.parameters(), lr=learning_rate)\n",
        "\n",
        "# defining the loss function\n",
        "loss_function = nn.BCELoss()\n",
        "\n",
        "# training pipeline\n",
        "for epoch in range(epochs):\n",
        "\n",
        "  # manually implementing the mini-batch GD\n",
        "  for start_idx in range(0, n_samples, batch_size):\n",
        "\n",
        "    # preparing the batch\n",
        "    end_idx = start_idx + batch_size\n",
        "    X_batch = X_train_tensor[start_idx:end_idx]\n",
        "    y_batch = y_train_tensor[start_idx:end_idx]\n",
        "\n",
        "    # forward pass\n",
        "    y_pred = model(X_batch)\n",
        "\n",
        "    # loss calculation\n",
        "    # reshape y_train_tensor to match y_pred's shape\n",
        "    loss = loss_function(y_pred, y_batch.unsqueeze(1))\n",
        "\n",
        "    # clear gradients\n",
        "    optimizer.zero_grad()\n",
        "    \"\"\"\n",
        "    model.layer.weight.grad.zero_()\n",
        "    model.layer.bias.grad.zero_()\n",
        "    \"\"\"\n",
        "\n",
        "    # backward pass\n",
        "    loss.backward()\n",
        "\n",
        "    # parameters updation\n",
        "    optimizer.step()\n",
        "    \"\"\"\n",
        "    with torch.no_grad():\n",
        "      model.layer.weight -= learning_rate * model.layer.weight.grad\n",
        "      model.layer.bias -= learning_rate * model.layer.bias.grad\n",
        "    \"\"\"\n",
        "\n",
        "  # print loss in each epoch\n",
        "  print(f\"Epoch: {epoch + 1}, Loss: {loss.item()}\")\n",
        "\n",
        "# model evaluation\n",
        "with torch.no_grad():\n",
        "  y_pred = model.forward(X_test_tensor)\n",
        "  y_pred = (y_pred > 0.5).float()\n",
        "  accuracy = (y_pred == y_test_tensor).float().mean()\n",
        "  print(f\"Accuracy: {accuracy.item()}\")"
      ],
      "metadata": {
        "colab": {
          "base_uri": "https://localhost:8080/"
        },
        "id": "8hqUWDT9rjN7",
        "outputId": "720edfc3-d15e-41ed-e719-c8f8eb5d7cb9"
      },
      "execution_count": null,
      "outputs": [
        {
          "output_type": "stream",
          "name": "stdout",
          "text": [
            "torch.float32\n",
            "Epoch: 1, Loss: 0.16152667999267578\n",
            "Epoch: 2, Loss: 0.10726962983608246\n",
            "Epoch: 3, Loss: 0.08565299957990646\n",
            "Epoch: 4, Loss: 0.07326807826757431\n",
            "Epoch: 5, Loss: 0.06502605974674225\n",
            "Epoch: 6, Loss: 0.059062808752059937\n",
            "Epoch: 7, Loss: 0.05450822040438652\n",
            "Epoch: 8, Loss: 0.05089402571320534\n",
            "Epoch: 9, Loss: 0.047943081706762314\n",
            "Epoch: 10, Loss: 0.04547974094748497\n",
            "Epoch: 11, Loss: 0.04338680952787399\n",
            "Epoch: 12, Loss: 0.0415826141834259\n",
            "Epoch: 13, Loss: 0.040008533746004105\n",
            "Epoch: 14, Loss: 0.03862109035253525\n",
            "Epoch: 15, Loss: 0.037387486547231674\n",
            "Epoch: 16, Loss: 0.036282364279031754\n",
            "Epoch: 17, Loss: 0.035285741090774536\n",
            "Epoch: 18, Loss: 0.03438173979520798\n",
            "Epoch: 19, Loss: 0.03355754166841507\n",
            "Epoch: 20, Loss: 0.03280259296298027\n",
            "Epoch: 21, Loss: 0.03210824728012085\n",
            "Epoch: 22, Loss: 0.03146723285317421\n",
            "Epoch: 23, Loss: 0.030873479321599007\n",
            "Epoch: 24, Loss: 0.030321797356009483\n",
            "Epoch: 25, Loss: 0.029807744547724724\n",
            "Accuracy: 0.5555555820465088\n"
          ]
        }
      ]
    },
    {
      "cell_type": "markdown",
      "source": [
        "# 16. Dataset and DataLoader Class\n",
        "\n",
        "[lecture 6](https://www.youtube.com/watch?v=RH6DeE3bY6I&list=PLKnIA16_Rmvboy8bmDCjwNHgTaYH2puK7&index=7)\n",
        "\n",
        "[lecture 6 notes](https://drive.google.com/file/d/1fILm74_ytGv5O06ZZEutD6cyd1mvL-Yj/view)\n"
      ],
      "metadata": {
        "id": "05Oyda8DpGhg"
      }
    },
    {
      "cell_type": "code",
      "source": [
        "# to create a synthetic classification dataset\n",
        "from sklearn.datasets import make_classification\n",
        "\n",
        "# to use the pytorch\n",
        "import torch\n",
        "\n",
        "# 1. Create a synthetic classification dataset using sklearn\n",
        "X, y = make_classification(\n",
        "    n_samples = 10,     # Number of samples\n",
        "    n_features = 2,     # Number of features\n",
        "    n_informative = 2,  # Number of informative features\n",
        "    n_redundant = 0,    # Number of redundant features\n",
        "    n_classes = 2,      # Number of classes\n",
        "    random_state = 42   # for reproducibility\n",
        ")\n",
        "\n",
        "#print(X)\n",
        "#print(X.shape)\n",
        "#print(y)\n",
        "#print(y.shape)\n",
        "\n",
        "# 2. Convert the dataset to pytorch tensors\n",
        "X = torch.tensor(X, dtype=torch.float32)\n",
        "y = torch.tensor(y, dtype=torch.long)\n",
        "\n",
        "# cheking the tensors\n",
        "#print(type(X))\n",
        "#print(X.dtype)\n",
        "#print(type(y))\n",
        "#print(y.dtype)\n",
        "\n",
        "# to use Dataset and DataLoader classes\n",
        "from torch.utils.data import Dataset, DataLoader\n",
        "\n",
        "# methods which are named __name__ inside a class\n",
        "# are called magic methods and have corresponging functionality\n",
        "# that can be accessed through pre-defined interfaces\n",
        "# for example:\n",
        "#     def __len__(self) -> defines functionality for len(object)\n",
        "#     def __getitem__(self) -> defines functionality for object[index]\n",
        "\n",
        "# 3. Create a custom dataset class\n",
        "class CustomDataset(Dataset):\n",
        "\n",
        "  # constructor to create the custom dataset\n",
        "  def __init__(self, features, labels):\n",
        "    self.features = features\n",
        "    self.labels = labels\n",
        "\n",
        "  # to return the length of the dataset\n",
        "  def __len__(self):\n",
        "    return self.features.shape[0]\n",
        "\n",
        "  # to return the row at a specific index in the dataset\n",
        "  def __getitem__(self, index):\n",
        "    return self.features[index], self.labels[index]\n",
        "\n",
        "# creating an object of CustomDataset class\n",
        "dataset = CustomDataset(features=X, labels=y)\n",
        "\n",
        "# checking the dateset\n",
        "#print(len(dataset))\n",
        "#print(dataset[0])\n",
        "\n",
        "# creating a dataloader object\n",
        "# with batch size = 2 and shuffe = True to randomly select the samples\n",
        "dataloader = DataLoader(dataset, batch_size=2, shuffle=True)\n",
        "# dataloader is an iterable\n",
        "# there can be multiple workers in a dataloader, num_workers=\n",
        "# to parallelize the data processing\n",
        "\n",
        "# printing all the batches\n",
        "for batch_features, batch_labels in dataloader:\n",
        "  print(batch_features)\n",
        "  print(batch_labels)\n",
        "  print(\"-\"*50)"
      ],
      "metadata": {
        "colab": {
          "base_uri": "https://localhost:8080/"
        },
        "id": "UPeBZp8cuQY2",
        "outputId": "e5224fe0-9fe1-4fa6-9982-14661a451680"
      },
      "execution_count": null,
      "outputs": [
        {
          "output_type": "stream",
          "name": "stdout",
          "text": [
            "tensor([[1.8997, 0.8344],\n",
            "        [1.7774, 1.5116]])\n",
            "tensor([1, 1])\n",
            "--------------------------------------------------\n",
            "tensor([[-0.5872, -1.9717],\n",
            "        [-0.7206, -0.9606]])\n",
            "tensor([0, 0])\n",
            "--------------------------------------------------\n",
            "tensor([[-2.8954,  1.9769],\n",
            "        [-0.9382, -0.5430]])\n",
            "tensor([0, 1])\n",
            "--------------------------------------------------\n",
            "tensor([[-1.1402, -0.8388],\n",
            "        [-1.9629, -0.9923]])\n",
            "tensor([0, 0])\n",
            "--------------------------------------------------\n",
            "tensor([[ 1.0683, -0.9701],\n",
            "        [ 1.7273, -1.1858]])\n",
            "tensor([1, 1])\n",
            "--------------------------------------------------\n"
          ]
        }
      ]
    },
    {
      "cell_type": "code",
      "source": [
        "# import libraries\n",
        "import numpy as np\n",
        "import pandas as pd\n",
        "import torch\n",
        "import torch.nn as nn\n",
        "from sklearn.model_selection import train_test_split\n",
        "from sklearn.preprocessing import StandardScaler\n",
        "from sklearn.preprocessing import LabelEncoder\n",
        "\n",
        "# fetch the dataset\n",
        "df = pd.read_csv('https://raw.githubusercontent.com/gscdit/Breast-Cancer-Detection/refs/heads/master/data.csv')\n",
        "\n",
        "# drop the unnecessary columns\n",
        "df.drop(columns=['id', 'Unnamed: 32'], inplace=True)\n",
        "\n",
        "# split the dataset into train and test\n",
        "X_train, X_test, y_train, y_test = train_test_split(df.iloc[:,1:], df.iloc[:,0], test_size=0.2)\n",
        "\n",
        "# scaling the values to make it ready for neural network feeding\n",
        "scaler = StandardScaler()\n",
        "X_train = scaler.fit_transform(X_train)\n",
        "X_test = scaler.transform(X_test)\n",
        "\n",
        "# label encoding from string names to numbers\n",
        "encoder = LabelEncoder()\n",
        "y_train = encoder.fit_transform(y_train)\n",
        "y_test = encoder.transform(y_test)\n",
        "\n",
        "# converting numPy arrays to PyTorch tensors\n",
        "X_train_tensor = torch.from_numpy(X_train).float()\n",
        "X_test_tensor = torch.from_numpy(X_test).float()\n",
        "y_train_tensor = torch.from_numpy(y_train).float()\n",
        "y_test_tensor = torch.from_numpy(y_test).float()\n",
        "#print(X_train_tensor.dtype)\n",
        "\n",
        "# create a custom dataset class\n",
        "from torch.utils.data import Dataset, DataLoader\n",
        "\n",
        "class CustomDataset(Dataset):\n",
        "\n",
        "  # constructor to create the custom dataset\n",
        "  def __init__(self, features, labels):\n",
        "    self.features = features\n",
        "    self.labels = labels\n",
        "\n",
        "  # to return the length of the dataset\n",
        "  def __len__(self):\n",
        "    return self.features.shape[0]\n",
        "\n",
        "  # to return the row at a specific index in the dataset\n",
        "  def __getitem__(self, index):\n",
        "    return self.features[index], self.labels[index]\n",
        "\n",
        "# creating train & test objects of CustomDataset class\n",
        "train_dataset = CustomDataset(features=X_train_tensor, labels=y_train_tensor)\n",
        "test_dataset = CustomDataset(features=X_test_tensor, labels=y_test_tensor)\n",
        "\n",
        "# creating train and test dataloaders\n",
        "train_loader = DataLoader(dataset=train_dataset, batch_size=32, shuffle=True)\n",
        "test_loader = DataLoader(dataset=test_dataset, batch_size=32, shuffle=True)\n",
        "\n",
        "# creating the model class\n",
        "class SNNModel(nn.Module):\n",
        "\n",
        "  def __init__(self, num_features):\n",
        "\n",
        "    # invoking the parent class constructor\n",
        "    super().__init__()\n",
        "\n",
        "    # single neuron layer, perceptron\n",
        "    self.layer = nn.Linear(in_features=num_features, out_features=1)\n",
        "\n",
        "    # activaiton function\n",
        "    self.activation = nn.Sigmoid()\n",
        "\n",
        "  def forward(self, features):\n",
        "\n",
        "    # running through the layer\n",
        "    out = self.layer(features)\n",
        "\n",
        "    # passing through the activation function\n",
        "    out = self.activation(out)\n",
        "\n",
        "    return out\n",
        "\n",
        "# setup for training pipeline\n",
        "# here we are doing mini-batch gradient descent\n",
        "\n",
        "# defining the parameters\n",
        "learning_rate = 0.1\n",
        "epochs = 25\n",
        "batch_size = 32\n",
        "n_samples = len(X_train_tensor)\n",
        "\n",
        "# create the model\n",
        "model = SNNModel(X_train_tensor.shape[1]) # arg = number of features\n",
        "\n",
        "# defining optimizer\n",
        "optimizer = torch.optim.SGD(model.parameters(), lr=learning_rate)\n",
        "\n",
        "# defining the loss function\n",
        "loss_function = nn.BCELoss()\n",
        "\n",
        "# training pipeline\n",
        "for epoch in range(epochs):\n",
        "\n",
        "  # using DataLoader class for mini-batch GD\n",
        "  for batch_features, batch_labels in train_loader:\n",
        "\n",
        "    # forward pass\n",
        "    y_pred = model(batch_features)\n",
        "\n",
        "    # loss calculation\n",
        "    # reshape batch_labels to match y_pred's shape\n",
        "    loss = loss_function(y_pred, batch_labels.unsqueeze(1))\n",
        "\n",
        "    # clear gradients\n",
        "    optimizer.zero_grad()\n",
        "\n",
        "    # backward pass\n",
        "    loss.backward()\n",
        "\n",
        "    # parameters updation\n",
        "    optimizer.step()\n",
        "\n",
        "  # print loss in each epoch\n",
        "  print(f\"Epoch: {epoch + 1}, Loss: {loss.item()}\")\n",
        "\n",
        "# model evaluation using DataLoader class\n",
        "model.eval() # sets the model to evaluation mode\n",
        "accuracy_list = []\n",
        "\n",
        "with torch.no_grad():\n",
        "  for batch_features, batch_labels in test_loader:\n",
        "\n",
        "    # forward pass\n",
        "    y_pred = model(batch_features)\n",
        "    y_pred = (y_pred > 0.5).float() # convert probabilities to binary predictions\n",
        "\n",
        "    # calculate accuracy for current batch\n",
        "    batch_accuracy = (y_pred.unsqueeze(1) == batch_labels).float().mean()\n",
        "    accuracy_list.append(batch_accuracy)\n",
        "\n",
        "# calculate overall accuracy\n",
        "overall_accuracy = sum(accuracy_list)/len(accuracy_list)\n",
        "print(f\"Accuracy: {overall_accuracy.item()}\")"
      ],
      "metadata": {
        "colab": {
          "base_uri": "https://localhost:8080/"
        },
        "id": "6ufa7vjpylws",
        "outputId": "564e59cc-feaa-44fd-d403-fc8675429b45"
      },
      "execution_count": null,
      "outputs": [
        {
          "output_type": "stream",
          "name": "stdout",
          "text": [
            "Epoch: 1, Loss: 0.2656121850013733\n",
            "Epoch: 2, Loss: 0.21673960983753204\n",
            "Epoch: 3, Loss: 0.14749301970005035\n",
            "Epoch: 4, Loss: 0.2941603660583496\n",
            "Epoch: 5, Loss: 0.3070451617240906\n",
            "Epoch: 6, Loss: 0.2955907881259918\n",
            "Epoch: 7, Loss: 0.046808622777462006\n",
            "Epoch: 8, Loss: 0.2862524688243866\n",
            "Epoch: 9, Loss: 0.16703937947750092\n",
            "Epoch: 10, Loss: 0.10750813782215118\n",
            "Epoch: 11, Loss: 0.23264893889427185\n",
            "Epoch: 12, Loss: 0.05207384377717972\n",
            "Epoch: 13, Loss: 0.05487825348973274\n",
            "Epoch: 14, Loss: 0.037686485797166824\n",
            "Epoch: 15, Loss: 0.07396785914897919\n",
            "Epoch: 16, Loss: 0.10956715792417526\n",
            "Epoch: 17, Loss: 0.0583193376660347\n",
            "Epoch: 18, Loss: 0.07419907301664352\n",
            "Epoch: 19, Loss: 0.08876631408929825\n",
            "Epoch: 20, Loss: 0.008153312839567661\n",
            "Epoch: 21, Loss: 0.052498698234558105\n",
            "Epoch: 22, Loss: 0.041397642344236374\n",
            "Epoch: 23, Loss: 0.031670063734054565\n",
            "Epoch: 24, Loss: 0.019403787329792976\n",
            "Epoch: 25, Loss: 0.3388964533805847\n",
            "Accuracy: 0.5437704920768738\n"
          ]
        }
      ]
    },
    {
      "cell_type": "markdown",
      "source": [
        "# 17. Building an MLP using everything learned above, on fashion MNIST dataset\n",
        "\n",
        "- multi-class classification (10 classes)\n",
        "- [lecture 7](https://www.youtube.com/watch?v=6EJaHBJhwDs&list=PLKnIA16_Rmvboy8bmDCjwNHgTaYH2puK7&index=7)"
      ],
      "metadata": {
        "id": "JoDsNvxDKvZS"
      }
    },
    {
      "cell_type": "code",
      "source": [
        "# imports\n",
        "import pandas as pd\n",
        "import torch\n",
        "import torch.nn as nn\n",
        "from torch.utils.data import Dataset, DataLoader\n",
        "import torch.optim as optim\n",
        "from sklearn.model_selection import train_test_split\n",
        "import matplotlib.pyplot as plt\n",
        "\n",
        "# set random seed for reproducibility\n",
        "torch.manual_seed(42)\n",
        "\n",
        "# connecting to google drive to fetch the data\n",
        "from google.colab import drive\n",
        "drive.mount('/content/drive')\n",
        "\n",
        "# loading the data from fmnist_small.csv\n",
        "df = pd.read_csv(\"/content/drive/My Drive/fmnist_small.csv\")\n",
        "\n",
        "#print(df.head())\n",
        "\n",
        "# create 4x4 grid of images\n",
        "fig, axes = plt.subplots(4, 4, figsize=(10,10))\n",
        "fig.suptitle(\"First 16 images\", fontsize=16)\n",
        "\n",
        "# plot the first 16 images from the dataset\n",
        "for i, ax in enumerate(axes.flat):\n",
        "  img = df.iloc[i,1:].values.reshape(28, 28) # reshape to 28x28\n",
        "  ax.imshow(img) # Display in greyscale\n",
        "  ax.axis('off') # Remove axis for a cleaner look\n",
        "  ax.set_title(f\"Label: {df.iloc[i, 0]}\") # show the label\n",
        "\n",
        "# adjusting layout to fit the title\n",
        "plt.tight_layout(rect=[0, 0, 1, .96])\n",
        "plt.show()\n",
        "\n",
        "# train test split\n",
        "X = df.iloc[:, 1:].values # all columns except 1st/0th column\n",
        "y = df.iloc[:, 0].values  # 1st/0th column\n",
        "\n",
        "X_train, X_test, y_train, y_test = train_test_split(X, y, test_size=0.2, random_state=42)\n",
        "\n",
        "# scaling the features to be within 0,1\n",
        "X_train = X_train / 255.0\n",
        "X_test = X_test / 255.0\n",
        "\n",
        "# create CustomDataset class\n",
        "class CustomDataset(Dataset):\n",
        "\n",
        "  # constructor to create the custom dataset\n",
        "  def __init__(self, features, labels):\n",
        "\n",
        "    # pytorch requires features to be in float32\n",
        "    self.features = torch.tensor(features, dtype=torch.float32)\n",
        "\n",
        "    # pytorch requires labels to be in long\n",
        "    self.labels = torch.tensor(labels, dtype=torch.long)\n",
        "\n",
        "  # to return the length of the dataset\n",
        "  def __len__(self):\n",
        "    #return len(self.features)\n",
        "    return self.features.shape[0]\n",
        "\n",
        "  # to return the row at a specific index in the dataset\n",
        "  def __getitem__(self, index):\n",
        "    return self.features[index], self.labels[index]\n",
        "\n",
        "# create train_dataset object\n",
        "train_dataset = CustomDataset(X_train, y_train)\n",
        "#print(len(train_dataset)) # should be 4800\n",
        "\n",
        "# create test_dataset object\n",
        "test_dataset = CustomDataset(X_test, y_test)\n",
        "#print(len(test_dataset))\n",
        "\n",
        "# create train and test loader objects\n",
        "train_loader = DataLoader(train_dataset, batch_size=32, shuffle=True)\n",
        "# shuffling off for test loader\n",
        "test_loader = DataLoader(test_dataset, batch_size=32, shuffle=False)\n",
        "\n",
        "# create network class\n",
        "class MyMLP(nn.Module):\n",
        "\n",
        "  # constructure of the network which takes number of features as arguments\n",
        "  def __init__(self, num_features):\n",
        "\n",
        "    # invoke the constructer of the base/parent class\n",
        "    super().__init__()\n",
        "\n",
        "    # define the architecture of the network here\n",
        "    self.model = nn.Sequential(\n",
        "        nn.Linear(in_features=num_features, out_features=128),\n",
        "        nn.ReLU(),\n",
        "        nn.Linear(in_features=128, out_features=64),\n",
        "        nn.ReLU(),\n",
        "        nn.Linear(in_features=64, out_features=10),\n",
        "        #nn.Softmax()\n",
        "        # explicit addition of softmax activation is not required in pytorch\n",
        "        # because cross entropy loss function in pytorch\n",
        "        # internally has softmax implemented within it\n",
        "    )\n",
        "\n",
        "  # defining forward pass\n",
        "  def forward(self, x):\n",
        "    return self.model(x)\n",
        "\n",
        "# parameters setup\n",
        "epochs = 100\n",
        "learning_rate = 0.1\n",
        "\n",
        "# instantiate the model\n",
        "model = MyMLP(X_train.shape[1]) # passing the number of features as arg\n",
        "\n",
        "# loss function\n",
        "criterion = nn.CrossEntropyLoss()\n",
        "\n",
        "# optimizer\n",
        "optimizer = optim.SGD(params=model.parameters(), lr=learning_rate)\n",
        "\n",
        "# training pipeline\n",
        "for epoch in range(epochs):\n",
        "\n",
        "  total_epoch_loss = 0\n",
        "\n",
        "  # mini-batch gradient descent\n",
        "  for batch_features, batch_labels in train_loader:\n",
        "\n",
        "    # forward pass\n",
        "    y_pred = model(batch_features)\n",
        "\n",
        "    # loss calculation\n",
        "    loss = criterion(y_pred, batch_labels)\n",
        "\n",
        "    # flush the gradients\n",
        "    optimizer.zero_grad()\n",
        "\n",
        "    # backward pass / back-propagation\n",
        "    loss.backward() # this will calculate the gradients\n",
        "\n",
        "    # update parameters using calculated gradients\n",
        "    optimizer.step()\n",
        "\n",
        "    # epoch loss addition\n",
        "    total_epoch_loss += loss.item()\n",
        "\n",
        "  # average loss in each epoch\n",
        "  print(f\"Epoch {epoch + 1} loss: {total_epoch_loss/len(train_loader)}\")\n",
        "\n",
        "# set the model to evaluation mode\n",
        "# if we have dropouts in our network\n",
        "# then on each run/train some neurons are turned off\n",
        "# but during evaluation we want all the neurons to participate\n",
        "# model.eval() enforces evaluation behavior which is different than training behavior\n",
        "# if we have batch normalization in our network\n",
        "# then on each run it calculated some statistics and uses it\n",
        "# but during evaluation we don't want that to happen\n",
        "# model.eval() enforces evaluation behavior which is different than training behavior\n",
        "model.eval()\n",
        "\n",
        "# evaluation code\n",
        "total = 0\n",
        "correct = 0\n",
        "\n",
        "# to run without tracking the gradient functions\n",
        "with torch.no_grad():\n",
        "  for batch_features, batch_labels in test_loader:\n",
        "    # forward pass\n",
        "    y_pred = model(batch_features)\n",
        "    _,predicted_class = torch.max(y_pred, 1)\n",
        "    total += batch_labels.shape[0]\n",
        "    correct += (batch_labels == predicted_class).sum().item()\n",
        "print(f\"Accuracy of the model: {correct/total}\")"
      ],
      "metadata": {
        "colab": {
          "base_uri": "https://localhost:8080/",
          "height": 1000
        },
        "id": "dbYIf3OpKOUn",
        "outputId": "ed9512ce-613b-4d5c-eda3-6c50e691363f"
      },
      "execution_count": null,
      "outputs": [
        {
          "output_type": "stream",
          "name": "stdout",
          "text": [
            "Drive already mounted at /content/drive; to attempt to forcibly remount, call drive.mount(\"/content/drive\", force_remount=True).\n"
          ]
        },
        {
          "output_type": "display_data",
          "data": {
            "text/plain": [
              "<Figure size 1000x1000 with 16 Axes>"
            ],
            "image/png": "[encoded data removed]"
          },
          "metadata": {}
        },
        {
          "output_type": "stream",
          "name": "stdout",
          "text": [
            "Epoch 1 loss: 1.3216368440786999\n",
            "Epoch 2 loss: 0.7793365436792373\n",
            "Epoch 3 loss: 0.6427524652083715\n",
            "Epoch 4 loss: 0.5751657336950302\n",
            "Epoch 5 loss: 0.528180201848348\n",
            "Epoch 6 loss: 0.49528750121593473\n",
            "Epoch 7 loss: 0.4602432996034622\n",
            "Epoch 8 loss: 0.4359459094206492\n",
            "Epoch 9 loss: 0.41829214423894884\n",
            "Epoch 10 loss: 0.3984092291692893\n",
            "Epoch 11 loss: 0.3850264506538709\n",
            "Epoch 12 loss: 0.3722685620188713\n",
            "Epoch 13 loss: 0.3477362078428268\n",
            "Epoch 14 loss: 0.3467242218057315\n",
            "Epoch 15 loss: 0.3138812760512034\n",
            "Epoch 16 loss: 0.3126461291313171\n",
            "Epoch 17 loss: 0.29552092105150224\n",
            "Epoch 18 loss: 0.2857150869568189\n",
            "Epoch 19 loss: 0.27084775785605114\n",
            "Epoch 20 loss: 0.26237100958824155\n",
            "Epoch 21 loss: 0.25756089876095456\n",
            "Epoch 22 loss: 0.24232648963729542\n",
            "Epoch 23 loss: 0.23957946779827277\n",
            "Epoch 24 loss: 0.2261324493587017\n",
            "Epoch 25 loss: 0.2233684351791938\n",
            "Epoch 26 loss: 0.21165308925012746\n",
            "Epoch 27 loss: 0.21910773759086927\n",
            "Epoch 28 loss: 0.21103892110288144\n",
            "Epoch 29 loss: 0.18156708138684433\n",
            "Epoch 30 loss: 0.18886244976272185\n",
            "Epoch 31 loss: 0.19120197057723998\n",
            "Epoch 32 loss: 0.1914620167016983\n",
            "Epoch 33 loss: 0.1758678053940336\n",
            "Epoch 34 loss: 0.17788761181135973\n",
            "Epoch 35 loss: 0.157662669159472\n",
            "Epoch 36 loss: 0.16680870349208513\n",
            "Epoch 37 loss: 0.15528808721651632\n",
            "Epoch 38 loss: 0.14431856885552408\n",
            "Epoch 39 loss: 0.1442228495577971\n",
            "Epoch 40 loss: 0.13288619516184552\n",
            "Epoch 41 loss: 0.135676580692331\n",
            "Epoch 42 loss: 0.14467643752383688\n",
            "Epoch 43 loss: 0.12461728240052859\n",
            "Epoch 44 loss: 0.12559822227805853\n",
            "Epoch 45 loss: 0.10866230014711618\n",
            "Epoch 46 loss: 0.12954869902382293\n",
            "Epoch 47 loss: 0.11017234543959299\n",
            "Epoch 48 loss: 0.11515208431830008\n",
            "Epoch 49 loss: 0.10039059857216974\n",
            "Epoch 50 loss: 0.10084663986538847\n",
            "Epoch 51 loss: 0.08974190000444651\n",
            "Epoch 52 loss: 0.08475546677752087\n",
            "Epoch 53 loss: 0.09427098215247194\n",
            "Epoch 54 loss: 0.09268801522130768\n",
            "Epoch 55 loss: 0.0918927800298358\n",
            "Epoch 56 loss: 0.0889479945662121\n",
            "Epoch 57 loss: 0.07283928324778875\n",
            "Epoch 58 loss: 0.08935849150953193\n",
            "Epoch 59 loss: 0.07462442129229506\n",
            "Epoch 60 loss: 0.0789726735604927\n",
            "Epoch 61 loss: 0.08824706799350679\n",
            "Epoch 62 loss: 0.06006458135942618\n",
            "Epoch 63 loss: 0.08791264206171036\n",
            "Epoch 64 loss: 0.22559133859351277\n",
            "Epoch 65 loss: 0.09637079646190007\n",
            "Epoch 66 loss: 0.11621116815755765\n",
            "Epoch 67 loss: 0.07865453423000872\n",
            "Epoch 68 loss: 0.06934662629850209\n",
            "Epoch 69 loss: 0.07031679789690921\n",
            "Epoch 70 loss: 0.05125938480564703\n",
            "Epoch 71 loss: 0.05311573015681158\n",
            "Epoch 72 loss: 0.04880531335094323\n",
            "Epoch 73 loss: 0.04703562020789832\n",
            "Epoch 74 loss: 0.040777511660320065\n",
            "Epoch 75 loss: 0.04819046132111301\n",
            "Epoch 76 loss: 0.03072676162390659\n",
            "Epoch 77 loss: 0.032312645499284066\n",
            "Epoch 78 loss: 0.03567005050523828\n",
            "Epoch 79 loss: 0.029893570366936427\n",
            "Epoch 80 loss: 0.023853825814827968\n",
            "Epoch 81 loss: 0.048085718614359695\n",
            "Epoch 82 loss: 0.033158210010733456\n",
            "Epoch 83 loss: 0.03151849518840512\n",
            "Epoch 84 loss: 0.022204163090015452\n",
            "Epoch 85 loss: 0.07666023984357405\n",
            "Epoch 86 loss: 0.06685945079972347\n",
            "Epoch 87 loss: 0.018734083388311167\n",
            "Epoch 88 loss: 0.017389200692608332\n",
            "Epoch 89 loss: 0.021070881032307323\n",
            "Epoch 90 loss: 0.06782017603516578\n",
            "Epoch 91 loss: 0.03387275122338906\n",
            "Epoch 92 loss: 0.030707686008730282\n",
            "Epoch 93 loss: 0.013259945363582422\n",
            "Epoch 94 loss: 0.04547278591625703\n",
            "Epoch 95 loss: 0.020045689839559296\n",
            "Epoch 96 loss: 0.021593706752949703\n",
            "Epoch 97 loss: 0.012292747854177529\n",
            "Epoch 98 loss: 0.00892297200523899\n",
            "Epoch 99 loss: 0.009056749793817289\n",
            "Epoch 100 loss: 0.008310633393703028\n",
            "Accuracy of the model: 0.8325\n"
          ]
        }
      ]
    },
    {
      "cell_type": "markdown",
      "source": [
        "# 18. Using the GPU on entire fashion MNIST dataset using the same MLP mmodel developed above"
      ],
      "metadata": {
        "id": "PDAoi0jggp9E"
      }
    },
    {
      "cell_type": "code",
      "source": [
        "import torch\n",
        "\n",
        "# checking gpu availability\n",
        "if torch.cuda.is_available():\n",
        "  print(\"GPU is available!\")\n",
        "  print(f\"Using GPU: {torch.cuda.get_device_name(0)}\")\n",
        "  device = torch.device('cuda')\n",
        "else:\n",
        "  device = torch.device('cpu')\n",
        "  print(\"GPU not available. Using CPU.\")\n",
        "\n",
        "print(device)"
      ],
      "metadata": {
        "colab": {
          "base_uri": "https://localhost:8080/"
        },
        "id": "7jt-3MDojNWV",
        "outputId": "3d1e4954-d38d-405b-d82c-62d659e52957"
      },
      "execution_count": null,
      "outputs": [
        {
          "output_type": "stream",
          "name": "stdout",
          "text": [
            "GPU is available!\n",
            "Using GPU: Tesla T4\n",
            "cuda\n"
          ]
        }
      ]
    },
    {
      "cell_type": "code",
      "source": [
        "# imports\n",
        "import pandas as pd\n",
        "import torch\n",
        "import torch.nn as nn\n",
        "from torch.utils.data import Dataset, DataLoader\n",
        "import torch.optim as optim\n",
        "from sklearn.model_selection import train_test_split\n",
        "import matplotlib.pyplot as plt\n",
        "\n",
        "# set random seed for reproducibility\n",
        "torch.manual_seed(42)\n",
        "\n",
        "# connecting to google drive to fetch the data\n",
        "from google.colab import drive\n",
        "drive.mount('/content/drive')\n",
        "\n",
        "# loading the data from fmnist_small.csv\n",
        "df_train = pd.read_csv(\"/content/drive/My Drive/fmnist_train.csv\")\n",
        "df_test = pd.read_csv(\"/content/drive/My Drive/fmnist_test.csv\")\n",
        "\n",
        "#print(df.head())\n",
        "\n",
        "# create 4x4 grid of images\n",
        "fig, axes = plt.subplots(4, 4, figsize=(10,10))\n",
        "fig.suptitle(\"First 16 images\", fontsize=16)\n",
        "\n",
        "# plot the first 16 images from the dataset\n",
        "for i, ax in enumerate(axes.flat):\n",
        "  img = df_train.iloc[i,1:].values.reshape(28, 28) # reshape to 28x28\n",
        "  ax.imshow(img) # Display in greyscale\n",
        "  ax.axis('off') # Remove axis for a cleaner look\n",
        "  ax.set_title(f\"Label: {df_train.iloc[i, 0]}\") # show the label\n",
        "\n",
        "# adjusting layout to fit the title\n",
        "plt.tight_layout(rect=[0, 0, 1, .96])\n",
        "plt.show()\n",
        "\n",
        "# train test split\n",
        "X_train = df_train.iloc[:, 1:].values # all columns except 1st/0th column\n",
        "y_train = df_train.iloc[:, 0].values  # 1st/0th column\n",
        "\n",
        "X_test = df_test.iloc[:, 1:].values # all columns except 1st/0th column\n",
        "y_test = df_test.iloc[:, 0].values  # 1st/0th column\n",
        "\n",
        "\n",
        "# scaling the features to be within 0,1\n",
        "X_train = X_train / 255.0\n",
        "X_test = X_test / 255.0\n",
        "\n",
        "# create CustomDataset class\n",
        "class CustomDataset(Dataset):\n",
        "\n",
        "  # constructor to create the custom dataset\n",
        "  def __init__(self, features, labels):\n",
        "\n",
        "    # pytorch requires features to be in float32\n",
        "    self.features = torch.tensor(features, dtype=torch.float32)\n",
        "\n",
        "    # pytorch requires labels to be in long\n",
        "    self.labels = torch.tensor(labels, dtype=torch.long)\n",
        "\n",
        "  # to return the length of the dataset\n",
        "  def __len__(self):\n",
        "    #return len(self.features)\n",
        "    return self.features.shape[0]\n",
        "\n",
        "  # to return the row at a specific index in the dataset\n",
        "  def __getitem__(self, index):\n",
        "    return self.features[index], self.labels[index]\n",
        "\n",
        "# create train_dataset object\n",
        "train_dataset = CustomDataset(X_train, y_train)\n",
        "#print(len(train_dataset)) # should be 4800\n",
        "\n",
        "# create test_dataset object\n",
        "test_dataset = CustomDataset(X_test, y_test)\n",
        "#print(len(test_dataset))\n",
        "\n",
        "# create train and test loader objects\n",
        "train_loader = DataLoader(train_dataset, batch_size=128, shuffle=True, pin_memory=True, num_workers=2)\n",
        "# keep shuffling off for test loader\n",
        "test_loader = DataLoader(test_dataset, batch_size=128, shuffle=False, pin_memory=True, num_workers=2)\n",
        "# pin_memory=True makes the data to be stored in pinned memory,\n",
        "# instead of paged memory\n",
        "# this saves the time at execution of shfiting data from paged to pinned memory\n",
        "\n",
        "\n",
        "# create network class\n",
        "class MyMLP(nn.Module):\n",
        "\n",
        "  # constructure of the network which takes number of features as arguments\n",
        "  def __init__(self, num_features):\n",
        "\n",
        "    # invoke the constructer of the base/parent class\n",
        "    super().__init__()\n",
        "\n",
        "    # define the architecture of the network here\n",
        "    self.model = nn.Sequential(\n",
        "        nn.Linear(in_features=num_features, out_features=128),\n",
        "        nn.ReLU(),\n",
        "        nn.Linear(in_features=128, out_features=64),\n",
        "        nn.ReLU(),\n",
        "        nn.Linear(in_features=64, out_features=10),\n",
        "        #nn.Softmax()\n",
        "        # explicit addition of softmax activation is not required in pytorch\n",
        "        # because cross entropy loss function in pytorch\n",
        "        # internally has softmax implemented within it\n",
        "    )\n",
        "\n",
        "  # defining forward pass\n",
        "  def forward(self, x):\n",
        "    return self.model(x)\n",
        "\n",
        "# parameters setup\n",
        "epochs = 100\n",
        "learning_rate = 0.1\n",
        "\n",
        "# instantiate the model\n",
        "model = MyMLP(X_train.shape[1]) # passing the number of features as arg\n",
        "\n",
        "# moving the model to GPU\n",
        "model = model.to(device)\n",
        "\n",
        "# loss function\n",
        "criterion = nn.CrossEntropyLoss()\n",
        "\n",
        "# optimizer\n",
        "optimizer = optim.SGD(params=model.parameters(), lr=learning_rate)\n",
        "\n",
        "# training pipeline\n",
        "for epoch in range(epochs):\n",
        "\n",
        "  total_epoch_loss = 0\n",
        "\n",
        "  # mini-batch gradient descent\n",
        "  for batch_features, batch_labels in train_loader:\n",
        "\n",
        "    # move the data to GPU\n",
        "    batch_features= batch_features.to(device)\n",
        "    batch_labels = batch_labels.to(device)\n",
        "\n",
        "    # forward pass\n",
        "    y_pred = model(batch_features)\n",
        "\n",
        "    # loss calculation\n",
        "    loss = criterion(y_pred, batch_labels)\n",
        "\n",
        "    # flush the gradients\n",
        "    optimizer.zero_grad()\n",
        "\n",
        "    # backward pass / back-propagation\n",
        "    loss.backward() # this will calculate the gradients\n",
        "\n",
        "    # update parameters using calculated gradients\n",
        "    optimizer.step()\n",
        "\n",
        "    # epoch loss addition\n",
        "    total_epoch_loss += loss.item()\n",
        "\n",
        "  # average loss in each epoch\n",
        "  print(f\"Epoch {epoch + 1} loss: {total_epoch_loss/len(train_loader)}\")"
      ],
      "metadata": {
        "colab": {
          "base_uri": "https://localhost:8080/",
          "height": 1000
        },
        "id": "zMO5gPY7ghZ-",
        "outputId": "1292a6e9-30a6-43c3-e85f-fc6207aa546e"
      },
      "execution_count": null,
      "outputs": [
        {
          "output_type": "stream",
          "name": "stdout",
          "text": [
            "Drive already mounted at /content/drive; to attempt to forcibly remount, call drive.mount(\"/content/drive\", force_remount=True).\n"
          ]
        },
        {
          "output_type": "display_data",
          "data": {
            "text/plain": [
              "<Figure size 1000x1000 with 16 Axes>"
            ],
            "image/png": "[encoded data removed]"
          },
          "metadata": {}
        },
        {
          "output_type": "stream",
          "name": "stdout",
          "text": [
            "Epoch 1 loss: 0.8320518864878713\n",
            "Epoch 2 loss: 0.5017581857852081\n",
            "Epoch 3 loss: 0.4452278288061431\n",
            "Epoch 4 loss: 0.4077278306997661\n",
            "Epoch 5 loss: 0.38393580961202\n",
            "Epoch 6 loss: 0.36481002417962943\n",
            "Epoch 7 loss: 0.3523371454113836\n",
            "Epoch 8 loss: 0.3380365246521639\n",
            "Epoch 9 loss: 0.3284280890150111\n",
            "Epoch 10 loss: 0.31588309558469857\n",
            "Epoch 11 loss: 0.30972940323830667\n",
            "Epoch 12 loss: 0.30169369391540984\n",
            "Epoch 13 loss: 0.2951198465534365\n",
            "Epoch 14 loss: 0.2866168478404535\n",
            "Epoch 15 loss: 0.28069227485895665\n",
            "Epoch 16 loss: 0.27417406614528284\n",
            "Epoch 17 loss: 0.2689129319081683\n",
            "Epoch 18 loss: 0.26144263275396595\n",
            "Epoch 19 loss: 0.2572237991574985\n",
            "Epoch 20 loss: 0.25110509481702026\n",
            "Epoch 21 loss: 0.24843462960107493\n",
            "Epoch 22 loss: 0.24182336982379335\n",
            "Epoch 23 loss: 0.23898788471656568\n",
            "Epoch 24 loss: 0.23390073260900054\n",
            "Epoch 25 loss: 0.23088505071427015\n",
            "Epoch 26 loss: 0.22601476217955668\n",
            "Epoch 27 loss: 0.2235402963849019\n",
            "Epoch 28 loss: 0.21840820088188276\n",
            "Epoch 29 loss: 0.2139179246353188\n",
            "Epoch 30 loss: 0.211350065240982\n",
            "Epoch 31 loss: 0.20836977949782984\n",
            "Epoch 32 loss: 0.2037450419242448\n",
            "Epoch 33 loss: 0.20146058183679702\n",
            "Epoch 34 loss: 0.19785893840322108\n",
            "Epoch 35 loss: 0.19605025315462654\n",
            "Epoch 36 loss: 0.19343739088727976\n",
            "Epoch 37 loss: 0.1899544416126539\n",
            "Epoch 38 loss: 0.18737784625370618\n",
            "Epoch 39 loss: 0.18325662800371012\n",
            "Epoch 40 loss: 0.18091396447310823\n",
            "Epoch 41 loss: 0.17713043347858926\n",
            "Epoch 42 loss: 0.17570054864705498\n",
            "Epoch 43 loss: 0.17552287417497717\n",
            "Epoch 44 loss: 0.1732423148715674\n",
            "Epoch 45 loss: 0.16738842008337537\n",
            "Epoch 46 loss: 0.16655335424424234\n",
            "Epoch 47 loss: 0.16387545921877503\n",
            "Epoch 48 loss: 0.16027408827151826\n",
            "Epoch 49 loss: 0.16046698300886764\n",
            "Epoch 50 loss: 0.15639649067066116\n",
            "Epoch 51 loss: 0.15339950599205265\n",
            "Epoch 52 loss: 0.1531765539365918\n",
            "Epoch 53 loss: 0.15122989363380587\n",
            "Epoch 54 loss: 0.14727375665898007\n",
            "Epoch 55 loss: 0.1461427913927066\n",
            "Epoch 56 loss: 0.1434635148484951\n",
            "Epoch 57 loss: 0.14231897714232078\n",
            "Epoch 58 loss: 0.14277040186340112\n",
            "Epoch 59 loss: 0.13748895671607844\n",
            "Epoch 60 loss: 0.13756362722912577\n",
            "Epoch 61 loss: 0.13489799504118688\n",
            "Epoch 62 loss: 0.13418867041879118\n",
            "Epoch 63 loss: 0.1313858290693399\n",
            "Epoch 64 loss: 0.1278606993811471\n",
            "Epoch 65 loss: 0.12663452092137165\n",
            "Epoch 66 loss: 0.12422577114597058\n",
            "Epoch 67 loss: 0.12209002027856007\n",
            "Epoch 68 loss: 0.11991199667551625\n",
            "Epoch 69 loss: 0.11994326580911557\n",
            "Epoch 70 loss: 0.11776882584995108\n",
            "Epoch 71 loss: 0.11785969293034916\n",
            "Epoch 72 loss: 0.1137203912832526\n",
            "Epoch 73 loss: 0.11143222255016695\n",
            "Epoch 74 loss: 0.11316865993175171\n",
            "Epoch 75 loss: 0.11188170841253643\n",
            "Epoch 76 loss: 0.11066018570778466\n",
            "Epoch 77 loss: 0.1052555437169985\n",
            "Epoch 78 loss: 0.10629176438204262\n",
            "Epoch 79 loss: 0.10303730827404746\n",
            "Epoch 80 loss: 0.1008344602022471\n",
            "Epoch 81 loss: 0.09931643360427447\n",
            "Epoch 82 loss: 0.10216312801469364\n",
            "Epoch 83 loss: 0.10081630500792059\n",
            "Epoch 84 loss: 0.09794259838251544\n",
            "Epoch 85 loss: 0.09590451550810958\n",
            "Epoch 86 loss: 0.09484260759230997\n",
            "Epoch 87 loss: 0.09293082331829487\n",
            "Epoch 88 loss: 0.08929878121404759\n",
            "Epoch 89 loss: 0.09232577361833694\n",
            "Epoch 90 loss: 0.08762507770917435\n",
            "Epoch 91 loss: 0.08897326672390135\n",
            "Epoch 92 loss: 0.08684972328131896\n",
            "Epoch 93 loss: 0.08457272241253462\n",
            "Epoch 94 loss: 0.08800578288146174\n",
            "Epoch 95 loss: 0.08394296547330456\n",
            "Epoch 96 loss: 0.08054041667287347\n",
            "Epoch 97 loss: 0.08479799528413617\n",
            "Epoch 98 loss: 0.079900146221746\n",
            "Epoch 99 loss: 0.07984888719231971\n",
            "Epoch 100 loss: 0.07877466021014302\n"
          ]
        }
      ]
    },
    {
      "cell_type": "code",
      "source": [
        "# set the model to evaluation mode\n",
        "# if we have dropouts in our network\n",
        "# then on each run/train some neurons are turned off\n",
        "# but during evaluation we want all the neurons to participate\n",
        "# model.eval() enforces evaluation behavior which is different than training behavior\n",
        "# if we have batch normalization in our network\n",
        "# then on each run it calculated some statistics and uses it\n",
        "# but during evaluation we don't want that to happen\n",
        "# model.eval() enforces evaluation behavior which is different than training behavior\n",
        "model.eval()\n",
        "\n",
        "# evaluation code\n",
        "total = 0\n",
        "correct = 0\n",
        "\n",
        "# to run without tracking the gradient functions\n",
        "with torch.no_grad():\n",
        "  for batch_features, batch_labels in test_loader:\n",
        "\n",
        "    # move the data to GPU\n",
        "    batch_features= batch_features.to(device)\n",
        "    batch_labels = batch_labels.to(device)\n",
        "\n",
        "    # forward pass\n",
        "    y_pred = model(batch_features)\n",
        "    _,predicted_class = torch.max(y_pred, 1)\n",
        "    total += batch_labels.shape[0]\n",
        "    correct += (batch_labels == predicted_class).sum().item()\n",
        "print(f\"Accuracy of the model on test data: {correct/total}\")\n",
        "\n",
        "# evaluation code\n",
        "total = 0\n",
        "correct = 0\n",
        "\n",
        "# to run without tracking the gradient functions\n",
        "with torch.no_grad():\n",
        "  for batch_features, batch_labels in train_loader:\n",
        "\n",
        "    # move the data to GPU\n",
        "    batch_features= batch_features.to(device)\n",
        "    batch_labels = batch_labels.to(device)\n",
        "\n",
        "    # forward pass\n",
        "    y_pred = model(batch_features)\n",
        "    _,predicted_class = torch.max(y_pred, 1)\n",
        "    total += batch_labels.shape[0]\n",
        "    correct += (batch_labels == predicted_class).sum().item()\n",
        "print(f\"Accuracy of the model on train data: {correct/total}\")"
      ],
      "metadata": {
        "colab": {
          "base_uri": "https://localhost:8080/"
        },
        "id": "Snvb8Q4Wp62m",
        "outputId": "fa522888-9adf-4bc9-e5d3-45709c5626b2"
      },
      "execution_count": null,
      "outputs": [
        {
          "output_type": "stream",
          "name": "stdout",
          "text": [
            "Accuracy of the model on test data: 0.8713\n",
            "Accuracy of the model on train data: 0.9405833333333333\n"
          ]
        }
      ]
    },
    {
      "cell_type": "markdown",
      "source": [
        "# 19. Optimizations\n",
        "\n",
        "[lecture 9](https://www.youtube.com/watch?v=7smLlJ8oj4o&list=PLKnIA16_Rmvboy8bmDCjwNHgTaYH2puK7&index=9)\n",
        "\n",
        "**Dropouts**\n",
        "- Applied to the hidden layers\n",
        "- Applied after the ReLU activation function\n",
        "- Randomly turns off p% neurons in the hidden layer during each forward pass\n",
        "- This has a regularization effect\n",
        "- During evaluation dropout is not used\n",
        "- nn.Dropout(p=)\n",
        "\n",
        "**Batch Normalization**\n",
        "- nn.batchNorm1D()\n",
        "\n",
        "**L2-regularization**\n",
        "-"
      ],
      "metadata": {
        "id": "SCAGWxlaojCg"
      }
    },
    {
      "cell_type": "code",
      "source": [
        "# imports\n",
        "import pandas as pd\n",
        "import torch\n",
        "import torch.nn as nn\n",
        "from torch.utils.data import Dataset, DataLoader\n",
        "import torch.optim as optim\n",
        "from sklearn.model_selection import train_test_split\n",
        "import matplotlib.pyplot as plt\n",
        "\n",
        "# set random seed for reproducibility\n",
        "torch.manual_seed(42)\n",
        "\n",
        "# connecting to google drive to fetch the data\n",
        "from google.colab import drive\n",
        "drive.mount('/content/drive')\n",
        "\n",
        "# loading the data from fmnist_small.csv\n",
        "df_train = pd.read_csv(\"/content/drive/My Drive/fmnist_train.csv\")\n",
        "df_test = pd.read_csv(\"/content/drive/My Drive/fmnist_test.csv\")\n",
        "\n",
        "#print(df.head())\n",
        "\n",
        "# create 4x4 grid of images\n",
        "fig, axes = plt.subplots(4, 4, figsize=(10,10))\n",
        "fig.suptitle(\"First 16 images\", fontsize=16)\n",
        "\n",
        "# plot the first 16 images from the dataset\n",
        "for i, ax in enumerate(axes.flat):\n",
        "  img = df_train.iloc[i,1:].values.reshape(28, 28) # reshape to 28x28\n",
        "  ax.imshow(img) # Display in greyscale\n",
        "  ax.axis('off') # Remove axis for a cleaner look\n",
        "  ax.set_title(f\"Label: {df_train.iloc[i, 0]}\") # show the label\n",
        "\n",
        "# adjusting layout to fit the title\n",
        "plt.tight_layout(rect=[0, 0, 1, .96])\n",
        "plt.show()\n",
        "\n",
        "# train test split\n",
        "X_train = df_train.iloc[:, 1:].values # all columns except 1st/0th column\n",
        "y_train = df_train.iloc[:, 0].values  # 1st/0th column\n",
        "\n",
        "X_test = df_test.iloc[:, 1:].values # all columns except 1st/0th column\n",
        "y_test = df_test.iloc[:, 0].values  # 1st/0th column\n",
        "\n",
        "\n",
        "# scaling the features to be within 0,1\n",
        "X_train = X_train / 255.0\n",
        "X_test = X_test / 255.0\n",
        "\n",
        "# create CustomDataset class\n",
        "class CustomDataset(Dataset):\n",
        "\n",
        "  # constructor to create the custom dataset\n",
        "  def __init__(self, features, labels):\n",
        "\n",
        "    # pytorch requires features to be in float32\n",
        "    self.features = torch.tensor(features, dtype=torch.float32)\n",
        "\n",
        "    # pytorch requires labels to be in long\n",
        "    self.labels = torch.tensor(labels, dtype=torch.long)\n",
        "\n",
        "  # to return the length of the dataset\n",
        "  def __len__(self):\n",
        "    #return len(self.features)\n",
        "    return self.features.shape[0]\n",
        "\n",
        "  # to return the row at a specific index in the dataset\n",
        "  def __getitem__(self, index):\n",
        "    return self.features[index], self.labels[index]\n",
        "\n",
        "# create train_dataset object\n",
        "train_dataset = CustomDataset(X_train, y_train)\n",
        "#print(len(train_dataset)) # should be 4800\n",
        "\n",
        "# create test_dataset object\n",
        "test_dataset = CustomDataset(X_test, y_test)\n",
        "#print(len(test_dataset))\n",
        "\n",
        "# create train and test loader objects\n",
        "train_loader = DataLoader(train_dataset, batch_size=128, shuffle=True, pin_memory=True, num_workers=2)\n",
        "# keep shuffling off for test loader\n",
        "test_loader = DataLoader(test_dataset, batch_size=128, shuffle=False, pin_memory=True, num_workers=2)\n",
        "# pin_memory=True makes the data to be stored in pinned memory,\n",
        "# instead of paged memory\n",
        "# this saves the time at execution of shfiting data from paged to pinned memory\n",
        "\n",
        "\n",
        "# create network class\n",
        "class MyMLP(nn.Module):\n",
        "\n",
        "  # constructure of the network which takes number of features as arguments\n",
        "  def __init__(self, num_features):\n",
        "\n",
        "    # invoke the constructer of the base/parent class\n",
        "    super().__init__()\n",
        "\n",
        "    # define the architecture of the network here\n",
        "    self.model = nn.Sequential(\n",
        "        nn.Linear(in_features=num_features, out_features=128),\n",
        "        # below line adds batch normalization\n",
        "        # argument = no. of neurons in the current layer\n",
        "        nn.BatchNorm1d(128),\n",
        "        nn.ReLU(),\n",
        "        # below line adds a dropout of 30% at this layer\n",
        "        nn.Dropout(p=0.3),\n",
        "        nn.Linear(in_features=128, out_features=64),\n",
        "        # below line adds batch normalization\n",
        "        # argument = no. of neurons in the current layer\n",
        "        nn.BatchNorm1d(64),\n",
        "        nn.ReLU(),\n",
        "        # below line adds a dropout of 30% at this layer\n",
        "        nn.Dropout(p=0.3),\n",
        "        nn.Linear(in_features=64, out_features=10),\n",
        "        #nn.Softmax()\n",
        "        # explicit addition of softmax activation is not required in pytorch\n",
        "        # because cross entropy loss function in pytorch\n",
        "        # internally has softmax implemented within it\n",
        "    )\n",
        "\n",
        "  # defining forward pass\n",
        "  def forward(self, x):\n",
        "    return self.model(x)\n",
        "\n",
        "# parameters setup\n",
        "epochs = 100\n",
        "learning_rate = 0.1\n",
        "\n",
        "# instantiate the model\n",
        "model = MyMLP(X_train.shape[1]) # passing the number of features as arg\n",
        "\n",
        "# moving the model to GPU\n",
        "model = model.to(device)\n",
        "\n",
        "# loss function\n",
        "criterion = nn.CrossEntropyLoss()\n",
        "\n",
        "# optimizer\n",
        "optimizer = optim.SGD(params=model.parameters(), lr=learning_rate, weight_decay=1e-4)\n",
        "# 1e-4 = 10 ** -4\n",
        "\n",
        "# training pipeline\n",
        "for epoch in range(epochs):\n",
        "\n",
        "  total_epoch_loss = 0\n",
        "\n",
        "  # mini-batch gradient descent\n",
        "  for batch_features, batch_labels in train_loader:\n",
        "\n",
        "    # move the data to GPU\n",
        "    batch_features= batch_features.to(device)\n",
        "    batch_labels = batch_labels.to(device)\n",
        "\n",
        "    # forward pass\n",
        "    y_pred = model(batch_features)\n",
        "\n",
        "    # loss calculation\n",
        "    loss = criterion(y_pred, batch_labels)\n",
        "\n",
        "    # flush the gradients\n",
        "    optimizer.zero_grad()\n",
        "\n",
        "    # backward pass / back-propagation\n",
        "    loss.backward() # this will calculate the gradients\n",
        "\n",
        "    # update parameters using calculated gradients\n",
        "    optimizer.step()\n",
        "\n",
        "    # epoch loss addition\n",
        "    total_epoch_loss += loss.item()\n",
        "\n",
        "  # average loss in each epoch\n",
        "  print(f\"Epoch {epoch + 1} loss: {total_epoch_loss/len(train_loader)}\")\n",
        "\n",
        "\n",
        "# set the model to evaluation mode\n",
        "# if we have dropouts in our network\n",
        "# then on each run/train some neurons are turned off\n",
        "# but during evaluation we want all the neurons to participate\n",
        "# model.eval() enforces evaluation behavior which is different than training behavior\n",
        "# if we have batch normalization in our network\n",
        "# then on each run it calculated some statistics and uses it\n",
        "# but during evaluation we don't want that to happen\n",
        "# model.eval() enforces evaluation behavior which is different than training behavior\n",
        "model.eval()\n",
        "\n",
        "# evaluation code\n",
        "total = 0\n",
        "correct = 0\n",
        "\n",
        "# to run without tracking the gradient functions\n",
        "with torch.no_grad():\n",
        "  for batch_features, batch_labels in test_loader:\n",
        "\n",
        "    # move the data to GPU\n",
        "    batch_features= batch_features.to(device)\n",
        "    batch_labels = batch_labels.to(device)\n",
        "\n",
        "    # forward pass\n",
        "    y_pred = model(batch_features)\n",
        "    _,predicted_class = torch.max(y_pred, 1)\n",
        "    total += batch_labels.shape[0]\n",
        "    correct += (batch_labels == predicted_class).sum().item()\n",
        "print(f\"Accuracy of the model on test data: {correct/total}\")\n",
        "\n",
        "# evaluation code\n",
        "total = 0\n",
        "correct = 0\n",
        "\n",
        "# to run without tracking the gradient functions\n",
        "with torch.no_grad():\n",
        "  for batch_features, batch_labels in train_loader:\n",
        "\n",
        "    # move the data to GPU\n",
        "    batch_features= batch_features.to(device)\n",
        "    batch_labels = batch_labels.to(device)\n",
        "\n",
        "    # forward pass\n",
        "    y_pred = model(batch_features)\n",
        "    _,predicted_class = torch.max(y_pred, 1)\n",
        "    total += batch_labels.shape[0]\n",
        "    correct += (batch_labels == predicted_class).sum().item()\n",
        "print(f\"Accuracy of the model on train data: {correct/total}\")"
      ],
      "metadata": {
        "colab": {
          "base_uri": "https://localhost:8080/",
          "height": 1000
        },
        "id": "geXiB4V7lnqt",
        "outputId": "e58a353e-8e1c-448e-dcf1-a14a88d402da"
      },
      "execution_count": null,
      "outputs": [
        {
          "output_type": "stream",
          "name": "stdout",
          "text": [
            "Drive already mounted at /content/drive; to attempt to forcibly remount, call drive.mount(\"/content/drive\", force_remount=True).\n"
          ]
        },
        {
          "output_type": "display_data",
          "data": {
            "text/plain": [
              "<Figure size 1000x1000 with 16 Axes>"
            ],
            "image/png": "[encoded data removed]"
          },
          "metadata": {}
        },
        {
          "output_type": "stream",
          "name": "stdout",
          "text": [
            "Epoch 1 loss: 0.6332025591498499\n",
            "Epoch 2 loss: 0.4713677552971504\n",
            "Epoch 3 loss: 0.4306247016069477\n",
            "Epoch 4 loss: 0.4053630803439663\n",
            "Epoch 5 loss: 0.3880869724603096\n",
            "Epoch 6 loss: 0.3757582092399536\n",
            "Epoch 7 loss: 0.3653395939419773\n",
            "Epoch 8 loss: 0.35228954970455373\n",
            "Epoch 9 loss: 0.346660172411882\n",
            "Epoch 10 loss: 0.3375610649776357\n",
            "Epoch 11 loss: 0.33719158830291934\n",
            "Epoch 12 loss: 0.324144686494809\n",
            "Epoch 13 loss: 0.3186852351180526\n",
            "Epoch 14 loss: 0.3181368979309668\n",
            "Epoch 15 loss: 0.3120345461533776\n",
            "Epoch 16 loss: 0.30176891580319354\n",
            "Epoch 17 loss: 0.30199464119827824\n",
            "Epoch 18 loss: 0.2972175811590162\n",
            "Epoch 19 loss: 0.2930078647856011\n",
            "Epoch 20 loss: 0.28790363437458394\n",
            "Epoch 21 loss: 0.2876099247032645\n",
            "Epoch 22 loss: 0.2838315256813696\n",
            "Epoch 23 loss: 0.2824035915357472\n",
            "Epoch 24 loss: 0.27452918588479697\n",
            "Epoch 25 loss: 0.27367353398027194\n",
            "Epoch 26 loss: 0.2732595296810939\n",
            "Epoch 27 loss: 0.26913304236143637\n",
            "Epoch 28 loss: 0.2673099422251492\n",
            "Epoch 29 loss: 0.2627567062055124\n",
            "Epoch 30 loss: 0.25955686306775505\n",
            "Epoch 31 loss: 0.2605969104399559\n",
            "Epoch 32 loss: 0.25632712060708734\n",
            "Epoch 33 loss: 0.25526509000294245\n",
            "Epoch 34 loss: 0.2538252665734749\n",
            "Epoch 35 loss: 0.25073465822475044\n",
            "Epoch 36 loss: 0.24911840565041946\n",
            "Epoch 37 loss: 0.24719005551483078\n",
            "Epoch 38 loss: 0.2461340889684173\n",
            "Epoch 39 loss: 0.24427703486830948\n",
            "Epoch 40 loss: 0.24532706981528796\n",
            "Epoch 41 loss: 0.24022375048795488\n",
            "Epoch 42 loss: 0.24000898303825463\n",
            "Epoch 43 loss: 0.23714535843843082\n",
            "Epoch 44 loss: 0.2381747804248511\n",
            "Epoch 45 loss: 0.23482182560000084\n",
            "Epoch 46 loss: 0.233902838168495\n",
            "Epoch 47 loss: 0.23215888491444497\n",
            "Epoch 48 loss: 0.2285311471011593\n",
            "Epoch 49 loss: 0.22992590837069413\n",
            "Epoch 50 loss: 0.22747720526988063\n",
            "Epoch 51 loss: 0.22639693589861204\n",
            "Epoch 52 loss: 0.22770529820212423\n",
            "Epoch 53 loss: 0.22560157590329266\n",
            "Epoch 54 loss: 0.22173105237453478\n",
            "Epoch 55 loss: 0.22193659098544863\n",
            "Epoch 56 loss: 0.22247781094584637\n",
            "Epoch 57 loss: 0.22129062132667632\n",
            "Epoch 58 loss: 0.21731771033074557\n",
            "Epoch 59 loss: 0.21806433669793834\n",
            "Epoch 60 loss: 0.21470395880721527\n",
            "Epoch 61 loss: 0.21642970559058158\n",
            "Epoch 62 loss: 0.21589625312257676\n",
            "Epoch 63 loss: 0.21415944840671666\n",
            "Epoch 64 loss: 0.21498730032047483\n",
            "Epoch 65 loss: 0.21059572201039492\n",
            "Epoch 66 loss: 0.2138471125380825\n",
            "Epoch 67 loss: 0.21100908964236917\n",
            "Epoch 68 loss: 0.20587723686306209\n",
            "Epoch 69 loss: 0.20771155762138652\n",
            "Epoch 70 loss: 0.20976319117968018\n",
            "Epoch 71 loss: 0.20731674026705818\n",
            "Epoch 72 loss: 0.20503179929149684\n",
            "Epoch 73 loss: 0.20581273632898514\n",
            "Epoch 74 loss: 0.2067392930579084\n",
            "Epoch 75 loss: 0.20359506691569712\n",
            "Epoch 76 loss: 0.2027876105294553\n",
            "Epoch 77 loss: 0.20331592902318754\n",
            "Epoch 78 loss: 0.20176673569341205\n",
            "Epoch 79 loss: 0.20513207748182802\n",
            "Epoch 80 loss: 0.1992204117177646\n",
            "Epoch 81 loss: 0.20294637403000138\n",
            "Epoch 82 loss: 0.19645542281268757\n",
            "Epoch 83 loss: 0.19816276383425382\n",
            "Epoch 84 loss: 0.20210991439216935\n",
            "Epoch 85 loss: 0.19766047590577018\n",
            "Epoch 86 loss: 0.2006882738266418\n",
            "Epoch 87 loss: 0.19614901039391947\n",
            "Epoch 88 loss: 0.1937853032941503\n",
            "Epoch 89 loss: 0.19682645510191094\n",
            "Epoch 90 loss: 0.19460532139105075\n",
            "Epoch 91 loss: 0.19178497784935844\n",
            "Epoch 92 loss: 0.19337287343450701\n",
            "Epoch 93 loss: 0.19288952002075435\n",
            "Epoch 94 loss: 0.19379073989861556\n",
            "Epoch 95 loss: 0.19057976689610653\n",
            "Epoch 96 loss: 0.19176427327366527\n",
            "Epoch 97 loss: 0.1869713115348999\n",
            "Epoch 98 loss: 0.1904275559667331\n",
            "Epoch 99 loss: 0.18893421042575512\n",
            "Epoch 100 loss: 0.18968513021781755\n",
            "Accuracy of the model on test data: 0.8977\n",
            "Accuracy of the model on train data: 0.95645\n"
          ]
        }
      ]
    },
    {
      "cell_type": "markdown",
      "source": [
        "# 20. RNNs using PyTorch\n",
        "\n",
        "\n",
        "\n",
        "\n",
        "1.   Load dataset\n",
        "2.   Generate embeddings\n",
        "3.   Build RNN architecture\n",
        "4.   Train on data\n",
        "5.   Predictions\n",
        "\n"
      ],
      "metadata": {
        "id": "y-0T0Ipy3sUW"
      }
    },
    {
      "cell_type": "code",
      "source": [
        "# imports\n",
        "import pandas as pd\n",
        "import torch.optim as optim\n",
        "from sklearn.model_selection import train_test_split\n",
        "\n",
        "# set random seed for reproducibility\n",
        "torch.manual_seed(42)\n",
        "\n",
        "# connecting to google drive to fetch the data\n",
        "from google.colab import drive\n",
        "drive.mount('/content/drive')\n",
        "\n",
        "# loading the data from fmnist_small.csv\n",
        "df = pd.read_csv(\"/content/drive/My Drive/100_Unique_QA_Dataset.csv\")\n",
        "\n",
        "#print(df.head())\n",
        "\n",
        "\n",
        "# converting the textual data to numerical data\n",
        "# tokenize\n",
        "def tokenize(text):\n",
        "  text = text.lower()\n",
        "  text = text.replace(\"?\",\"\")\n",
        "  text = text.replace(\"'\",\"\")\n",
        "  return text.split()\n",
        "\n",
        "# vocabulary formation\n",
        "vocab = {'<UNK>': 0}\n",
        "def build_vocab(row):\n",
        "  tokenized_q = tokenize(row['question'])\n",
        "  tokenized_a = tokenize(row['answer'])\n",
        "\n",
        "  merged_tokens = tokenized_q + tokenized_a\n",
        "\n",
        "  for token in merged_tokens:\n",
        "    if token not in vocab:\n",
        "      vocab[token] = len(vocab)\n",
        "\n",
        "df.apply(build_vocab, axis=1)\n",
        "#print(vocab)\n",
        "\n",
        "# convert words to numbers\n",
        "def text_to_indices(text, vocab):\n",
        "  indexed_text = []\n",
        "  for token in tokenize(text):\n",
        "    if token in vocab:\n",
        "      indexed_text.append(vocab[token])\n",
        "    else:\n",
        "      indexed_text.append(0)\n",
        "  return indexed_text\n",
        "#print(text_to_indices(\"what is PyTorch\", vocab))\n",
        "\n",
        "import torch\n",
        "from torch.utils.data import Dataset, DataLoader\n",
        "\n",
        "# create CustomDataset class\n",
        "class QADataset(Dataset):\n",
        "\n",
        "  # constructor to create the custom dataset\n",
        "  def __init__(self, df, vocab):\n",
        "    self.df = df\n",
        "    self.vocab = vocab\n",
        "\n",
        "  # to return the length of the dataset\n",
        "  def __len__(self):\n",
        "    return self.df.shape[0]\n",
        "\n",
        "  # to return the row at a specific index in the dataset\n",
        "  def __getitem__(self, index):\n",
        "    num_q = text_to_indices(self.df.iloc[index]['question'], self.vocab)\n",
        "    num_a = text_to_indices(self.df.iloc[index]['answer'], self.vocab)\n",
        "    return torch.tensor(num_q), torch.tensor(num_a)\n",
        "\n",
        "# create train_dataset object\n",
        "dataset = QADataset(df, vocab)\n",
        "dataset[0]\n",
        "\n",
        "# create train dataloader objects\n",
        "dataloader = DataLoader(dataset=dataset, batch_size=1, shuffle=True)\n",
        "\n",
        "import torch.nn as nn\n",
        "# architecture of RNN\n",
        "# create network class\n",
        "class MyRNN(nn.Module):\n",
        "\n",
        "  # constructure of the network which takes number of features as arguments\n",
        "  def __init__(self, vocab_size):\n",
        "\n",
        "    # invoke the constructer of the base/parent class\n",
        "    super().__init__()\n",
        "\n",
        "    # creating an embedding layer to create embeddings for each sentence\n",
        "    self.embedding = nn.Embedding(num_embeddings=vocab_size, embedding_dim=50)\n",
        "\n",
        "    # define the architecture of the RNN here\n",
        "    self.model = nn.RNN(input_size=50, hidden_size=64, batch_first=True)\n",
        "    # output layer\n",
        "    self.fullyConnectedLayer = nn.Linear(in_features=64, out_features=vocab_size)\n",
        "\n",
        "  # defining forward pass\n",
        "  def forward(self, q):\n",
        "    eq = self.embedding(q)\n",
        "    hidden, final = self.model(eq)\n",
        "    output = self.fullyConnectedLayer(final.squeeze(0))\n",
        "    return output\n",
        "\n",
        "# parameters setup\n",
        "epochs = 20\n",
        "learning_rate = 0.001\n",
        "\n",
        "# instantiate the model\n",
        "model = MyRNN(len(vocab))\n",
        "\n",
        "# moving the model to GPU\n",
        "#model = model.to(device)\n",
        "\n",
        "# loss function\n",
        "criterion = nn.CrossEntropyLoss()\n",
        "\n",
        "# optimizer\n",
        "optimizer = optim.Adam(params=model.parameters(), lr=learning_rate)\n",
        "\n",
        "# training pipeline\n",
        "for epoch in range(epochs):\n",
        "\n",
        "  total_epoch_loss = 0\n",
        "\n",
        "\n",
        "  for q, a in dataloader:\n",
        "\n",
        "    # flush the gradients\n",
        "    optimizer.zero_grad()\n",
        "\n",
        "    # forward pass\n",
        "    y_pred = model(q)\n",
        "\n",
        "    # loss calculation\n",
        "    loss = criterion(y_pred, a[0])\n",
        "\n",
        "    # backward pass / back-propagation\n",
        "    loss.backward() # this will calculate the gradients\n",
        "\n",
        "    # update parameters using calculated gradients\n",
        "    optimizer.step()\n",
        "\n",
        "    # epoch loss addition\n",
        "    total_epoch_loss += loss.item()\n",
        "\n",
        "  # average loss in each epoch\n",
        "  print(f\"Epoch {epoch + 1} loss: {total_epoch_loss/len(dataloader)}\")\n"
      ],
      "metadata": {
        "colab": {
          "base_uri": "https://localhost:8080/"
        },
        "id": "G1XlMZ-PvK9x",
        "outputId": "5bba5147-239e-4066-d032-376c3090b87a"
      },
      "execution_count": null,
      "outputs": [
        {
          "output_type": "stream",
          "name": "stdout",
          "text": [
            "Drive already mounted at /content/drive; to attempt to forcibly remount, call drive.mount(\"/content/drive\", force_remount=True).\n",
            "Epoch 1 loss: 5.807304090923733\n",
            "Epoch 2 loss: 5.042532036039565\n",
            "Epoch 3 loss: 4.1631626870897085\n",
            "Epoch 4 loss: 3.4861484355396692\n",
            "Epoch 5 loss: 2.9103642874293856\n",
            "Epoch 6 loss: 2.376625037855572\n",
            "Epoch 7 loss: 1.8850713319248624\n",
            "Epoch 8 loss: 1.46121327843931\n",
            "Epoch 9 loss: 1.1190572943952348\n",
            "Epoch 10 loss: 0.8476320866081449\n",
            "Epoch 11 loss: 0.6541618376970291\n",
            "Epoch 12 loss: 0.5068092417385843\n",
            "Epoch 13 loss: 0.40322100586361354\n",
            "Epoch 14 loss: 0.3261686795287662\n",
            "Epoch 15 loss: 0.2665705830686622\n",
            "Epoch 16 loss: 0.22147809854812092\n",
            "Epoch 17 loss: 0.18679873430066637\n",
            "Epoch 18 loss: 0.16014703487356505\n",
            "Epoch 19 loss: 0.1367866607175933\n",
            "Epoch 20 loss: 0.11840666967133681\n"
          ]
        }
      ]
    },
    {
      "cell_type": "markdown",
      "source": [
        "# 21. Trying multiple class inheritence in a network alongwith nn.Module"
      ],
      "metadata": {
        "id": "glVR4t76gXay"
      }
    },
    {
      "cell_type": "code",
      "source": [
        "# import libraries\n",
        "import numpy as np\n",
        "import pandas as pd\n",
        "import torch\n",
        "import torch.nn as nn\n",
        "from sklearn.model_selection import train_test_split\n",
        "from sklearn.preprocessing import StandardScaler\n",
        "from sklearn.preprocessing import LabelEncoder\n",
        "from abc import abstractmethod\n",
        "\n",
        "# fetch the dataset\n",
        "df = pd.read_csv('https://raw.githubusercontent.com/gscdit/Breast-Cancer-Detection/refs/heads/master/data.csv')\n",
        "\n",
        "# drop the unnecessary columns\n",
        "df.drop(columns=['id', 'Unnamed: 32'], inplace=True)\n",
        "\n",
        "# split the dataset into train and test\n",
        "X_train, X_test, y_train, y_test = train_test_split(df.iloc[:,1:], df.iloc[:,0], test_size=0.2)\n",
        "\n",
        "# scaling the values to make it ready for neural network feeding\n",
        "scaler = StandardScaler()\n",
        "X_train = scaler.fit_transform(X_train)\n",
        "X_test = scaler.transform(X_test)\n",
        "\n",
        "# label encoding from string names to numbers\n",
        "encoder = LabelEncoder()\n",
        "y_train = encoder.fit_transform(y_train)\n",
        "y_test = encoder.transform(y_test)\n",
        "\n",
        "# converting numPy arrays to PyTorch tensors\n",
        "X_train_tensor = torch.from_numpy(X_train).float()\n",
        "X_test_tensor = torch.from_numpy(X_test).float()\n",
        "y_train_tensor = torch.from_numpy(y_train).float()\n",
        "y_test_tensor = torch.from_numpy(y_test).float()\n",
        "#print(X_train_tensor.dtype)\n",
        "\n",
        "# create a custom dataset class\n",
        "from torch.utils.data import Dataset, DataLoader\n",
        "\n",
        "class CustomDataset(Dataset):\n",
        "\n",
        "  # constructor to create the custom dataset\n",
        "  def __init__(self, features, labels):\n",
        "    self.features = features\n",
        "    self.labels = labels\n",
        "\n",
        "  # to return the length of the dataset\n",
        "  def __len__(self):\n",
        "    return self.features.shape[0]\n",
        "\n",
        "  # to return the row at a specific index in the dataset\n",
        "  def __getitem__(self, index):\n",
        "    return self.features[index], self.labels[index]\n",
        "\n",
        "# creating train & test objects of CustomDataset class\n",
        "train_dataset = CustomDataset(features=X_train_tensor, labels=y_train_tensor)\n",
        "test_dataset = CustomDataset(features=X_test_tensor, labels=y_test_tensor)\n",
        "\n",
        "# creating train and test dataloaders\n",
        "train_loader = DataLoader(dataset=train_dataset, batch_size=32, shuffle=True)\n",
        "test_loader = DataLoader(dataset=test_dataset, batch_size=32, shuffle=True)\n",
        "\n",
        "# creating a base class\n",
        "class BaseNet():\n",
        "  \"\"\"Abstract base class for PyTorch deep learning networks.\"\"\"\n",
        "\n",
        "  @abstractmethod\n",
        "  def forward(self, input, **kwargs):\n",
        "      \"\"\"Define the forward pass in the network.\n",
        "\n",
        "      Parameters\n",
        "      ----------\n",
        "      input : tensor\n",
        "          The input data fed into the input layer\n",
        "\n",
        "      Returns\n",
        "      -------\n",
        "      output : tensor\n",
        "          The output data produced by the network,\n",
        "          it could represent predictions, features,\n",
        "          or any transformed data depending on the network's purpose\n",
        "          (e.g., logits for classification,\n",
        "          reconstructed data for autoencoders, etc.).\n",
        "          The exact shape and meaning of the output tensor\n",
        "          depend on the network architecture and the task.\n",
        "      \"\"\"\n",
        "      ...\n",
        "\n",
        "\n",
        "\n",
        "# creating the model class\n",
        "class SNNModel(nn.Module, BaseNet):\n",
        "\n",
        "  def __init__(self, num_features):\n",
        "\n",
        "    # invoking the parent class constructor\n",
        "    super().__init__()\n",
        "\n",
        "    # single neuron layer, perceptron\n",
        "    self.layer = nn.Linear(in_features=num_features, out_features=1)\n",
        "\n",
        "    # activaiton function\n",
        "    self.activation = nn.Sigmoid()\n",
        "\n",
        "  def forward(self, features):\n",
        "\n",
        "    # running through the layer\n",
        "    out = self.layer(features)\n",
        "\n",
        "    # passing through the activation function\n",
        "    out = self.activation(out)\n",
        "\n",
        "    return out\n",
        "\n",
        "# setup for training pipeline\n",
        "# here we are doing mini-batch gradient descent\n",
        "\n",
        "# defining the parameters\n",
        "learning_rate = 0.1\n",
        "epochs = 25\n",
        "batch_size = 32\n",
        "n_samples = len(X_train_tensor)\n",
        "\n",
        "# create the model\n",
        "model = SNNModel(X_train_tensor.shape[1]) # arg = number of features\n",
        "\n",
        "# defining optimizer\n",
        "optimizer = torch.optim.SGD(model.parameters(), lr=learning_rate)\n",
        "\n",
        "# defining the loss function\n",
        "loss_function = nn.BCELoss()\n",
        "\n",
        "# training pipeline\n",
        "for epoch in range(epochs):\n",
        "\n",
        "  # using DataLoader class for mini-batch GD\n",
        "  for batch_features, batch_labels in train_loader:\n",
        "\n",
        "    # forward pass\n",
        "    y_pred = model(batch_features)\n",
        "\n",
        "    # loss calculation\n",
        "    # reshape batch_labels to match y_pred's shape\n",
        "    loss = loss_function(y_pred, batch_labels.unsqueeze(1))\n",
        "\n",
        "    # clear gradients\n",
        "    optimizer.zero_grad()\n",
        "\n",
        "    # backward pass\n",
        "    loss.backward()\n",
        "\n",
        "    # parameters updation\n",
        "    optimizer.step()\n",
        "\n",
        "  # print loss in each epoch\n",
        "  print(f\"Epoch: {epoch + 1}, Loss: {loss.item()}\")\n",
        "\n",
        "# model evaluation using DataLoader class\n",
        "model.eval() # sets the model to evaluation mode\n",
        "accuracy_list = []\n",
        "\n",
        "with torch.no_grad():\n",
        "  for batch_features, batch_labels in test_loader:\n",
        "\n",
        "    # forward pass\n",
        "    y_pred = model(batch_features)\n",
        "    y_pred = (y_pred > 0.5).float() # convert probabilities to binary predictions\n",
        "\n",
        "    # calculate accuracy for current batch\n",
        "    batch_accuracy = (y_pred.unsqueeze(1) == batch_labels).float().mean()\n",
        "    accuracy_list.append(batch_accuracy)\n",
        "\n",
        "# calculate overall accuracy\n",
        "overall_accuracy = sum(accuracy_list)/len(accuracy_list)\n",
        "print(f\"Accuracy: {overall_accuracy.item()}\")"
      ],
      "metadata": {
        "colab": {
          "base_uri": "https://localhost:8080/"
        },
        "id": "UBUvcy29e818",
        "outputId": "70bb03f4-7905-49ab-d8bb-c1bca31d0931"
      },
      "execution_count": null,
      "outputs": [
        {
          "output_type": "stream",
          "name": "stdout",
          "text": [
            "Epoch: 1, Loss: 0.12674884498119354\n",
            "Epoch: 2, Loss: 0.13458169996738434\n",
            "Epoch: 3, Loss: 0.34255069494247437\n",
            "Epoch: 4, Loss: 0.07361936569213867\n",
            "Epoch: 5, Loss: 0.08901228755712509\n",
            "Epoch: 6, Loss: 0.06924562156200409\n",
            "Epoch: 7, Loss: 0.03633377328515053\n",
            "Epoch: 8, Loss: 0.05975295230746269\n",
            "Epoch: 9, Loss: 0.10973835736513138\n",
            "Epoch: 10, Loss: 0.07689330726861954\n",
            "Epoch: 11, Loss: 0.15353170037269592\n",
            "Epoch: 12, Loss: 0.03712707757949829\n",
            "Epoch: 13, Loss: 0.028567850589752197\n",
            "Epoch: 14, Loss: 0.2996513247489929\n",
            "Epoch: 15, Loss: 0.058688100427389145\n",
            "Epoch: 16, Loss: 0.09734749048948288\n",
            "Epoch: 17, Loss: 0.021213287487626076\n",
            "Epoch: 18, Loss: 0.018739376217126846\n",
            "Epoch: 19, Loss: 0.4389530122280121\n",
            "Epoch: 20, Loss: 0.09367755800485611\n",
            "Epoch: 21, Loss: 0.00854618102312088\n",
            "Epoch: 22, Loss: 0.12743161618709564\n",
            "Epoch: 23, Loss: 0.03130514174699783\n",
            "Epoch: 24, Loss: 0.04543492570519447\n",
            "Epoch: 25, Loss: 0.013930169865489006\n",
            "Accuracy: 0.5542775988578796\n"
          ]
        }
      ]
    },
    {
      "cell_type": "code",
      "source": [],
      "metadata": {
        "id": "BFxRTVeghaes"
      },
      "execution_count": null,
      "outputs": []
    }
  ]
}